{
 "cells": [
  {
   "cell_type": "code",
   "execution_count": 1,
   "metadata": {},
   "outputs": [],
   "source": [
    "import numpy as np\n",
    "import pandas as pd\n",
    "import matplotlib.pyplot as plt\n",
    "import seaborn as sns \n",
    "\n",
    "from sklearn.preprocessing import StandardScaler\n",
    "from sklearn.metrics import accuracy_score, f1_score\n",
    "from sklearn.model_selection import train_test_split\n",
    "\n",
    "from sklearn.tree import DecisionTreeClassifier\n",
    "from sklearn.ensemble import RandomForestClassifier\n",
    "from sklearn.neighbors import KNeighborsClassifier\n",
    "from sklearn.naive_bayes import GaussianNB\n",
    "from sklearn.svm import SVC"
   ]
  },
  {
   "cell_type": "markdown",
   "metadata": {},
   "source": [
    "<h1><center> Stroke Prediction </center></h1> \n",
    "<h5><center> Author: Vasil Kichukov </center></h5> "
   ]
  },
  {
   "cell_type": "markdown",
   "metadata": {},
   "source": [
    "## Abstract ##\n",
    "Stroke remains one of the leading causes of death and disability in Europe, with the problem expected to worsen as the population ages. Stroke is, fortunately, highly preventable and manageable if we improve our understanding of the risk level. As a result, the current study aims to develop a workable model that could be used in stroke prevention solely based on basic patient information such as age, smoking status, or BMI. In this notebook, I will analyze data from people who have undergone stroke testing."
   ]
  },
  {
   "cell_type": "markdown",
   "metadata": {},
   "source": [
    "## Introduction ##\n",
    "\n",
    "Stroke remains one of the leading causes of death and disability in Europe, and projections show that the burden of stroke will not decrease in the next decade or beyond if nothing changes. One important factor is that the number of older people in Europe is increasing, with a projected 35% increase between 2017 and 2050.  Fortunately, there is compelling evidence that stroke is highly preventable, treatable, and manageable, and that there is significant potential to significantly reduce the burden of stroke and its long-term consequences.\n",
    "\n",
    "To reduce the burden of stroke in the population, modifiable risk factors must be identified, as well as the efficacy of risk reduction efforts demonstrated. The risk factors include both modifiable (e.g., diet and comorbid conditions) and non-modifiable risk factors (eg, age, race). Furthermore, risk factors can be classified as short-term risks or triggers (for example, infectious events, sepsis, and stress), intermediate-term risk factors (for example, hypertension and hyperlipidemia), and long-term risk factors for stroke (eg, sex and race). For example, it is established that rural residence is associated with an increased rate of stroke and mortality after controlling for demographics, socioeconomic factors, health behaviors, traditional cardiovascular risk factors, and comorbid conditions.\n",
    "\n",
    "Also the principal findings of a study on the risk of recurrent stroke showed that (1) the cumulative 10-year risk of a first recurrent stroke was ≈40%; (2) after the first year after first-ever stroke, the average annual risk of recurrent stroke was ≈4%; (3) ≈40% of recurrent stroke events were fatal within 30 days, which is nearly twice the 30-day case fatality of a first-ever stroke; (4) about one seventh of 10-year survivors of first-ever stroke require institutional care; and (5) almost one half of 10-year survivors of stroke are disabled.\n"
   ]
  },
  {
   "cell_type": "markdown",
   "metadata": {},
   "source": [
    "## Dataset Representation ## \n",
    "\n",
    "The current study's goal is to create a usable model that predicts stroke risk based on basic information such as the patient's marital status or smoking status. Therefore the chosen data set is used to predict whether an individual is likely to have a stroke based on the following parameters and relevant information:\n",
    "\n",
    "0) id: unique identifier\n",
    "\n",
    "1) gender: \"Male\", \"Female\" or \"Other\"\n",
    "\n",
    "2) age: age of the patient\n",
    "\n",
    "3) hypertension: 0 if the patient doesn't have hypertension, 1 if the patient has hypertension\n",
    "\n",
    "4) heart_disease: 0 if the patient doesn't have any heart diseases, 1 if the patient has a heart disease\n",
    "\n",
    "5) ever_married: \"No\" or \"Yes\"\n",
    "\n",
    "6) work_type: \"children\", \"Govt_jov\", \"Never_worked\", \"Private\" or \"Self-employed\"\n",
    "\n",
    "7) Residence_type: \"Rural\" or \"Urban\"\n",
    "\n",
    "8) avg_glucose_level: average glucose level in blood\n",
    "\n",
    "9) bmi: Body Mass Index\n",
    "\n",
    "10) smoking_status: \"formerly smoked\", \"never smoked\", \"smokes\" or \"Unknown\"*\n",
    "\n",
    "11) stroke: 1 if the patient had a stroke or 0 if not"
   ]
  },
  {
   "cell_type": "markdown",
   "metadata": {},
   "source": [
    "## Reading, Tidying and Cleaning data"
   ]
  },
  {
   "cell_type": "code",
   "execution_count": 2,
   "metadata": {},
   "outputs": [
    {
     "data": {
      "text/html": [
       "<div>\n",
       "<style scoped>\n",
       "    .dataframe tbody tr th:only-of-type {\n",
       "        vertical-align: middle;\n",
       "    }\n",
       "\n",
       "    .dataframe tbody tr th {\n",
       "        vertical-align: top;\n",
       "    }\n",
       "\n",
       "    .dataframe thead th {\n",
       "        text-align: right;\n",
       "    }\n",
       "</style>\n",
       "<table border=\"1\" class=\"dataframe\">\n",
       "  <thead>\n",
       "    <tr style=\"text-align: right;\">\n",
       "      <th></th>\n",
       "      <th>id</th>\n",
       "      <th>gender</th>\n",
       "      <th>age</th>\n",
       "      <th>hypertension</th>\n",
       "      <th>heart_disease</th>\n",
       "      <th>ever_married</th>\n",
       "      <th>work_type</th>\n",
       "      <th>Residence_type</th>\n",
       "      <th>avg_glucose_level</th>\n",
       "      <th>bmi</th>\n",
       "      <th>smoking_status</th>\n",
       "      <th>stroke</th>\n",
       "    </tr>\n",
       "  </thead>\n",
       "  <tbody>\n",
       "    <tr>\n",
       "      <th>0</th>\n",
       "      <td>9046</td>\n",
       "      <td>Male</td>\n",
       "      <td>67.0</td>\n",
       "      <td>0</td>\n",
       "      <td>1</td>\n",
       "      <td>Yes</td>\n",
       "      <td>Private</td>\n",
       "      <td>Urban</td>\n",
       "      <td>228.69</td>\n",
       "      <td>36.6</td>\n",
       "      <td>formerly smoked</td>\n",
       "      <td>1</td>\n",
       "    </tr>\n",
       "    <tr>\n",
       "      <th>1</th>\n",
       "      <td>51676</td>\n",
       "      <td>Female</td>\n",
       "      <td>61.0</td>\n",
       "      <td>0</td>\n",
       "      <td>0</td>\n",
       "      <td>Yes</td>\n",
       "      <td>Self-employed</td>\n",
       "      <td>Rural</td>\n",
       "      <td>202.21</td>\n",
       "      <td>NaN</td>\n",
       "      <td>never smoked</td>\n",
       "      <td>1</td>\n",
       "    </tr>\n",
       "    <tr>\n",
       "      <th>2</th>\n",
       "      <td>31112</td>\n",
       "      <td>Male</td>\n",
       "      <td>80.0</td>\n",
       "      <td>0</td>\n",
       "      <td>1</td>\n",
       "      <td>Yes</td>\n",
       "      <td>Private</td>\n",
       "      <td>Rural</td>\n",
       "      <td>105.92</td>\n",
       "      <td>32.5</td>\n",
       "      <td>never smoked</td>\n",
       "      <td>1</td>\n",
       "    </tr>\n",
       "    <tr>\n",
       "      <th>3</th>\n",
       "      <td>60182</td>\n",
       "      <td>Female</td>\n",
       "      <td>49.0</td>\n",
       "      <td>0</td>\n",
       "      <td>0</td>\n",
       "      <td>Yes</td>\n",
       "      <td>Private</td>\n",
       "      <td>Urban</td>\n",
       "      <td>171.23</td>\n",
       "      <td>34.4</td>\n",
       "      <td>smokes</td>\n",
       "      <td>1</td>\n",
       "    </tr>\n",
       "    <tr>\n",
       "      <th>4</th>\n",
       "      <td>1665</td>\n",
       "      <td>Female</td>\n",
       "      <td>79.0</td>\n",
       "      <td>1</td>\n",
       "      <td>0</td>\n",
       "      <td>Yes</td>\n",
       "      <td>Self-employed</td>\n",
       "      <td>Rural</td>\n",
       "      <td>174.12</td>\n",
       "      <td>24.0</td>\n",
       "      <td>never smoked</td>\n",
       "      <td>1</td>\n",
       "    </tr>\n",
       "    <tr>\n",
       "      <th>...</th>\n",
       "      <td>...</td>\n",
       "      <td>...</td>\n",
       "      <td>...</td>\n",
       "      <td>...</td>\n",
       "      <td>...</td>\n",
       "      <td>...</td>\n",
       "      <td>...</td>\n",
       "      <td>...</td>\n",
       "      <td>...</td>\n",
       "      <td>...</td>\n",
       "      <td>...</td>\n",
       "      <td>...</td>\n",
       "    </tr>\n",
       "    <tr>\n",
       "      <th>5105</th>\n",
       "      <td>18234</td>\n",
       "      <td>Female</td>\n",
       "      <td>80.0</td>\n",
       "      <td>1</td>\n",
       "      <td>0</td>\n",
       "      <td>Yes</td>\n",
       "      <td>Private</td>\n",
       "      <td>Urban</td>\n",
       "      <td>83.75</td>\n",
       "      <td>NaN</td>\n",
       "      <td>never smoked</td>\n",
       "      <td>0</td>\n",
       "    </tr>\n",
       "    <tr>\n",
       "      <th>5106</th>\n",
       "      <td>44873</td>\n",
       "      <td>Female</td>\n",
       "      <td>81.0</td>\n",
       "      <td>0</td>\n",
       "      <td>0</td>\n",
       "      <td>Yes</td>\n",
       "      <td>Self-employed</td>\n",
       "      <td>Urban</td>\n",
       "      <td>125.20</td>\n",
       "      <td>40.0</td>\n",
       "      <td>never smoked</td>\n",
       "      <td>0</td>\n",
       "    </tr>\n",
       "    <tr>\n",
       "      <th>5107</th>\n",
       "      <td>19723</td>\n",
       "      <td>Female</td>\n",
       "      <td>35.0</td>\n",
       "      <td>0</td>\n",
       "      <td>0</td>\n",
       "      <td>Yes</td>\n",
       "      <td>Self-employed</td>\n",
       "      <td>Rural</td>\n",
       "      <td>82.99</td>\n",
       "      <td>30.6</td>\n",
       "      <td>never smoked</td>\n",
       "      <td>0</td>\n",
       "    </tr>\n",
       "    <tr>\n",
       "      <th>5108</th>\n",
       "      <td>37544</td>\n",
       "      <td>Male</td>\n",
       "      <td>51.0</td>\n",
       "      <td>0</td>\n",
       "      <td>0</td>\n",
       "      <td>Yes</td>\n",
       "      <td>Private</td>\n",
       "      <td>Rural</td>\n",
       "      <td>166.29</td>\n",
       "      <td>25.6</td>\n",
       "      <td>formerly smoked</td>\n",
       "      <td>0</td>\n",
       "    </tr>\n",
       "    <tr>\n",
       "      <th>5109</th>\n",
       "      <td>44679</td>\n",
       "      <td>Female</td>\n",
       "      <td>44.0</td>\n",
       "      <td>0</td>\n",
       "      <td>0</td>\n",
       "      <td>Yes</td>\n",
       "      <td>Govt_job</td>\n",
       "      <td>Urban</td>\n",
       "      <td>85.28</td>\n",
       "      <td>26.2</td>\n",
       "      <td>Unknown</td>\n",
       "      <td>0</td>\n",
       "    </tr>\n",
       "  </tbody>\n",
       "</table>\n",
       "<p>5110 rows × 12 columns</p>\n",
       "</div>"
      ],
      "text/plain": [
       "         id  gender   age  hypertension  heart_disease ever_married  \\\n",
       "0      9046    Male  67.0             0              1          Yes   \n",
       "1     51676  Female  61.0             0              0          Yes   \n",
       "2     31112    Male  80.0             0              1          Yes   \n",
       "3     60182  Female  49.0             0              0          Yes   \n",
       "4      1665  Female  79.0             1              0          Yes   \n",
       "...     ...     ...   ...           ...            ...          ...   \n",
       "5105  18234  Female  80.0             1              0          Yes   \n",
       "5106  44873  Female  81.0             0              0          Yes   \n",
       "5107  19723  Female  35.0             0              0          Yes   \n",
       "5108  37544    Male  51.0             0              0          Yes   \n",
       "5109  44679  Female  44.0             0              0          Yes   \n",
       "\n",
       "          work_type Residence_type  avg_glucose_level   bmi   smoking_status  \\\n",
       "0           Private          Urban             228.69  36.6  formerly smoked   \n",
       "1     Self-employed          Rural             202.21   NaN     never smoked   \n",
       "2           Private          Rural             105.92  32.5     never smoked   \n",
       "3           Private          Urban             171.23  34.4           smokes   \n",
       "4     Self-employed          Rural             174.12  24.0     never smoked   \n",
       "...             ...            ...                ...   ...              ...   \n",
       "5105        Private          Urban              83.75   NaN     never smoked   \n",
       "5106  Self-employed          Urban             125.20  40.0     never smoked   \n",
       "5107  Self-employed          Rural              82.99  30.6     never smoked   \n",
       "5108        Private          Rural             166.29  25.6  formerly smoked   \n",
       "5109       Govt_job          Urban              85.28  26.2          Unknown   \n",
       "\n",
       "      stroke  \n",
       "0          1  \n",
       "1          1  \n",
       "2          1  \n",
       "3          1  \n",
       "4          1  \n",
       "...      ...  \n",
       "5105       0  \n",
       "5106       0  \n",
       "5107       0  \n",
       "5108       0  \n",
       "5109       0  \n",
       "\n",
       "[5110 rows x 12 columns]"
      ]
     },
     "execution_count": 2,
     "metadata": {},
     "output_type": "execute_result"
    }
   ],
   "source": [
    "stroke_data = pd.read_csv(\"data/stroke-data.csv\")  \n",
    "stroke_data"
   ]
  },
  {
   "cell_type": "markdown",
   "metadata": {},
   "source": [
    "It looks like our first column represents unique value for every person. Let's check that for a second."
   ]
  },
  {
   "cell_type": "code",
   "execution_count": 3,
   "metadata": {},
   "outputs": [
    {
     "data": {
      "text/plain": [
       "0"
      ]
     },
     "execution_count": 3,
     "metadata": {},
     "output_type": "execute_result"
    }
   ],
   "source": [
    "stroke_data.shape[0] - len(stroke_data.id.unique())"
   ]
  },
  {
   "cell_type": "markdown",
   "metadata": {},
   "source": [
    "Yep, we can make our first column an index. "
   ]
  },
  {
   "cell_type": "code",
   "execution_count": 4,
   "metadata": {},
   "outputs": [
    {
     "data": {
      "text/html": [
       "<div>\n",
       "<style scoped>\n",
       "    .dataframe tbody tr th:only-of-type {\n",
       "        vertical-align: middle;\n",
       "    }\n",
       "\n",
       "    .dataframe tbody tr th {\n",
       "        vertical-align: top;\n",
       "    }\n",
       "\n",
       "    .dataframe thead th {\n",
       "        text-align: right;\n",
       "    }\n",
       "</style>\n",
       "<table border=\"1\" class=\"dataframe\">\n",
       "  <thead>\n",
       "    <tr style=\"text-align: right;\">\n",
       "      <th></th>\n",
       "      <th>gender</th>\n",
       "      <th>age</th>\n",
       "      <th>hypertension</th>\n",
       "      <th>heart_disease</th>\n",
       "      <th>ever_married</th>\n",
       "      <th>work_type</th>\n",
       "      <th>Residence_type</th>\n",
       "      <th>avg_glucose_level</th>\n",
       "      <th>bmi</th>\n",
       "      <th>smoking_status</th>\n",
       "      <th>stroke</th>\n",
       "    </tr>\n",
       "    <tr>\n",
       "      <th>id</th>\n",
       "      <th></th>\n",
       "      <th></th>\n",
       "      <th></th>\n",
       "      <th></th>\n",
       "      <th></th>\n",
       "      <th></th>\n",
       "      <th></th>\n",
       "      <th></th>\n",
       "      <th></th>\n",
       "      <th></th>\n",
       "      <th></th>\n",
       "    </tr>\n",
       "  </thead>\n",
       "  <tbody>\n",
       "    <tr>\n",
       "      <th>9046</th>\n",
       "      <td>Male</td>\n",
       "      <td>67.0</td>\n",
       "      <td>0</td>\n",
       "      <td>1</td>\n",
       "      <td>Yes</td>\n",
       "      <td>Private</td>\n",
       "      <td>Urban</td>\n",
       "      <td>228.69</td>\n",
       "      <td>36.6</td>\n",
       "      <td>formerly smoked</td>\n",
       "      <td>1</td>\n",
       "    </tr>\n",
       "    <tr>\n",
       "      <th>51676</th>\n",
       "      <td>Female</td>\n",
       "      <td>61.0</td>\n",
       "      <td>0</td>\n",
       "      <td>0</td>\n",
       "      <td>Yes</td>\n",
       "      <td>Self-employed</td>\n",
       "      <td>Rural</td>\n",
       "      <td>202.21</td>\n",
       "      <td>NaN</td>\n",
       "      <td>never smoked</td>\n",
       "      <td>1</td>\n",
       "    </tr>\n",
       "    <tr>\n",
       "      <th>31112</th>\n",
       "      <td>Male</td>\n",
       "      <td>80.0</td>\n",
       "      <td>0</td>\n",
       "      <td>1</td>\n",
       "      <td>Yes</td>\n",
       "      <td>Private</td>\n",
       "      <td>Rural</td>\n",
       "      <td>105.92</td>\n",
       "      <td>32.5</td>\n",
       "      <td>never smoked</td>\n",
       "      <td>1</td>\n",
       "    </tr>\n",
       "    <tr>\n",
       "      <th>60182</th>\n",
       "      <td>Female</td>\n",
       "      <td>49.0</td>\n",
       "      <td>0</td>\n",
       "      <td>0</td>\n",
       "      <td>Yes</td>\n",
       "      <td>Private</td>\n",
       "      <td>Urban</td>\n",
       "      <td>171.23</td>\n",
       "      <td>34.4</td>\n",
       "      <td>smokes</td>\n",
       "      <td>1</td>\n",
       "    </tr>\n",
       "    <tr>\n",
       "      <th>1665</th>\n",
       "      <td>Female</td>\n",
       "      <td>79.0</td>\n",
       "      <td>1</td>\n",
       "      <td>0</td>\n",
       "      <td>Yes</td>\n",
       "      <td>Self-employed</td>\n",
       "      <td>Rural</td>\n",
       "      <td>174.12</td>\n",
       "      <td>24.0</td>\n",
       "      <td>never smoked</td>\n",
       "      <td>1</td>\n",
       "    </tr>\n",
       "  </tbody>\n",
       "</table>\n",
       "</div>"
      ],
      "text/plain": [
       "       gender   age  hypertension  heart_disease ever_married      work_type  \\\n",
       "id                                                                             \n",
       "9046     Male  67.0             0              1          Yes        Private   \n",
       "51676  Female  61.0             0              0          Yes  Self-employed   \n",
       "31112    Male  80.0             0              1          Yes        Private   \n",
       "60182  Female  49.0             0              0          Yes        Private   \n",
       "1665   Female  79.0             1              0          Yes  Self-employed   \n",
       "\n",
       "      Residence_type  avg_glucose_level   bmi   smoking_status  stroke  \n",
       "id                                                                      \n",
       "9046           Urban             228.69  36.6  formerly smoked       1  \n",
       "51676          Rural             202.21   NaN     never smoked       1  \n",
       "31112          Rural             105.92  32.5     never smoked       1  \n",
       "60182          Urban             171.23  34.4           smokes       1  \n",
       "1665           Rural             174.12  24.0     never smoked       1  "
      ]
     },
     "execution_count": 4,
     "metadata": {},
     "output_type": "execute_result"
    }
   ],
   "source": [
    "stroke_data.index = stroke_data[\"id\"]\n",
    "stroke_data = stroke_data.drop(\"id\", axis=1)\n",
    "stroke_data.head()"
   ]
  },
  {
   "cell_type": "code",
   "execution_count": 5,
   "metadata": {},
   "outputs": [
    {
     "name": "stdout",
     "output_type": "stream",
     "text": [
      "1 . gender \n",
      " ['Male' 'Female' 'Other'] \n",
      "\n",
      "2 . age \n",
      " [6.70e+01 6.10e+01 8.00e+01 4.90e+01 7.90e+01 8.10e+01 7.40e+01 6.90e+01\n",
      " 5.90e+01 7.80e+01 5.40e+01 5.00e+01 6.40e+01 7.50e+01 6.00e+01 5.70e+01\n",
      " 7.10e+01 5.20e+01 8.20e+01 6.50e+01 5.80e+01 4.20e+01 4.80e+01 7.20e+01\n",
      " 6.30e+01 7.60e+01 3.90e+01 7.70e+01 7.30e+01 5.60e+01 4.50e+01 7.00e+01\n",
      " 6.60e+01 5.10e+01 4.30e+01 6.80e+01 4.70e+01 5.30e+01 3.80e+01 5.50e+01\n",
      " 1.32e+00 4.60e+01 3.20e+01 1.40e+01 3.00e+00 8.00e+00 3.70e+01 4.00e+01\n",
      " 3.50e+01 2.00e+01 4.40e+01 2.50e+01 2.70e+01 2.30e+01 1.70e+01 1.30e+01\n",
      " 4.00e+00 1.60e+01 2.20e+01 3.00e+01 2.90e+01 1.10e+01 2.10e+01 1.80e+01\n",
      " 3.30e+01 2.40e+01 3.40e+01 3.60e+01 6.40e-01 4.10e+01 8.80e-01 5.00e+00\n",
      " 2.60e+01 3.10e+01 7.00e+00 1.20e+01 6.20e+01 2.00e+00 9.00e+00 1.50e+01\n",
      " 2.80e+01 1.00e+01 1.80e+00 3.20e-01 1.08e+00 1.90e+01 6.00e+00 1.16e+00\n",
      " 1.00e+00 1.40e+00 1.72e+00 2.40e-01 1.64e+00 1.56e+00 7.20e-01 1.88e+00\n",
      " 1.24e+00 8.00e-01 4.00e-01 8.00e-02 1.48e+00 5.60e-01 4.80e-01 1.60e-01] \n",
      "\n",
      "3 . hypertension \n",
      " [0 1] \n",
      "\n",
      "4 . heart_disease \n",
      " [1 0] \n",
      "\n",
      "5 . ever_married \n",
      " ['Yes' 'No'] \n",
      "\n",
      "6 . work_type \n",
      " ['Private' 'Self-employed' 'Govt_job' 'children' 'Never_worked'] \n",
      "\n",
      "7 . Residence_type \n",
      " ['Urban' 'Rural'] \n",
      "\n",
      "8 . avg_glucose_level \n",
      " [228.69 202.21 105.92 ...  82.99 166.29  85.28] \n",
      "\n",
      "9 . bmi \n",
      " [36.6  nan 32.5 34.4 24.  29.  27.4 22.8 24.2 29.7 36.8 27.3 28.2 30.9\n",
      " 37.5 25.8 37.8 22.4 48.9 26.6 27.2 23.5 28.3 44.2 25.4 22.2 30.5 26.5\n",
      " 33.7 23.1 32.  29.9 23.9 28.5 26.4 20.2 33.6 38.6 39.2 27.7 31.4 36.5\n",
      " 33.2 32.8 40.4 25.3 30.2 47.5 20.3 30.  28.9 28.1 31.1 21.7 27.  24.1\n",
      " 45.9 44.1 22.9 29.1 32.3 41.1 25.6 29.8 26.3 26.2 29.4 24.4 28.  28.8\n",
      " 34.6 19.4 30.3 41.5 22.6 56.6 27.1 31.3 31.  31.7 35.8 28.4 20.1 26.7\n",
      " 38.7 34.9 25.  23.8 21.8 27.5 24.6 32.9 26.1 31.9 34.1 36.9 37.3 45.7\n",
      " 34.2 23.6 22.3 37.1 45.  25.5 30.8 37.4 34.5 27.9 29.5 46.  42.5 35.5\n",
      " 26.9 45.5 31.5 33.  23.4 30.7 20.5 21.5 40.  28.6 42.2 29.6 35.4 16.9\n",
      " 26.8 39.3 32.6 35.9 21.2 42.4 40.5 36.7 29.3 19.6 18.  17.6 19.1 50.1\n",
      " 17.7 54.6 35.  22.  39.4 19.7 22.5 25.2 41.8 60.9 23.7 24.5 31.2 16.\n",
      " 31.6 25.1 24.8 18.3 20.  19.5 36.  35.3 40.1 43.1 21.4 34.3 27.6 16.5\n",
      " 24.3 25.7 21.9 38.4 25.9 54.7 18.6 24.9 48.2 20.7 39.5 23.3 64.8 35.1\n",
      " 43.6 21.  47.3 16.6 21.6 15.5 35.6 16.7 41.9 16.4 17.1 29.2 37.9 44.6\n",
      " 39.6 40.3 41.6 39.  23.2 18.9 36.1 36.3 46.5 16.8 46.6 35.2 20.9 13.8\n",
      " 31.8 15.3 38.2 45.2 17.  49.8 27.8 60.2 23.  22.1 26.  44.3 51.  39.7\n",
      " 34.7 21.3 41.2 34.8 19.2 35.7 40.8 24.7 19.  32.4 34.  28.7 32.1 51.5\n",
      " 20.4 30.6 71.9 19.3 40.9 17.2 16.1 16.2 40.6 18.4 21.1 42.3 32.2 50.2\n",
      " 17.5 18.7 42.1 47.8 20.8 30.1 17.3 36.4 12.  36.2 55.7 14.4 43.  41.7\n",
      " 33.8 43.9 22.7 57.5 37.  38.5 16.3 44.  32.7 54.2 40.2 33.3 17.4 41.3\n",
      " 52.3 14.6 17.8 46.1 33.1 18.1 43.8 50.3 38.9 43.7 39.9 15.9 19.8 12.3\n",
      " 78.  38.3 41.  42.6 43.4 15.1 20.6 33.5 43.2 30.4 38.  33.4 44.9 44.7\n",
      " 37.6 39.8 53.4 55.2 42.  37.2 42.8 18.8 42.9 14.3 37.7 48.4 50.6 46.2\n",
      " 49.5 43.3 33.9 18.5 44.5 45.4 55.  54.8 19.9 17.9 15.6 52.8 15.2 66.8\n",
      " 55.1 18.2 48.5 55.9 57.3 10.3 14.1 15.7 56.  44.8 13.4 51.8 38.1 57.7\n",
      " 44.4 38.8 49.3 39.1 54.  56.1 97.6 53.9 13.7 11.5 41.4 14.2 49.4 15.4\n",
      " 45.1 49.2 48.7 53.8 42.7 48.8 52.7 53.5 50.5 15.8 45.3 14.8 51.9 63.3\n",
      " 40.7 61.2 48.  46.8 48.3 58.1 50.4 11.3 12.8 13.5 14.5 15.  59.7 47.4\n",
      " 52.5 13.2 52.9 61.6 49.9 54.3 47.9 13.  13.9 50.9 57.2 64.4 92.  50.8\n",
      " 57.9 45.8 47.6 14.  46.4 46.9 47.1 13.3 48.1 51.7 46.3 54.1 14.9] \n",
      "\n",
      "10 . smoking_status \n",
      " ['formerly smoked' 'never smoked' 'smokes' 'Unknown'] \n",
      "\n",
      "11 . stroke \n",
      " [1 0] \n",
      "\n"
     ]
    }
   ],
   "source": [
    "count = 1\n",
    "for column in stroke_data.columns:\n",
    "    print(count,\".\", column,\"\\n\", stroke_data[column].unique(), \"\\n\")\n",
    "    count +=1"
   ]
  },
  {
   "cell_type": "code",
   "execution_count": 6,
   "metadata": {},
   "outputs": [
    {
     "data": {
      "text/plain": [
       "Female    2994\n",
       "Male      2115\n",
       "Other        1\n",
       "Name: gender, dtype: int64"
      ]
     },
     "execution_count": 6,
     "metadata": {},
     "output_type": "execute_result"
    }
   ],
   "source": [
    "stroke_data[\"gender\"].value_counts()"
   ]
  },
  {
   "cell_type": "markdown",
   "metadata": {},
   "source": [
    "I notice that in our column \"gender\", we have category Other. It's only one person so i will delete him from the dataset."
   ]
  },
  {
   "cell_type": "code",
   "execution_count": 7,
   "metadata": {},
   "outputs": [],
   "source": [
    "stroke_data.drop(stroke_data[stroke_data[\"gender\"] == \"Other\"].index, inplace= True)"
   ]
  },
  {
   "cell_type": "code",
   "execution_count": 8,
   "metadata": {},
   "outputs": [
    {
     "data": {
      "text/plain": [
       "gender                object\n",
       "age                  float64\n",
       "hypertension           int64\n",
       "heart_disease          int64\n",
       "ever_married          object\n",
       "work_type             object\n",
       "Residence_type        object\n",
       "avg_glucose_level    float64\n",
       "bmi                  float64\n",
       "smoking_status        object\n",
       "stroke                 int64\n",
       "dtype: object"
      ]
     },
     "execution_count": 8,
     "metadata": {},
     "output_type": "execute_result"
    }
   ],
   "source": [
    "stroke_data.dtypes"
   ]
  },
  {
   "cell_type": "code",
   "execution_count": 9,
   "metadata": {},
   "outputs": [
    {
     "data": {
      "text/plain": [
       "gender                 0\n",
       "age                    0\n",
       "hypertension           0\n",
       "heart_disease          0\n",
       "ever_married           0\n",
       "work_type              0\n",
       "Residence_type         0\n",
       "avg_glucose_level      0\n",
       "bmi                  201\n",
       "smoking_status         0\n",
       "stroke                 0\n",
       "dtype: int64"
      ]
     },
     "execution_count": 9,
     "metadata": {},
     "output_type": "execute_result"
    }
   ],
   "source": [
    "stroke_data.isnull().sum()"
   ]
  },
  {
   "cell_type": "markdown",
   "metadata": {},
   "source": [
    "Body mass index (BMI) is the only colum in our dataset with NaN values. My opinion is that this indicator plays an important role in the revisions that will be made subsequently. Since the null values are only 4% of our dataset, I think they should be replaced by the mean value of the column."
   ]
  },
  {
   "cell_type": "code",
   "execution_count": 10,
   "metadata": {},
   "outputs": [],
   "source": [
    "stroke_data[\"bmi\"].fillna(stroke_data[\"bmi\"].mean(), inplace=True)"
   ]
  },
  {
   "cell_type": "code",
   "execution_count": 11,
   "metadata": {},
   "outputs": [
    {
     "data": {
      "text/plain": [
       "gender               0\n",
       "age                  0\n",
       "hypertension         0\n",
       "heart_disease        0\n",
       "ever_married         0\n",
       "work_type            0\n",
       "Residence_type       0\n",
       "avg_glucose_level    0\n",
       "bmi                  0\n",
       "smoking_status       0\n",
       "stroke               0\n",
       "dtype: int64"
      ]
     },
     "execution_count": 11,
     "metadata": {},
     "output_type": "execute_result"
    }
   ],
   "source": [
    "stroke_data.isnull().sum()"
   ]
  },
  {
   "cell_type": "markdown",
   "metadata": {},
   "source": [
    "## Understanding and Visualizing the data"
   ]
  },
  {
   "cell_type": "code",
   "execution_count": 12,
   "metadata": {},
   "outputs": [],
   "source": [
    "categorical_columns = [ 'gender', 'ever_married', 'work_type', 'Residence_type', 'smoking_status'] # 5 columns - object categorical variables\n",
    "numeric_categorical_columns = 'hypertension', 'heart_disease' # 2 columns - numeric categorical variables\n",
    "continuous_columns = ['age', 'avg_glucose_level', 'bmi'] # 3 columns - float64"
   ]
  },
  {
   "cell_type": "markdown",
   "metadata": {},
   "source": [
    "### Categorical columns distribution"
   ]
  },
  {
   "cell_type": "code",
   "execution_count": 13,
   "metadata": {
    "scrolled": false
   },
   "outputs": [
    {
     "data": {
      "image/png": "[encoded data removed]",
      "text/plain": [
       "<Figure size 720x360 with 1 Axes>"
      ]
     },
     "metadata": {
      "needs_background": "light"
     },
     "output_type": "display_data"
    },
    {
     "data": {
      "image/png": "[encoded data removed]",
      "text/plain": [
       "<Figure size 720x360 with 1 Axes>"
      ]
     },
     "metadata": {
      "needs_background": "light"
     },
     "output_type": "display_data"
    },
    {
     "data": {
      "image/png": "[encoded data removed]",
      "text/plain": [
       "<Figure size 720x360 with 1 Axes>"
      ]
     },
     "metadata": {
      "needs_background": "light"
     },
     "output_type": "display_data"
    },
    {
     "data": {
      "image/png": "[encoded data removed]",
      "text/plain": [
       "<Figure size 720x360 with 1 Axes>"
      ]
     },
     "metadata": {
      "needs_background": "light"
     },
     "output_type": "display_data"
    },
    {
     "data": {
      "image/png": "[encoded data removed]",
      "text/plain": [
       "<Figure size 720x360 with 1 Axes>"
      ]
     },
     "metadata": {
      "needs_background": "light"
     },
     "output_type": "display_data"
    }
   ],
   "source": [
    "count = 0\n",
    "row = 1\n",
    "for x in categorical_columns:\n",
    "    val1 = stroke_data[x].value_counts().index\n",
    "    count1 = stroke_data[x].value_counts().values\n",
    "    plt.figure(count//row, figsize=(10,5))\n",
    "    plt.subplot(1, row, (count)%row + 1)\n",
    "    plt.title(f'Distribution of {x}', fontsize=20)\n",
    "    plt.xticks(fontsize=15)\n",
    "    plt.yticks(fontsize=15)\n",
    "    plt.bar(val1, count1);\n",
    "    count += 1"
   ]
  },
  {
   "cell_type": "code",
   "execution_count": 14,
   "metadata": {},
   "outputs": [
    {
     "data": {
      "image/png": "[encoded data removed]",
      "text/plain": [
       "<Figure size 432x288 with 1 Axes>"
      ]
     },
     "metadata": {},
     "output_type": "display_data"
    },
    {
     "data": {
      "image/png": "[encoded data removed]",
      "text/plain": [
       "<Figure size 432x288 with 1 Axes>"
      ]
     },
     "metadata": {},
     "output_type": "display_data"
    }
   ],
   "source": [
    "count = 0\n",
    "row = 1\n",
    "for x in numeric_categorical_columns:\n",
    "    stroke_data[x].value_counts().plot.pie(label=\"\", autopct=\"%1.1f%%\", shadow=True, startangle=50)\n",
    "    plt.figure(count//row)\n",
    "    plt.subplot(1, row, (count)%row + 1)\n",
    "    plt.title(f'Distribution of {x}', fontsize=20)\n",
    "    count += 1"
   ]
  },
  {
   "cell_type": "code",
   "execution_count": 15,
   "metadata": {},
   "outputs": [
    {
     "data": {
      "image/png": "[encoded data removed]",
      "text/plain": [
       "<Figure size 432x288 with 1 Axes>"
      ]
     },
     "metadata": {},
     "output_type": "display_data"
    }
   ],
   "source": [
    "stroke_data[\"stroke\"].value_counts().plot.pie(label=\"\", autopct=\"%1.1f%%\", shadow=True, startangle=50)\n",
    "plt.title(f'Distribution of stroke', fontsize=20)\n",
    "plt.show()"
   ]
  },
  {
   "cell_type": "markdown",
   "metadata": {},
   "source": [
    "Observations:\n",
    "1. The data is highly unbalanced.\n",
    "2. Females are more than males.\n",
    "3. The number of people who are married is way more than unmarried.\n",
    "4. People prefer to work in private companies while the number of children/govt_job/self_employed seems to be equal. And we have fewer unemployed people.\n",
    "5. Not a big difference between the population of urban and rural areas.\n",
    "6. Our data is with an extremely high percentage of people who are not described if they smore or not. It's not a good idea to be deleted them because they are 31% of the data.\n",
    "7. Data contains only 5% of people with hypertension/stroke and 10% with heart disease"
   ]
  },
  {
   "cell_type": "markdown",
   "metadata": {},
   "source": [
    "### Continuous columns distribution"
   ]
  },
  {
   "cell_type": "code",
   "execution_count": 16,
   "metadata": {},
   "outputs": [
    {
     "data": {
      "image/png": "[encoded data removed]",
      "text/plain": [
       "<Figure size 1800x360 with 1 Axes>"
      ]
     },
     "metadata": {
      "needs_background": "light"
     },
     "output_type": "display_data"
    },
    {
     "data": {
      "image/png": "[encoded data removed]",
      "text/plain": [
       "<Figure size 1800x360 with 1 Axes>"
      ]
     },
     "metadata": {
      "needs_background": "light"
     },
     "output_type": "display_data"
    },
    {
     "data": {
      "image/png": "[encoded data removed]",
      "text/plain": [
       "<Figure size 1800x360 with 1 Axes>"
      ]
     },
     "metadata": {
      "needs_background": "light"
     },
     "output_type": "display_data"
    }
   ],
   "source": [
    "count = 0\n",
    "row = 1\n",
    "for x in continuous_columns:\n",
    "    data = stroke_data[x]\n",
    "    plt.figure(count//row, figsize=(25,5))\n",
    "    plt.subplot(1, row, (count)%row + 1)\n",
    "    plt.title(f'Distribution of {x}', fontsize=20)\n",
    "    plt.xticks(fontsize=15)\n",
    "    plt.yticks(fontsize=15)\n",
    "    plt.xlabel(x, fontsize=15)\n",
    "    plt.ylabel('Count', fontsize=15)\n",
    "    sns.histplot(data, bins = 50);\n",
    "    count += 1"
   ]
  },
  {
   "cell_type": "code",
   "execution_count": 17,
   "metadata": {},
   "outputs": [
    {
     "data": {
      "image/png": "[encoded data removed]",
      "text/plain": [
       "<Figure size 1800x360 with 1 Axes>"
      ]
     },
     "metadata": {
      "needs_background": "light"
     },
     "output_type": "display_data"
    },
    {
     "data": {
      "image/png": "[encoded data removed]",
      "text/plain": [
       "<Figure size 1800x360 with 1 Axes>"
      ]
     },
     "metadata": {
      "needs_background": "light"
     },
     "output_type": "display_data"
    },
    {
     "data": {
      "image/png": "[encoded data removed]",
      "text/plain": [
       "<Figure size 1800x360 with 1 Axes>"
      ]
     },
     "metadata": {
      "needs_background": "light"
     },
     "output_type": "display_data"
    }
   ],
   "source": [
    "count = 0\n",
    "row = 1\n",
    "for x in continuous_columns:\n",
    "    plt.figure(count//row, figsize=(25,5))\n",
    "    plt.subplot(1, row, (count)%row + 1)\n",
    "    plt.title(f'Stroke by {x}', fontsize=15)\n",
    "    plt.xticks(fontsize=15)\n",
    "    plt.yticks(fontsize=15)\n",
    "    plt.xlabel(x, fontsize=15)\n",
    "    plt.ylabel('Count', fontsize=15)\n",
    "    sns.kdeplot(data=stroke_data, x=x, hue=\"stroke\", fill=True, common_norm=False, alpha=.7)\n",
    "    count += 1"
   ]
  },
  {
   "cell_type": "markdown",
   "metadata": {},
   "source": [
    "1. Relationship between age and stroke:    \n",
    "    The older a person is, the higher the chance is likely to have a stroke.\n",
    "    \n",
    "    \n",
    "2. Relationship between Avgerage Glucose level and stroke:    \n",
    "    No clear relationship between avg_lucose_level and stroke.\n",
    "    \n",
    "    \n",
    "3. Relationship between Body Mass Index(BMI) and stroke:    \n",
    "    Same for BMI and stroke, no clear path."
   ]
  },
  {
   "cell_type": "markdown",
   "metadata": {},
   "source": [
    "## Outliers Detection"
   ]
  },
  {
   "cell_type": "code",
   "execution_count": 18,
   "metadata": {
    "scrolled": false
   },
   "outputs": [
    {
     "data": {
      "image/png": "[encoded data removed]",
      "text/plain": [
       "<Figure size 1800x360 with 1 Axes>"
      ]
     },
     "metadata": {
      "needs_background": "light"
     },
     "output_type": "display_data"
    },
    {
     "data": {
      "image/png": "[encoded data removed]",
      "text/plain": [
       "<Figure size 1800x360 with 1 Axes>"
      ]
     },
     "metadata": {
      "needs_background": "light"
     },
     "output_type": "display_data"
    },
    {
     "data": {
      "image/png": "[encoded data removed]",
      "text/plain": [
       "<Figure size 1800x360 with 1 Axes>"
      ]
     },
     "metadata": {
      "needs_background": "light"
     },
     "output_type": "display_data"
    }
   ],
   "source": [
    "count = 0\n",
    "row = 1\n",
    "\n",
    "for x in continuous_columns:\n",
    "    data = stroke_data[x]\n",
    "    plt.figure(count//row, figsize=(25,5))\n",
    "    plt.subplot(1, row, (count)%row + 1)\n",
    "    plt.title(x, fontsize=15)\n",
    "    plt.xticks(fontsize=15)\n",
    "    plt.yticks(fontsize=15)\n",
    "    data.plot(kind='box')\n",
    "    count += 1"
   ]
  },
  {
   "cell_type": "markdown",
   "metadata": {},
   "source": [
    "We see a few outliers in BMI and Avgerage Glucose levels.We'll keep them as they are since there aren't too many."
   ]
  },
  {
   "cell_type": "markdown",
   "metadata": {},
   "source": [
    "## Correlations values"
   ]
  },
  {
   "cell_type": "code",
   "execution_count": 19,
   "metadata": {},
   "outputs": [
    {
     "data": {
      "text/plain": [
       "<AxesSubplot:>"
      ]
     },
     "execution_count": 19,
     "metadata": {},
     "output_type": "execute_result"
    },
    {
     "data": {
      "image/png": "[encoded data removed]",
      "text/plain": [
       "<Figure size 864x504 with 2 Axes>"
      ]
     },
     "metadata": {
      "needs_background": "light"
     },
     "output_type": "display_data"
    }
   ],
   "source": [
    "plt.figure(figsize=(12,7))\n",
    "sns.heatmap(stroke_data.corr(),annot=True, cmap='crest')"
   ]
  },
  {
   "cell_type": "markdown",
   "metadata": {},
   "source": [
    "1. No strong correlation between our featured.\n",
    "2. The highest correlation can be observed between Body Mass Index(BMI) and age.\n",
    "3. Heart disease and hypertension have the weakest correlation."
   ]
  },
  {
   "cell_type": "code",
   "execution_count": 20,
   "metadata": {},
   "outputs": [
    {
     "data": {
      "text/html": [
       "<div>\n",
       "<style scoped>\n",
       "    .dataframe tbody tr th:only-of-type {\n",
       "        vertical-align: middle;\n",
       "    }\n",
       "\n",
       "    .dataframe tbody tr th {\n",
       "        vertical-align: top;\n",
       "    }\n",
       "\n",
       "    .dataframe thead th {\n",
       "        text-align: right;\n",
       "    }\n",
       "</style>\n",
       "<table border=\"1\" class=\"dataframe\">\n",
       "  <thead>\n",
       "    <tr style=\"text-align: right;\">\n",
       "      <th></th>\n",
       "      <th>gender</th>\n",
       "      <th>age</th>\n",
       "      <th>hypertension</th>\n",
       "      <th>heart_disease</th>\n",
       "      <th>ever_married</th>\n",
       "      <th>work_type</th>\n",
       "      <th>Residence_type</th>\n",
       "      <th>avg_glucose_level</th>\n",
       "      <th>bmi</th>\n",
       "      <th>smoking_status</th>\n",
       "      <th>stroke</th>\n",
       "    </tr>\n",
       "    <tr>\n",
       "      <th>id</th>\n",
       "      <th></th>\n",
       "      <th></th>\n",
       "      <th></th>\n",
       "      <th></th>\n",
       "      <th></th>\n",
       "      <th></th>\n",
       "      <th></th>\n",
       "      <th></th>\n",
       "      <th></th>\n",
       "      <th></th>\n",
       "      <th></th>\n",
       "    </tr>\n",
       "  </thead>\n",
       "  <tbody>\n",
       "    <tr>\n",
       "      <th>9046</th>\n",
       "      <td>Male</td>\n",
       "      <td>67.0</td>\n",
       "      <td>0</td>\n",
       "      <td>1</td>\n",
       "      <td>Yes</td>\n",
       "      <td>Private</td>\n",
       "      <td>Urban</td>\n",
       "      <td>228.69</td>\n",
       "      <td>36.60000</td>\n",
       "      <td>formerly smoked</td>\n",
       "      <td>1</td>\n",
       "    </tr>\n",
       "    <tr>\n",
       "      <th>51676</th>\n",
       "      <td>Female</td>\n",
       "      <td>61.0</td>\n",
       "      <td>0</td>\n",
       "      <td>0</td>\n",
       "      <td>Yes</td>\n",
       "      <td>Self-employed</td>\n",
       "      <td>Rural</td>\n",
       "      <td>202.21</td>\n",
       "      <td>28.89456</td>\n",
       "      <td>never smoked</td>\n",
       "      <td>1</td>\n",
       "    </tr>\n",
       "    <tr>\n",
       "      <th>31112</th>\n",
       "      <td>Male</td>\n",
       "      <td>80.0</td>\n",
       "      <td>0</td>\n",
       "      <td>1</td>\n",
       "      <td>Yes</td>\n",
       "      <td>Private</td>\n",
       "      <td>Rural</td>\n",
       "      <td>105.92</td>\n",
       "      <td>32.50000</td>\n",
       "      <td>never smoked</td>\n",
       "      <td>1</td>\n",
       "    </tr>\n",
       "    <tr>\n",
       "      <th>60182</th>\n",
       "      <td>Female</td>\n",
       "      <td>49.0</td>\n",
       "      <td>0</td>\n",
       "      <td>0</td>\n",
       "      <td>Yes</td>\n",
       "      <td>Private</td>\n",
       "      <td>Urban</td>\n",
       "      <td>171.23</td>\n",
       "      <td>34.40000</td>\n",
       "      <td>smokes</td>\n",
       "      <td>1</td>\n",
       "    </tr>\n",
       "    <tr>\n",
       "      <th>1665</th>\n",
       "      <td>Female</td>\n",
       "      <td>79.0</td>\n",
       "      <td>1</td>\n",
       "      <td>0</td>\n",
       "      <td>Yes</td>\n",
       "      <td>Self-employed</td>\n",
       "      <td>Rural</td>\n",
       "      <td>174.12</td>\n",
       "      <td>24.00000</td>\n",
       "      <td>never smoked</td>\n",
       "      <td>1</td>\n",
       "    </tr>\n",
       "  </tbody>\n",
       "</table>\n",
       "</div>"
      ],
      "text/plain": [
       "       gender   age  hypertension  heart_disease ever_married      work_type  \\\n",
       "id                                                                             \n",
       "9046     Male  67.0             0              1          Yes        Private   \n",
       "51676  Female  61.0             0              0          Yes  Self-employed   \n",
       "31112    Male  80.0             0              1          Yes        Private   \n",
       "60182  Female  49.0             0              0          Yes        Private   \n",
       "1665   Female  79.0             1              0          Yes  Self-employed   \n",
       "\n",
       "      Residence_type  avg_glucose_level       bmi   smoking_status  stroke  \n",
       "id                                                                          \n",
       "9046           Urban             228.69  36.60000  formerly smoked       1  \n",
       "51676          Rural             202.21  28.89456     never smoked       1  \n",
       "31112          Rural             105.92  32.50000     never smoked       1  \n",
       "60182          Urban             171.23  34.40000           smokes       1  \n",
       "1665           Rural             174.12  24.00000     never smoked       1  "
      ]
     },
     "execution_count": 20,
     "metadata": {},
     "output_type": "execute_result"
    }
   ],
   "source": [
    "stroke_data.head()"
   ]
  },
  {
   "cell_type": "markdown",
   "metadata": {},
   "source": [
    "## Models"
   ]
  },
  {
   "cell_type": "markdown",
   "metadata": {},
   "source": [
    "First, we will prepare the data starting with separating the input variables (stroke_features) and output variables (stroke_label)."
   ]
  },
  {
   "cell_type": "code",
   "execution_count": 21,
   "metadata": {},
   "outputs": [
    {
     "data": {
      "text/html": [
       "<div>\n",
       "<style scoped>\n",
       "    .dataframe tbody tr th:only-of-type {\n",
       "        vertical-align: middle;\n",
       "    }\n",
       "\n",
       "    .dataframe tbody tr th {\n",
       "        vertical-align: top;\n",
       "    }\n",
       "\n",
       "    .dataframe thead th {\n",
       "        text-align: right;\n",
       "    }\n",
       "</style>\n",
       "<table border=\"1\" class=\"dataframe\">\n",
       "  <thead>\n",
       "    <tr style=\"text-align: right;\">\n",
       "      <th></th>\n",
       "      <th>gender</th>\n",
       "      <th>age</th>\n",
       "      <th>hypertension</th>\n",
       "      <th>heart_disease</th>\n",
       "      <th>ever_married</th>\n",
       "      <th>work_type</th>\n",
       "      <th>Residence_type</th>\n",
       "      <th>avg_glucose_level</th>\n",
       "      <th>bmi</th>\n",
       "      <th>smoking_status</th>\n",
       "    </tr>\n",
       "    <tr>\n",
       "      <th>id</th>\n",
       "      <th></th>\n",
       "      <th></th>\n",
       "      <th></th>\n",
       "      <th></th>\n",
       "      <th></th>\n",
       "      <th></th>\n",
       "      <th></th>\n",
       "      <th></th>\n",
       "      <th></th>\n",
       "      <th></th>\n",
       "    </tr>\n",
       "  </thead>\n",
       "  <tbody>\n",
       "    <tr>\n",
       "      <th>9046</th>\n",
       "      <td>Male</td>\n",
       "      <td>67.0</td>\n",
       "      <td>0</td>\n",
       "      <td>1</td>\n",
       "      <td>Yes</td>\n",
       "      <td>Private</td>\n",
       "      <td>Urban</td>\n",
       "      <td>228.69</td>\n",
       "      <td>36.60000</td>\n",
       "      <td>formerly smoked</td>\n",
       "    </tr>\n",
       "    <tr>\n",
       "      <th>51676</th>\n",
       "      <td>Female</td>\n",
       "      <td>61.0</td>\n",
       "      <td>0</td>\n",
       "      <td>0</td>\n",
       "      <td>Yes</td>\n",
       "      <td>Self-employed</td>\n",
       "      <td>Rural</td>\n",
       "      <td>202.21</td>\n",
       "      <td>28.89456</td>\n",
       "      <td>never smoked</td>\n",
       "    </tr>\n",
       "    <tr>\n",
       "      <th>31112</th>\n",
       "      <td>Male</td>\n",
       "      <td>80.0</td>\n",
       "      <td>0</td>\n",
       "      <td>1</td>\n",
       "      <td>Yes</td>\n",
       "      <td>Private</td>\n",
       "      <td>Rural</td>\n",
       "      <td>105.92</td>\n",
       "      <td>32.50000</td>\n",
       "      <td>never smoked</td>\n",
       "    </tr>\n",
       "    <tr>\n",
       "      <th>60182</th>\n",
       "      <td>Female</td>\n",
       "      <td>49.0</td>\n",
       "      <td>0</td>\n",
       "      <td>0</td>\n",
       "      <td>Yes</td>\n",
       "      <td>Private</td>\n",
       "      <td>Urban</td>\n",
       "      <td>171.23</td>\n",
       "      <td>34.40000</td>\n",
       "      <td>smokes</td>\n",
       "    </tr>\n",
       "    <tr>\n",
       "      <th>1665</th>\n",
       "      <td>Female</td>\n",
       "      <td>79.0</td>\n",
       "      <td>1</td>\n",
       "      <td>0</td>\n",
       "      <td>Yes</td>\n",
       "      <td>Self-employed</td>\n",
       "      <td>Rural</td>\n",
       "      <td>174.12</td>\n",
       "      <td>24.00000</td>\n",
       "      <td>never smoked</td>\n",
       "    </tr>\n",
       "    <tr>\n",
       "      <th>...</th>\n",
       "      <td>...</td>\n",
       "      <td>...</td>\n",
       "      <td>...</td>\n",
       "      <td>...</td>\n",
       "      <td>...</td>\n",
       "      <td>...</td>\n",
       "      <td>...</td>\n",
       "      <td>...</td>\n",
       "      <td>...</td>\n",
       "      <td>...</td>\n",
       "    </tr>\n",
       "    <tr>\n",
       "      <th>18234</th>\n",
       "      <td>Female</td>\n",
       "      <td>80.0</td>\n",
       "      <td>1</td>\n",
       "      <td>0</td>\n",
       "      <td>Yes</td>\n",
       "      <td>Private</td>\n",
       "      <td>Urban</td>\n",
       "      <td>83.75</td>\n",
       "      <td>28.89456</td>\n",
       "      <td>never smoked</td>\n",
       "    </tr>\n",
       "    <tr>\n",
       "      <th>44873</th>\n",
       "      <td>Female</td>\n",
       "      <td>81.0</td>\n",
       "      <td>0</td>\n",
       "      <td>0</td>\n",
       "      <td>Yes</td>\n",
       "      <td>Self-employed</td>\n",
       "      <td>Urban</td>\n",
       "      <td>125.20</td>\n",
       "      <td>40.00000</td>\n",
       "      <td>never smoked</td>\n",
       "    </tr>\n",
       "    <tr>\n",
       "      <th>19723</th>\n",
       "      <td>Female</td>\n",
       "      <td>35.0</td>\n",
       "      <td>0</td>\n",
       "      <td>0</td>\n",
       "      <td>Yes</td>\n",
       "      <td>Self-employed</td>\n",
       "      <td>Rural</td>\n",
       "      <td>82.99</td>\n",
       "      <td>30.60000</td>\n",
       "      <td>never smoked</td>\n",
       "    </tr>\n",
       "    <tr>\n",
       "      <th>37544</th>\n",
       "      <td>Male</td>\n",
       "      <td>51.0</td>\n",
       "      <td>0</td>\n",
       "      <td>0</td>\n",
       "      <td>Yes</td>\n",
       "      <td>Private</td>\n",
       "      <td>Rural</td>\n",
       "      <td>166.29</td>\n",
       "      <td>25.60000</td>\n",
       "      <td>formerly smoked</td>\n",
       "    </tr>\n",
       "    <tr>\n",
       "      <th>44679</th>\n",
       "      <td>Female</td>\n",
       "      <td>44.0</td>\n",
       "      <td>0</td>\n",
       "      <td>0</td>\n",
       "      <td>Yes</td>\n",
       "      <td>Govt_job</td>\n",
       "      <td>Urban</td>\n",
       "      <td>85.28</td>\n",
       "      <td>26.20000</td>\n",
       "      <td>Unknown</td>\n",
       "    </tr>\n",
       "  </tbody>\n",
       "</table>\n",
       "<p>5109 rows × 10 columns</p>\n",
       "</div>"
      ],
      "text/plain": [
       "       gender   age  hypertension  heart_disease ever_married      work_type  \\\n",
       "id                                                                             \n",
       "9046     Male  67.0             0              1          Yes        Private   \n",
       "51676  Female  61.0             0              0          Yes  Self-employed   \n",
       "31112    Male  80.0             0              1          Yes        Private   \n",
       "60182  Female  49.0             0              0          Yes        Private   \n",
       "1665   Female  79.0             1              0          Yes  Self-employed   \n",
       "...       ...   ...           ...            ...          ...            ...   \n",
       "18234  Female  80.0             1              0          Yes        Private   \n",
       "44873  Female  81.0             0              0          Yes  Self-employed   \n",
       "19723  Female  35.0             0              0          Yes  Self-employed   \n",
       "37544    Male  51.0             0              0          Yes        Private   \n",
       "44679  Female  44.0             0              0          Yes       Govt_job   \n",
       "\n",
       "      Residence_type  avg_glucose_level       bmi   smoking_status  \n",
       "id                                                                  \n",
       "9046           Urban             228.69  36.60000  formerly smoked  \n",
       "51676          Rural             202.21  28.89456     never smoked  \n",
       "31112          Rural             105.92  32.50000     never smoked  \n",
       "60182          Urban             171.23  34.40000           smokes  \n",
       "1665           Rural             174.12  24.00000     never smoked  \n",
       "...              ...                ...       ...              ...  \n",
       "18234          Urban              83.75  28.89456     never smoked  \n",
       "44873          Urban             125.20  40.00000     never smoked  \n",
       "19723          Rural              82.99  30.60000     never smoked  \n",
       "37544          Rural             166.29  25.60000  formerly smoked  \n",
       "44679          Urban              85.28  26.20000          Unknown  \n",
       "\n",
       "[5109 rows x 10 columns]"
      ]
     },
     "execution_count": 21,
     "metadata": {},
     "output_type": "execute_result"
    }
   ],
   "source": [
    "stroke_features = stroke_data.drop(\"stroke\", axis=1)\n",
    "stroke_label = stroke_data.stroke\n",
    "\n",
    "stroke_features"
   ]
  },
  {
   "cell_type": "markdown",
   "metadata": {},
   "source": [
    "pd.get_dummies() is used to manipulate data. It transforms categorical information into dummy or indicator variables."
   ]
  },
  {
   "cell_type": "code",
   "execution_count": 22,
   "metadata": {},
   "outputs": [
    {
     "data": {
      "text/html": [
       "<div>\n",
       "<style scoped>\n",
       "    .dataframe tbody tr th:only-of-type {\n",
       "        vertical-align: middle;\n",
       "    }\n",
       "\n",
       "    .dataframe tbody tr th {\n",
       "        vertical-align: top;\n",
       "    }\n",
       "\n",
       "    .dataframe thead th {\n",
       "        text-align: right;\n",
       "    }\n",
       "</style>\n",
       "<table border=\"1\" class=\"dataframe\">\n",
       "  <thead>\n",
       "    <tr style=\"text-align: right;\">\n",
       "      <th></th>\n",
       "      <th>age</th>\n",
       "      <th>hypertension</th>\n",
       "      <th>heart_disease</th>\n",
       "      <th>avg_glucose_level</th>\n",
       "      <th>bmi</th>\n",
       "      <th>gender_Female</th>\n",
       "      <th>gender_Male</th>\n",
       "      <th>ever_married_No</th>\n",
       "      <th>ever_married_Yes</th>\n",
       "      <th>work_type_Govt_job</th>\n",
       "      <th>work_type_Never_worked</th>\n",
       "      <th>work_type_Private</th>\n",
       "      <th>work_type_Self-employed</th>\n",
       "      <th>work_type_children</th>\n",
       "      <th>Residence_type_Rural</th>\n",
       "      <th>Residence_type_Urban</th>\n",
       "      <th>smoking_status_Unknown</th>\n",
       "      <th>smoking_status_formerly smoked</th>\n",
       "      <th>smoking_status_never smoked</th>\n",
       "      <th>smoking_status_smokes</th>\n",
       "    </tr>\n",
       "    <tr>\n",
       "      <th>id</th>\n",
       "      <th></th>\n",
       "      <th></th>\n",
       "      <th></th>\n",
       "      <th></th>\n",
       "      <th></th>\n",
       "      <th></th>\n",
       "      <th></th>\n",
       "      <th></th>\n",
       "      <th></th>\n",
       "      <th></th>\n",
       "      <th></th>\n",
       "      <th></th>\n",
       "      <th></th>\n",
       "      <th></th>\n",
       "      <th></th>\n",
       "      <th></th>\n",
       "      <th></th>\n",
       "      <th></th>\n",
       "      <th></th>\n",
       "      <th></th>\n",
       "    </tr>\n",
       "  </thead>\n",
       "  <tbody>\n",
       "    <tr>\n",
       "      <th>9046</th>\n",
       "      <td>67.0</td>\n",
       "      <td>0</td>\n",
       "      <td>1</td>\n",
       "      <td>228.69</td>\n",
       "      <td>36.60000</td>\n",
       "      <td>0</td>\n",
       "      <td>1</td>\n",
       "      <td>0</td>\n",
       "      <td>1</td>\n",
       "      <td>0</td>\n",
       "      <td>0</td>\n",
       "      <td>1</td>\n",
       "      <td>0</td>\n",
       "      <td>0</td>\n",
       "      <td>0</td>\n",
       "      <td>1</td>\n",
       "      <td>0</td>\n",
       "      <td>1</td>\n",
       "      <td>0</td>\n",
       "      <td>0</td>\n",
       "    </tr>\n",
       "    <tr>\n",
       "      <th>51676</th>\n",
       "      <td>61.0</td>\n",
       "      <td>0</td>\n",
       "      <td>0</td>\n",
       "      <td>202.21</td>\n",
       "      <td>28.89456</td>\n",
       "      <td>1</td>\n",
       "      <td>0</td>\n",
       "      <td>0</td>\n",
       "      <td>1</td>\n",
       "      <td>0</td>\n",
       "      <td>0</td>\n",
       "      <td>0</td>\n",
       "      <td>1</td>\n",
       "      <td>0</td>\n",
       "      <td>1</td>\n",
       "      <td>0</td>\n",
       "      <td>0</td>\n",
       "      <td>0</td>\n",
       "      <td>1</td>\n",
       "      <td>0</td>\n",
       "    </tr>\n",
       "    <tr>\n",
       "      <th>31112</th>\n",
       "      <td>80.0</td>\n",
       "      <td>0</td>\n",
       "      <td>1</td>\n",
       "      <td>105.92</td>\n",
       "      <td>32.50000</td>\n",
       "      <td>0</td>\n",
       "      <td>1</td>\n",
       "      <td>0</td>\n",
       "      <td>1</td>\n",
       "      <td>0</td>\n",
       "      <td>0</td>\n",
       "      <td>1</td>\n",
       "      <td>0</td>\n",
       "      <td>0</td>\n",
       "      <td>1</td>\n",
       "      <td>0</td>\n",
       "      <td>0</td>\n",
       "      <td>0</td>\n",
       "      <td>1</td>\n",
       "      <td>0</td>\n",
       "    </tr>\n",
       "    <tr>\n",
       "      <th>60182</th>\n",
       "      <td>49.0</td>\n",
       "      <td>0</td>\n",
       "      <td>0</td>\n",
       "      <td>171.23</td>\n",
       "      <td>34.40000</td>\n",
       "      <td>1</td>\n",
       "      <td>0</td>\n",
       "      <td>0</td>\n",
       "      <td>1</td>\n",
       "      <td>0</td>\n",
       "      <td>0</td>\n",
       "      <td>1</td>\n",
       "      <td>0</td>\n",
       "      <td>0</td>\n",
       "      <td>0</td>\n",
       "      <td>1</td>\n",
       "      <td>0</td>\n",
       "      <td>0</td>\n",
       "      <td>0</td>\n",
       "      <td>1</td>\n",
       "    </tr>\n",
       "    <tr>\n",
       "      <th>1665</th>\n",
       "      <td>79.0</td>\n",
       "      <td>1</td>\n",
       "      <td>0</td>\n",
       "      <td>174.12</td>\n",
       "      <td>24.00000</td>\n",
       "      <td>1</td>\n",
       "      <td>0</td>\n",
       "      <td>0</td>\n",
       "      <td>1</td>\n",
       "      <td>0</td>\n",
       "      <td>0</td>\n",
       "      <td>0</td>\n",
       "      <td>1</td>\n",
       "      <td>0</td>\n",
       "      <td>1</td>\n",
       "      <td>0</td>\n",
       "      <td>0</td>\n",
       "      <td>0</td>\n",
       "      <td>1</td>\n",
       "      <td>0</td>\n",
       "    </tr>\n",
       "    <tr>\n",
       "      <th>...</th>\n",
       "      <td>...</td>\n",
       "      <td>...</td>\n",
       "      <td>...</td>\n",
       "      <td>...</td>\n",
       "      <td>...</td>\n",
       "      <td>...</td>\n",
       "      <td>...</td>\n",
       "      <td>...</td>\n",
       "      <td>...</td>\n",
       "      <td>...</td>\n",
       "      <td>...</td>\n",
       "      <td>...</td>\n",
       "      <td>...</td>\n",
       "      <td>...</td>\n",
       "      <td>...</td>\n",
       "      <td>...</td>\n",
       "      <td>...</td>\n",
       "      <td>...</td>\n",
       "      <td>...</td>\n",
       "      <td>...</td>\n",
       "    </tr>\n",
       "    <tr>\n",
       "      <th>18234</th>\n",
       "      <td>80.0</td>\n",
       "      <td>1</td>\n",
       "      <td>0</td>\n",
       "      <td>83.75</td>\n",
       "      <td>28.89456</td>\n",
       "      <td>1</td>\n",
       "      <td>0</td>\n",
       "      <td>0</td>\n",
       "      <td>1</td>\n",
       "      <td>0</td>\n",
       "      <td>0</td>\n",
       "      <td>1</td>\n",
       "      <td>0</td>\n",
       "      <td>0</td>\n",
       "      <td>0</td>\n",
       "      <td>1</td>\n",
       "      <td>0</td>\n",
       "      <td>0</td>\n",
       "      <td>1</td>\n",
       "      <td>0</td>\n",
       "    </tr>\n",
       "    <tr>\n",
       "      <th>44873</th>\n",
       "      <td>81.0</td>\n",
       "      <td>0</td>\n",
       "      <td>0</td>\n",
       "      <td>125.20</td>\n",
       "      <td>40.00000</td>\n",
       "      <td>1</td>\n",
       "      <td>0</td>\n",
       "      <td>0</td>\n",
       "      <td>1</td>\n",
       "      <td>0</td>\n",
       "      <td>0</td>\n",
       "      <td>0</td>\n",
       "      <td>1</td>\n",
       "      <td>0</td>\n",
       "      <td>0</td>\n",
       "      <td>1</td>\n",
       "      <td>0</td>\n",
       "      <td>0</td>\n",
       "      <td>1</td>\n",
       "      <td>0</td>\n",
       "    </tr>\n",
       "    <tr>\n",
       "      <th>19723</th>\n",
       "      <td>35.0</td>\n",
       "      <td>0</td>\n",
       "      <td>0</td>\n",
       "      <td>82.99</td>\n",
       "      <td>30.60000</td>\n",
       "      <td>1</td>\n",
       "      <td>0</td>\n",
       "      <td>0</td>\n",
       "      <td>1</td>\n",
       "      <td>0</td>\n",
       "      <td>0</td>\n",
       "      <td>0</td>\n",
       "      <td>1</td>\n",
       "      <td>0</td>\n",
       "      <td>1</td>\n",
       "      <td>0</td>\n",
       "      <td>0</td>\n",
       "      <td>0</td>\n",
       "      <td>1</td>\n",
       "      <td>0</td>\n",
       "    </tr>\n",
       "    <tr>\n",
       "      <th>37544</th>\n",
       "      <td>51.0</td>\n",
       "      <td>0</td>\n",
       "      <td>0</td>\n",
       "      <td>166.29</td>\n",
       "      <td>25.60000</td>\n",
       "      <td>0</td>\n",
       "      <td>1</td>\n",
       "      <td>0</td>\n",
       "      <td>1</td>\n",
       "      <td>0</td>\n",
       "      <td>0</td>\n",
       "      <td>1</td>\n",
       "      <td>0</td>\n",
       "      <td>0</td>\n",
       "      <td>1</td>\n",
       "      <td>0</td>\n",
       "      <td>0</td>\n",
       "      <td>1</td>\n",
       "      <td>0</td>\n",
       "      <td>0</td>\n",
       "    </tr>\n",
       "    <tr>\n",
       "      <th>44679</th>\n",
       "      <td>44.0</td>\n",
       "      <td>0</td>\n",
       "      <td>0</td>\n",
       "      <td>85.28</td>\n",
       "      <td>26.20000</td>\n",
       "      <td>1</td>\n",
       "      <td>0</td>\n",
       "      <td>0</td>\n",
       "      <td>1</td>\n",
       "      <td>1</td>\n",
       "      <td>0</td>\n",
       "      <td>0</td>\n",
       "      <td>0</td>\n",
       "      <td>0</td>\n",
       "      <td>0</td>\n",
       "      <td>1</td>\n",
       "      <td>1</td>\n",
       "      <td>0</td>\n",
       "      <td>0</td>\n",
       "      <td>0</td>\n",
       "    </tr>\n",
       "  </tbody>\n",
       "</table>\n",
       "<p>5109 rows × 20 columns</p>\n",
       "</div>"
      ],
      "text/plain": [
       "        age  hypertension  heart_disease  avg_glucose_level       bmi  \\\n",
       "id                                                                      \n",
       "9046   67.0             0              1             228.69  36.60000   \n",
       "51676  61.0             0              0             202.21  28.89456   \n",
       "31112  80.0             0              1             105.92  32.50000   \n",
       "60182  49.0             0              0             171.23  34.40000   \n",
       "1665   79.0             1              0             174.12  24.00000   \n",
       "...     ...           ...            ...                ...       ...   \n",
       "18234  80.0             1              0              83.75  28.89456   \n",
       "44873  81.0             0              0             125.20  40.00000   \n",
       "19723  35.0             0              0              82.99  30.60000   \n",
       "37544  51.0             0              0             166.29  25.60000   \n",
       "44679  44.0             0              0              85.28  26.20000   \n",
       "\n",
       "       gender_Female  gender_Male  ever_married_No  ever_married_Yes  \\\n",
       "id                                                                     \n",
       "9046               0            1                0                 1   \n",
       "51676              1            0                0                 1   \n",
       "31112              0            1                0                 1   \n",
       "60182              1            0                0                 1   \n",
       "1665               1            0                0                 1   \n",
       "...              ...          ...              ...               ...   \n",
       "18234              1            0                0                 1   \n",
       "44873              1            0                0                 1   \n",
       "19723              1            0                0                 1   \n",
       "37544              0            1                0                 1   \n",
       "44679              1            0                0                 1   \n",
       "\n",
       "       work_type_Govt_job  work_type_Never_worked  work_type_Private  \\\n",
       "id                                                                     \n",
       "9046                    0                       0                  1   \n",
       "51676                   0                       0                  0   \n",
       "31112                   0                       0                  1   \n",
       "60182                   0                       0                  1   \n",
       "1665                    0                       0                  0   \n",
       "...                   ...                     ...                ...   \n",
       "18234                   0                       0                  1   \n",
       "44873                   0                       0                  0   \n",
       "19723                   0                       0                  0   \n",
       "37544                   0                       0                  1   \n",
       "44679                   1                       0                  0   \n",
       "\n",
       "       work_type_Self-employed  work_type_children  Residence_type_Rural  \\\n",
       "id                                                                         \n",
       "9046                         0                   0                     0   \n",
       "51676                        1                   0                     1   \n",
       "31112                        0                   0                     1   \n",
       "60182                        0                   0                     0   \n",
       "1665                         1                   0                     1   \n",
       "...                        ...                 ...                   ...   \n",
       "18234                        0                   0                     0   \n",
       "44873                        1                   0                     0   \n",
       "19723                        1                   0                     1   \n",
       "37544                        0                   0                     1   \n",
       "44679                        0                   0                     0   \n",
       "\n",
       "       Residence_type_Urban  smoking_status_Unknown  \\\n",
       "id                                                    \n",
       "9046                      1                       0   \n",
       "51676                     0                       0   \n",
       "31112                     0                       0   \n",
       "60182                     1                       0   \n",
       "1665                      0                       0   \n",
       "...                     ...                     ...   \n",
       "18234                     1                       0   \n",
       "44873                     1                       0   \n",
       "19723                     0                       0   \n",
       "37544                     0                       0   \n",
       "44679                     1                       1   \n",
       "\n",
       "       smoking_status_formerly smoked  smoking_status_never smoked  \\\n",
       "id                                                                   \n",
       "9046                                1                            0   \n",
       "51676                               0                            1   \n",
       "31112                               0                            1   \n",
       "60182                               0                            0   \n",
       "1665                                0                            1   \n",
       "...                               ...                          ...   \n",
       "18234                               0                            1   \n",
       "44873                               0                            1   \n",
       "19723                               0                            1   \n",
       "37544                               1                            0   \n",
       "44679                               0                            0   \n",
       "\n",
       "       smoking_status_smokes  \n",
       "id                            \n",
       "9046                       0  \n",
       "51676                      0  \n",
       "31112                      0  \n",
       "60182                      1  \n",
       "1665                       0  \n",
       "...                      ...  \n",
       "18234                      0  \n",
       "44873                      0  \n",
       "19723                      0  \n",
       "37544                      0  \n",
       "44679                      0  \n",
       "\n",
       "[5109 rows x 20 columns]"
      ]
     },
     "execution_count": 22,
     "metadata": {},
     "output_type": "execute_result"
    }
   ],
   "source": [
    "stroke_features = pd.get_dummies(stroke_features)\n",
    "stroke_features"
   ]
  },
  {
   "cell_type": "markdown",
   "metadata": {},
   "source": [
    "For our input and output variables, we must divide our data into training and testing sets. I'd like to use 30% of the data for testing."
   ]
  },
  {
   "cell_type": "code",
   "execution_count": 23,
   "metadata": {},
   "outputs": [
    {
     "name": "stdout",
     "output_type": "stream",
     "text": [
      "stroke_features_train shape is (3576, 20)\n",
      "stroke_features_test shape is (1533, 20)\n",
      "stroke_label_train shape is (3576,)\n",
      "stroke_label_test shape is (1533,)\n"
     ]
    }
   ],
   "source": [
    "stroke_features_train, stroke_features_test, stroke_label_train, stroke_label_test = train_test_split(\n",
    "    stroke_features,stroke_label,test_size = 0.30, random_state = 42\n",
    ")\n",
    "\n",
    "print(f\"stroke_features_train shape is {stroke_features_train.shape}\")\n",
    "print(f\"stroke_features_test shape is {stroke_features_test.shape}\")\n",
    "print(f\"stroke_label_train shape is {stroke_label_train.shape}\")\n",
    "print(f\"stroke_label_test shape is {stroke_label_test.shape}\")"
   ]
  },
  {
   "cell_type": "markdown",
   "metadata": {},
   "source": [
    "### Scaling"
   ]
  },
  {
   "cell_type": "code",
   "execution_count": 24,
   "metadata": {},
   "outputs": [],
   "source": [
    "scaler = StandardScaler()\n",
    "stroke_features_train = scaler.fit_transform(stroke_features_train)\n",
    "stroke_features_test = scaler.fit_transform(stroke_features_test)"
   ]
  },
  {
   "cell_type": "code",
   "execution_count": 25,
   "metadata": {},
   "outputs": [],
   "source": [
    "model_score = pd.DataFrame(columns= [\"Model Name\", \"Train Score\", \"Test Score\", \"Accuracy Score\"])"
   ]
  },
  {
   "cell_type": "markdown",
   "metadata": {},
   "source": [
    "We already saw in the distribution, that we actually have an imbalanced stroke column. So for our f1 scoring, we should use the macro average or weighted average of f1_score. I think the weighted average is a little bit better in this case. We want to assign greater contributions to classes with more examples in the data set."
   ]
  },
  {
   "cell_type": "markdown",
   "metadata": {},
   "source": [
    "### Decision Tree"
   ]
  },
  {
   "cell_type": "markdown",
   "metadata": {},
   "source": [
    "Decision trees are widely used in machine learning for classification and regression. A decision tree is used in decision analysis to visually and explicitly represent decisions and decision-making. It employs a decision-tree model. The Decision Tree algorithm is a supervised learning algorithm that is commonly used to solve classification problems. It applies to both discrete and continuous variables. We divide the population into two or more homogeneous sets using this algorithm. This is done based on the most important characteristics in order to be as distinct as possible. "
   ]
  },
  {
   "cell_type": "code",
   "execution_count": 26,
   "metadata": {},
   "outputs": [
    {
     "data": {
      "text/html": [
       "<div>\n",
       "<style scoped>\n",
       "    .dataframe tbody tr th:only-of-type {\n",
       "        vertical-align: middle;\n",
       "    }\n",
       "\n",
       "    .dataframe tbody tr th {\n",
       "        vertical-align: top;\n",
       "    }\n",
       "\n",
       "    .dataframe thead th {\n",
       "        text-align: right;\n",
       "    }\n",
       "</style>\n",
       "<table border=\"1\" class=\"dataframe\">\n",
       "  <thead>\n",
       "    <tr style=\"text-align: right;\">\n",
       "      <th></th>\n",
       "      <th>Model Name</th>\n",
       "      <th>Train Score</th>\n",
       "      <th>Test Score</th>\n",
       "      <th>Accuracy Score</th>\n",
       "      <th>F1 Score</th>\n",
       "    </tr>\n",
       "  </thead>\n",
       "  <tbody>\n",
       "    <tr>\n",
       "      <th>0</th>\n",
       "      <td>Decision Tree Classifier</td>\n",
       "      <td>0.956935</td>\n",
       "      <td>0.93803</td>\n",
       "      <td>0.93803</td>\n",
       "      <td>0.911825</td>\n",
       "    </tr>\n",
       "  </tbody>\n",
       "</table>\n",
       "</div>"
      ],
      "text/plain": [
       "                 Model Name Train Score Test Score Accuracy Score  F1 Score\n",
       "0  Decision Tree Classifier    0.956935    0.93803        0.93803  0.911825"
      ]
     },
     "execution_count": 26,
     "metadata": {},
     "output_type": "execute_result"
    }
   ],
   "source": [
    "dtc = DecisionTreeClassifier(max_depth=4)\n",
    "dtc.fit(stroke_features_train, stroke_label_train)\n",
    "\n",
    "train_score = dtc.score(stroke_features_train, stroke_label_train)\n",
    "test_score = dtc.score(stroke_features_test, stroke_label_test)\n",
    "\n",
    "predict_dtc = dtc.predict(stroke_features_test)\n",
    "accuracy = accuracy_score(stroke_label_test, predict_dtc)\n",
    "f1 = f1_score(stroke_label_test, predict_dtc, average= \"weighted\")\n",
    "\n",
    "new_model = pd.Series({\n",
    "    \"Model Name\": \"Decision Tree Classifier\",\n",
    "    \"Train Score\":train_score,\n",
    "    \"Test Score\": test_score, \n",
    "    \"Accuracy Score\": accuracy,\n",
    "    \"F1 Score\": f1\n",
    "})\n",
    "model_score = pd.concat([model_score, new_model.to_frame().T], ignore_index=True)\n",
    "model_score"
   ]
  },
  {
   "cell_type": "markdown",
   "metadata": {},
   "source": [
    "### Random Forest"
   ]
  },
  {
   "cell_type": "markdown",
   "metadata": {},
   "source": [
    "Random forest is another versatile supervised machine learning algorithm that can be used for classification and regression. The term \"forest\" refers to a collection of uncorrelated decision trees that are then combined to reduce variance and produce more accurate data predictions.The random forest algorithm's 'forest' is trained using bagging or bootstrap aggregation. Bagging is a meta-algorithm that improves the accuracy of machine learning algorithms through an ensemble approach.\n",
    "The outcome is determined by the (random forest) algorithm based on the predictions of the decision trees. It predicts by averaging or averaging the output of various trees. The precision of the outcome improves as the number of trees increases."
   ]
  },
  {
   "cell_type": "code",
   "execution_count": 27,
   "metadata": {},
   "outputs": [
    {
     "data": {
      "text/html": [
       "<div>\n",
       "<style scoped>\n",
       "    .dataframe tbody tr th:only-of-type {\n",
       "        vertical-align: middle;\n",
       "    }\n",
       "\n",
       "    .dataframe tbody tr th {\n",
       "        vertical-align: top;\n",
       "    }\n",
       "\n",
       "    .dataframe thead th {\n",
       "        text-align: right;\n",
       "    }\n",
       "</style>\n",
       "<table border=\"1\" class=\"dataframe\">\n",
       "  <thead>\n",
       "    <tr style=\"text-align: right;\">\n",
       "      <th></th>\n",
       "      <th>Model Name</th>\n",
       "      <th>Train Score</th>\n",
       "      <th>Test Score</th>\n",
       "      <th>Accuracy Score</th>\n",
       "      <th>F1 Score</th>\n",
       "    </tr>\n",
       "  </thead>\n",
       "  <tbody>\n",
       "    <tr>\n",
       "      <th>0</th>\n",
       "      <td>Decision Tree Classifier</td>\n",
       "      <td>0.956935</td>\n",
       "      <td>0.93803</td>\n",
       "      <td>0.93803</td>\n",
       "      <td>0.911825</td>\n",
       "    </tr>\n",
       "    <tr>\n",
       "      <th>1</th>\n",
       "      <td>Random Forest Classifier</td>\n",
       "      <td>0.955257</td>\n",
       "      <td>0.941944</td>\n",
       "      <td>0.941944</td>\n",
       "      <td>0.913784</td>\n",
       "    </tr>\n",
       "  </tbody>\n",
       "</table>\n",
       "</div>"
      ],
      "text/plain": [
       "                 Model Name Train Score Test Score Accuracy Score  F1 Score\n",
       "0  Decision Tree Classifier    0.956935    0.93803        0.93803  0.911825\n",
       "1  Random Forest Classifier    0.955257   0.941944       0.941944  0.913784"
      ]
     },
     "execution_count": 27,
     "metadata": {},
     "output_type": "execute_result"
    }
   ],
   "source": [
    "rfc = RandomForestClassifier(n_estimators=200, max_depth=4)\n",
    "rfc.fit(stroke_features_train, stroke_label_train)\n",
    "\n",
    "train_score = rfc.score(stroke_features_train, stroke_label_train)\n",
    "test_score = rfc.score(stroke_features_test, stroke_label_test)\n",
    "\n",
    "predict_rfc = rfc.predict(stroke_features_test)\n",
    "accuracy = accuracy_score(stroke_label_test, predict_rfc)\n",
    "f1 = f1_score(stroke_label_test, predict_rfc, average= \"weighted\")\n",
    "\n",
    "new_model = pd.Series({\n",
    "    \"Model Name\": \"Random Forest Classifier\",\n",
    "    \"Train Score\":train_score,\n",
    "    \"Test Score\": test_score, \n",
    "    \"Accuracy Score\": accuracy,\n",
    "    \"F1 Score\": f1\n",
    "})\n",
    "model_score = pd.concat([model_score, new_model.to_frame().T], ignore_index=True)\n",
    "model_score"
   ]
  },
  {
   "cell_type": "markdown",
   "metadata": {},
   "source": [
    "### K-Nearest Neighbors"
   ]
  },
  {
   "cell_type": "markdown",
   "metadata": {},
   "source": [
    "The KNN algorithm, also known as the K-nearest neighbor algorithm, is a non-parametric algorithm that categorizes data points based on their proximity and association with other available data. This algorithm assumes that data points with similar characteristics can be found nearby. As a result, it attempts to calculate the distance between data points, typically using Euclidean distance, and then assigns a category based on the most frequently occurring category or average. Its ease of use and short calculation time make it a favorite among data scientists but as the test "
   ]
  },
  {
   "cell_type": "code",
   "execution_count": 28,
   "metadata": {},
   "outputs": [
    {
     "data": {
      "text/html": [
       "<div>\n",
       "<style scoped>\n",
       "    .dataframe tbody tr th:only-of-type {\n",
       "        vertical-align: middle;\n",
       "    }\n",
       "\n",
       "    .dataframe tbody tr th {\n",
       "        vertical-align: top;\n",
       "    }\n",
       "\n",
       "    .dataframe thead th {\n",
       "        text-align: right;\n",
       "    }\n",
       "</style>\n",
       "<table border=\"1\" class=\"dataframe\">\n",
       "  <thead>\n",
       "    <tr style=\"text-align: right;\">\n",
       "      <th></th>\n",
       "      <th>Model Name</th>\n",
       "      <th>Train Score</th>\n",
       "      <th>Test Score</th>\n",
       "      <th>Accuracy Score</th>\n",
       "      <th>F1 Score</th>\n",
       "    </tr>\n",
       "  </thead>\n",
       "  <tbody>\n",
       "    <tr>\n",
       "      <th>0</th>\n",
       "      <td>Decision Tree Classifier</td>\n",
       "      <td>0.956935</td>\n",
       "      <td>0.93803</td>\n",
       "      <td>0.93803</td>\n",
       "      <td>0.911825</td>\n",
       "    </tr>\n",
       "    <tr>\n",
       "      <th>1</th>\n",
       "      <td>Random Forest Classifier</td>\n",
       "      <td>0.955257</td>\n",
       "      <td>0.941944</td>\n",
       "      <td>0.941944</td>\n",
       "      <td>0.913784</td>\n",
       "    </tr>\n",
       "    <tr>\n",
       "      <th>2</th>\n",
       "      <td>KNeighbors Classifier</td>\n",
       "      <td>0.957494</td>\n",
       "      <td>0.942596</td>\n",
       "      <td>0.942596</td>\n",
       "      <td>0.918872</td>\n",
       "    </tr>\n",
       "  </tbody>\n",
       "</table>\n",
       "</div>"
      ],
      "text/plain": [
       "                 Model Name Train Score Test Score Accuracy Score  F1 Score\n",
       "0  Decision Tree Classifier    0.956935    0.93803        0.93803  0.911825\n",
       "1  Random Forest Classifier    0.955257   0.941944       0.941944  0.913784\n",
       "2     KNeighbors Classifier    0.957494   0.942596       0.942596  0.918872"
      ]
     },
     "execution_count": 28,
     "metadata": {},
     "output_type": "execute_result"
    }
   ],
   "source": [
    "knn = KNeighborsClassifier(n_neighbors = 5)\n",
    "knn.fit(stroke_features_train, stroke_label_train)\n",
    "\n",
    "train_score = knn.score(stroke_features_train, stroke_label_train)\n",
    "test_score = knn.score(stroke_features_test, stroke_label_test)\n",
    "\n",
    "predict_knn = knn.predict(stroke_features_test)\n",
    "accuracy = accuracy_score(stroke_label_test, predict_knn)\n",
    "f1 = f1_score(stroke_label_test, predict_knn, average= \"weighted\")\n",
    "\n",
    "new_model = pd.Series({\n",
    "    \"Model Name\": \"KNeighbors Classifier\",\n",
    "    \"Train Score\":train_score,\n",
    "    \"Test Score\": test_score, \n",
    "    \"Accuracy Score\": accuracy,\n",
    "    \"F1 Score\": f1\n",
    "})\n",
    "model_score = pd.concat([model_score, new_model.to_frame().T], ignore_index=True)\n",
    "model_score"
   ]
  },
  {
   "cell_type": "markdown",
   "metadata": {},
   "source": [
    "### Gaussian Naive Bayes "
   ]
  },
  {
   "cell_type": "markdown",
   "metadata": {},
   "source": [
    "The Naive Bayes classification approach employs the Bayes Theorem's principle of class conditional independence. This means that the presence of one feature in the probability of a given outcome has no effect on the presence of another, and each predictor has the same effect on that outcome. While other functions can be used to estimate data distribution, the Gaussian or normal distribution is the most straightforward to implement because you only need to calculate the mean and standard deviation for the training data."
   ]
  },
  {
   "cell_type": "code",
   "execution_count": 29,
   "metadata": {},
   "outputs": [
    {
     "data": {
      "text/html": [
       "<div>\n",
       "<style scoped>\n",
       "    .dataframe tbody tr th:only-of-type {\n",
       "        vertical-align: middle;\n",
       "    }\n",
       "\n",
       "    .dataframe tbody tr th {\n",
       "        vertical-align: top;\n",
       "    }\n",
       "\n",
       "    .dataframe thead th {\n",
       "        text-align: right;\n",
       "    }\n",
       "</style>\n",
       "<table border=\"1\" class=\"dataframe\">\n",
       "  <thead>\n",
       "    <tr style=\"text-align: right;\">\n",
       "      <th></th>\n",
       "      <th>Model Name</th>\n",
       "      <th>Train Score</th>\n",
       "      <th>Test Score</th>\n",
       "      <th>Accuracy Score</th>\n",
       "      <th>F1 Score</th>\n",
       "    </tr>\n",
       "  </thead>\n",
       "  <tbody>\n",
       "    <tr>\n",
       "      <th>0</th>\n",
       "      <td>Decision Tree Classifier</td>\n",
       "      <td>0.956935</td>\n",
       "      <td>0.93803</td>\n",
       "      <td>0.93803</td>\n",
       "      <td>0.911825</td>\n",
       "    </tr>\n",
       "    <tr>\n",
       "      <th>1</th>\n",
       "      <td>Random Forest Classifier</td>\n",
       "      <td>0.955257</td>\n",
       "      <td>0.941944</td>\n",
       "      <td>0.941944</td>\n",
       "      <td>0.913784</td>\n",
       "    </tr>\n",
       "    <tr>\n",
       "      <th>2</th>\n",
       "      <td>KNeighbors Classifier</td>\n",
       "      <td>0.957494</td>\n",
       "      <td>0.942596</td>\n",
       "      <td>0.942596</td>\n",
       "      <td>0.918872</td>\n",
       "    </tr>\n",
       "    <tr>\n",
       "      <th>3</th>\n",
       "      <td>Gaussian Naive Bayes</td>\n",
       "      <td>0.319911</td>\n",
       "      <td>0.941944</td>\n",
       "      <td>0.941944</td>\n",
       "      <td>0.913784</td>\n",
       "    </tr>\n",
       "  </tbody>\n",
       "</table>\n",
       "</div>"
      ],
      "text/plain": [
       "                 Model Name Train Score Test Score Accuracy Score  F1 Score\n",
       "0  Decision Tree Classifier    0.956935    0.93803        0.93803  0.911825\n",
       "1  Random Forest Classifier    0.955257   0.941944       0.941944  0.913784\n",
       "2     KNeighbors Classifier    0.957494   0.942596       0.942596  0.918872\n",
       "3      Gaussian Naive Bayes    0.319911   0.941944       0.941944  0.913784"
      ]
     },
     "execution_count": 29,
     "metadata": {},
     "output_type": "execute_result"
    }
   ],
   "source": [
    "gnb = GaussianNB()\n",
    "gnb.fit(stroke_features_train, stroke_label_train)\n",
    "\n",
    "train_score = gnb.score(stroke_features_train, stroke_label_train)\n",
    "test_score = gnb.score(stroke_features_test, stroke_label_test)\n",
    "\n",
    "predict_gnb = gnb.predict(stroke_features_test)\n",
    "accuracy = accuracy_score(stroke_label_test, predict_gnb)\n",
    "f1 = f1_score(stroke_label_test, predict_gnb, average= \"weighted\")\n",
    "\n",
    "new_model = pd.Series({\n",
    "    \"Model Name\": \"Gaussian Naive Bayes\",\n",
    "    \"Train Score\":train_score,\n",
    "    \"Test Score\": test_score, \n",
    "    \"Accuracy Score\": accuracy,\n",
    "    \"F1 Score\": f1\n",
    "})\n",
    "model_score = pd.concat([model_score, new_model.to_frame().T], ignore_index=True)\n",
    "model_score"
   ]
  },
  {
   "cell_type": "markdown",
   "metadata": {},
   "source": [
    "### Gaussian Support Vector Machines¶"
   ]
  },
  {
   "cell_type": "markdown",
   "metadata": {},
   "source": [
    "A support vector machine can be used for data classification as well as regression. However, it is typically used for classification problems, constructing a hyperplane with the greatest distance between two classes of data points. This hyperplane is known as the decision boundary, and it separates the data point classes (for example, oranges vs. apples) on either side of the plane.\n",
    "\n",
    "Another popular Kernel method used in SVM models is Gaussian RBF (Radial Basis Function). The RBF kernel is a function whose value is proportional to the distance between the origin and some point."
   ]
  },
  {
   "cell_type": "code",
   "execution_count": 30,
   "metadata": {},
   "outputs": [
    {
     "data": {
      "text/html": [
       "<div>\n",
       "<style scoped>\n",
       "    .dataframe tbody tr th:only-of-type {\n",
       "        vertical-align: middle;\n",
       "    }\n",
       "\n",
       "    .dataframe tbody tr th {\n",
       "        vertical-align: top;\n",
       "    }\n",
       "\n",
       "    .dataframe thead th {\n",
       "        text-align: right;\n",
       "    }\n",
       "</style>\n",
       "<table border=\"1\" class=\"dataframe\">\n",
       "  <thead>\n",
       "    <tr style=\"text-align: right;\">\n",
       "      <th></th>\n",
       "      <th>Model Name</th>\n",
       "      <th>Train Score</th>\n",
       "      <th>Test Score</th>\n",
       "      <th>Accuracy Score</th>\n",
       "      <th>F1 Score</th>\n",
       "    </tr>\n",
       "  </thead>\n",
       "  <tbody>\n",
       "    <tr>\n",
       "      <th>0</th>\n",
       "      <td>Decision Tree Classifier</td>\n",
       "      <td>0.956935</td>\n",
       "      <td>0.93803</td>\n",
       "      <td>0.93803</td>\n",
       "      <td>0.911825</td>\n",
       "    </tr>\n",
       "    <tr>\n",
       "      <th>1</th>\n",
       "      <td>Random Forest Classifier</td>\n",
       "      <td>0.955257</td>\n",
       "      <td>0.941944</td>\n",
       "      <td>0.941944</td>\n",
       "      <td>0.913784</td>\n",
       "    </tr>\n",
       "    <tr>\n",
       "      <th>2</th>\n",
       "      <td>KNeighbors Classifier</td>\n",
       "      <td>0.957494</td>\n",
       "      <td>0.942596</td>\n",
       "      <td>0.942596</td>\n",
       "      <td>0.918872</td>\n",
       "    </tr>\n",
       "    <tr>\n",
       "      <th>3</th>\n",
       "      <td>Gaussian Naive Bayes</td>\n",
       "      <td>0.319911</td>\n",
       "      <td>0.941944</td>\n",
       "      <td>0.941944</td>\n",
       "      <td>0.913784</td>\n",
       "    </tr>\n",
       "    <tr>\n",
       "      <th>4</th>\n",
       "      <td>Gaussian Support Vector Machine</td>\n",
       "      <td>0.973993</td>\n",
       "      <td>0.926288</td>\n",
       "      <td>0.926288</td>\n",
       "      <td>0.914384</td>\n",
       "    </tr>\n",
       "  </tbody>\n",
       "</table>\n",
       "</div>"
      ],
      "text/plain": [
       "                        Model Name Train Score Test Score Accuracy Score  \\\n",
       "0         Decision Tree Classifier    0.956935    0.93803        0.93803   \n",
       "1         Random Forest Classifier    0.955257   0.941944       0.941944   \n",
       "2            KNeighbors Classifier    0.957494   0.942596       0.942596   \n",
       "3             Gaussian Naive Bayes    0.319911   0.941944       0.941944   \n",
       "4  Gaussian Support Vector Machine    0.973993   0.926288       0.926288   \n",
       "\n",
       "   F1 Score  \n",
       "0  0.911825  \n",
       "1  0.913784  \n",
       "2  0.918872  \n",
       "3  0.913784  \n",
       "4  0.914384  "
      ]
     },
     "execution_count": 30,
     "metadata": {},
     "output_type": "execute_result"
    }
   ],
   "source": [
    "rbf = SVC(kernel='rbf', C=100)\n",
    "rbf.fit(stroke_features_train, stroke_label_train)\n",
    "\n",
    "train_score = rbf.score(stroke_features_train, stroke_label_train)\n",
    "test_score = rbf.score(stroke_features_test, stroke_label_test)\n",
    "\n",
    "predict_rbf = rbf.predict(stroke_features_test)\n",
    "accuracy = accuracy_score(stroke_label_test, predict_rbf)\n",
    "f1 = f1_score(stroke_label_test, predict_rbf, average= \"weighted\")\n",
    "\n",
    "new_model = pd.Series({\n",
    "    \"Model Name\": \"Gaussian Support Vector Machine\",\n",
    "    \"Train Score\":train_score,\n",
    "    \"Test Score\": test_score, \n",
    "    \"Accuracy Score\": accuracy,\n",
    "    \"F1 Score\": f1\n",
    "})\n",
    "model_score = pd.concat([model_score, new_model.to_frame().T], ignore_index=True)\n",
    "model_score"
   ]
  },
  {
   "cell_type": "code",
   "execution_count": 31,
   "metadata": {},
   "outputs": [
    {
     "data": {
      "text/html": [
       "<style type=\"text/css\">\n",
       "#T_e081c_row1_col0, #T_e081c_row2_col2, #T_e081c_row2_col3, #T_e081c_row2_col4, #T_e081c_row4_col1 {\n",
       "  background-color: red;\n",
       "}\n",
       "</style>\n",
       "<table id=\"T_e081c\">\n",
       "  <thead>\n",
       "    <tr>\n",
       "      <th class=\"blank level0\" >&nbsp;</th>\n",
       "      <th id=\"T_e081c_level0_col0\" class=\"col_heading level0 col0\" >Model Name</th>\n",
       "      <th id=\"T_e081c_level0_col1\" class=\"col_heading level0 col1\" >Train Score</th>\n",
       "      <th id=\"T_e081c_level0_col2\" class=\"col_heading level0 col2\" >Test Score</th>\n",
       "      <th id=\"T_e081c_level0_col3\" class=\"col_heading level0 col3\" >Accuracy Score</th>\n",
       "      <th id=\"T_e081c_level0_col4\" class=\"col_heading level0 col4\" >F1 Score</th>\n",
       "    </tr>\n",
       "  </thead>\n",
       "  <tbody>\n",
       "    <tr>\n",
       "      <th id=\"T_e081c_level0_row0\" class=\"row_heading level0 row0\" >0</th>\n",
       "      <td id=\"T_e081c_row0_col0\" class=\"data row0 col0\" >Decision Tree Classifier</td>\n",
       "      <td id=\"T_e081c_row0_col1\" class=\"data row0 col1\" >0.956935</td>\n",
       "      <td id=\"T_e081c_row0_col2\" class=\"data row0 col2\" >0.938030</td>\n",
       "      <td id=\"T_e081c_row0_col3\" class=\"data row0 col3\" >0.938030</td>\n",
       "      <td id=\"T_e081c_row0_col4\" class=\"data row0 col4\" >0.911825</td>\n",
       "    </tr>\n",
       "    <tr>\n",
       "      <th id=\"T_e081c_level0_row1\" class=\"row_heading level0 row1\" >1</th>\n",
       "      <td id=\"T_e081c_row1_col0\" class=\"data row1 col0\" >Random Forest Classifier</td>\n",
       "      <td id=\"T_e081c_row1_col1\" class=\"data row1 col1\" >0.955257</td>\n",
       "      <td id=\"T_e081c_row1_col2\" class=\"data row1 col2\" >0.941944</td>\n",
       "      <td id=\"T_e081c_row1_col3\" class=\"data row1 col3\" >0.941944</td>\n",
       "      <td id=\"T_e081c_row1_col4\" class=\"data row1 col4\" >0.913784</td>\n",
       "    </tr>\n",
       "    <tr>\n",
       "      <th id=\"T_e081c_level0_row2\" class=\"row_heading level0 row2\" >2</th>\n",
       "      <td id=\"T_e081c_row2_col0\" class=\"data row2 col0\" >KNeighbors Classifier</td>\n",
       "      <td id=\"T_e081c_row2_col1\" class=\"data row2 col1\" >0.957494</td>\n",
       "      <td id=\"T_e081c_row2_col2\" class=\"data row2 col2\" >0.942596</td>\n",
       "      <td id=\"T_e081c_row2_col3\" class=\"data row2 col3\" >0.942596</td>\n",
       "      <td id=\"T_e081c_row2_col4\" class=\"data row2 col4\" >0.918872</td>\n",
       "    </tr>\n",
       "    <tr>\n",
       "      <th id=\"T_e081c_level0_row3\" class=\"row_heading level0 row3\" >3</th>\n",
       "      <td id=\"T_e081c_row3_col0\" class=\"data row3 col0\" >Gaussian Naive Bayes</td>\n",
       "      <td id=\"T_e081c_row3_col1\" class=\"data row3 col1\" >0.319911</td>\n",
       "      <td id=\"T_e081c_row3_col2\" class=\"data row3 col2\" >0.941944</td>\n",
       "      <td id=\"T_e081c_row3_col3\" class=\"data row3 col3\" >0.941944</td>\n",
       "      <td id=\"T_e081c_row3_col4\" class=\"data row3 col4\" >0.913784</td>\n",
       "    </tr>\n",
       "    <tr>\n",
       "      <th id=\"T_e081c_level0_row4\" class=\"row_heading level0 row4\" >4</th>\n",
       "      <td id=\"T_e081c_row4_col0\" class=\"data row4 col0\" >Gaussian Support Vector Machine</td>\n",
       "      <td id=\"T_e081c_row4_col1\" class=\"data row4 col1\" >0.973993</td>\n",
       "      <td id=\"T_e081c_row4_col2\" class=\"data row4 col2\" >0.926288</td>\n",
       "      <td id=\"T_e081c_row4_col3\" class=\"data row4 col3\" >0.926288</td>\n",
       "      <td id=\"T_e081c_row4_col4\" class=\"data row4 col4\" >0.914384</td>\n",
       "    </tr>\n",
       "  </tbody>\n",
       "</table>\n"
      ],
      "text/plain": [
       "<pandas.io.formats.style.Styler at 0x18ed587bb80>"
      ]
     },
     "execution_count": 31,
     "metadata": {},
     "output_type": "execute_result"
    }
   ],
   "source": [
    "model_score.style.highlight_max(color = \"red\", axis = 0)"
   ]
  },
  {
   "cell_type": "markdown",
   "metadata": {},
   "source": [
    "## Conclusion"
   ]
  },
  {
   "cell_type": "markdown",
   "metadata": {},
   "source": [
    "Based on the results, the best algorithm for the current task in my opinion is KNeighbors Classifier. As we can see this model shows the best performances with an accuracy score = 0.942596 and an f1 score = 0.918872. The other tested algorithms performed very similarly as well."
   ]
  },
  {
   "cell_type": "markdown",
   "metadata": {},
   "source": [
    "## References\n",
    "\n",
    "1. [Kaggle - Stroke Prediction Dataset](https://www.kaggle.com/datasets/fedesoriano/stroke-prediction-dataset)\n",
    "\n",
    "2.  [Supervised Learning Models](https://www.ibm.com/cloud/learn/supervised-learning)\n",
    "\n",
    "3. Boehme, A. K., Esenwa, C., & Elkind, M. S. (2017). Stroke risk factors, genetics, and prevention. Circulation research, 120(3), 472-495.\n",
    "\n",
    "4. Hardie, K., Hankey, G. J., Jamrozik, K., Broadhurst, R. J., & Anderson, C. (2004). Ten-year risk of first recurrent stroke and disability after first-ever stroke in the Perth Community Stroke Study. Stroke, 35(3), 731-735.\n",
    "\n",
    "5. Kapral, M., et.al. (2019). Rural-urban differences in stroke risk factors, incidence, and mortality in people with and without prior stroke: The CANHEART stroke study. Circulation: Cardiovascular Quality and Outcomes, 12(2),e004973. \n",
    "\n",
    "6. Truelsen, T., Piechowski‐Jóźwiak, B., Bonita, R., Mathers, C., Bogousslavsky, J., & Boysen, G. (2006). Stroke incidence and prevalence in Europe: a review of available data. European journal of neurology, 13(6), 581-598.\n"
   ]
  }
 ],
 "metadata": {
  "kernelspec": {
   "display_name": "Python 3 (ipykernel)",
   "language": "python",
   "name": "python3"
  },
  "language_info": {
   "codemirror_mode": {
    "name": "ipython",
    "version": 3
   },
   "file_extension": ".py",
   "mimetype": "text/x-python",
   "name": "python",
   "nbconvert_exporter": "python",
   "pygments_lexer": "ipython3",
   "version": "3.10.1"
  }
 },
 "nbformat": 4,
 "nbformat_minor": 1
}
