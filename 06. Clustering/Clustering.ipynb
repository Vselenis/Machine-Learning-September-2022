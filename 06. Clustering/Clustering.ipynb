{
 "cells": [
  {
   "cell_type": "code",
   "execution_count": 1,
   "id": "42d1ad58",
   "metadata": {},
   "outputs": [],
   "source": [
    "%matplotlib inline"
   ]
  },
  {
   "cell_type": "code",
   "execution_count": 2,
   "id": "9a0b6710",
   "metadata": {},
   "outputs": [],
   "source": [
    "#from jupyterthemes.stylefx import set_nb_theme\n",
    "#set_nb_theme(\"chesterish\")"
   ]
  },
  {
   "cell_type": "code",
   "execution_count": 11,
   "id": "aa88acaa",
   "metadata": {},
   "outputs": [],
   "source": [
    "import pandas as pd\n",
    "import numpy as np\n",
    "import matplotlib.pyplot as plt\n",
    "\n",
    "from sklearn.datasets import make_blobs\n",
    "\n",
    "from sklearn.cluster import KMeans"
   ]
  },
  {
   "cell_type": "markdown",
   "id": "bfe19304",
   "metadata": {},
   "source": [
    "### Clustering"
   ]
  },
  {
   "cell_type": "code",
   "execution_count": 6,
   "id": "61e488e1",
   "metadata": {},
   "outputs": [
    {
     "data": {
      "text/plain": [
       "(array([[-2.39055861, -2.26021536],\n",
       "        [-3.34052993,  7.02575104],\n",
       "        [-1.78238957, -0.06057714],\n",
       "        [-6.77106786,  5.98553851],\n",
       "        [-0.28841746,  0.6480092 ],\n",
       "        [-1.02581013,  5.15006782],\n",
       "        [-0.11105397,  6.93448583],\n",
       "        [-3.10301581,  1.06526077],\n",
       "        [-3.14577283, -1.5622986 ],\n",
       "        [-2.80692118,  7.3297175 ],\n",
       "        [-0.94197487, -0.64378936],\n",
       "        [-3.11784011,  6.1746266 ],\n",
       "        [-4.19274503,  5.61884445],\n",
       "        [-2.3691401 ,  6.95556434],\n",
       "        [-1.42702575,  7.02479009],\n",
       "        [-0.36755504,  7.47757894],\n",
       "        [-1.60044693,  7.3535434 ],\n",
       "        [-1.2268314 , -0.56929544],\n",
       "        [-2.33713995,  0.19456336],\n",
       "        [-4.68907526,  6.96996329],\n",
       "        [-2.84515182,  0.04554062],\n",
       "        [-0.89912335, -0.30676361],\n",
       "        [-2.73723723,  7.67968377],\n",
       "        [-1.84598966, -0.20625421],\n",
       "        [-5.17128334,  6.74672009],\n",
       "        [-0.89182229,  5.17464764],\n",
       "        [-0.67779621,  4.01713386],\n",
       "        [-3.44693313, -0.53718154],\n",
       "        [-1.44235544, -0.5463061 ],\n",
       "        [-4.9219535 ,  6.33090709],\n",
       "        [-0.20948966,  8.08916583],\n",
       "        [-2.61083625, -0.44995719],\n",
       "        [-3.65996162,  7.67881634],\n",
       "        [-4.1451166 ,  8.34293405],\n",
       "        [ 0.2429735 ,  8.38120892],\n",
       "        [-1.62006128,  7.0290272 ],\n",
       "        [-1.48967512, -0.49392021],\n",
       "        [-2.31103342, -1.59121349],\n",
       "        [-1.34683675,  5.91570852],\n",
       "        [-2.59065642,  5.92351041],\n",
       "        [-2.6516537 ,  0.94336488],\n",
       "        [-4.94089854,  7.69625804],\n",
       "        [-3.98905412,  8.75172312],\n",
       "        [-1.64906901,  7.33125601],\n",
       "        [-5.36285471,  7.51269548],\n",
       "        [-1.6895015 , -1.08470189],\n",
       "        [-3.41058062, -1.48879513],\n",
       "        [-3.45622675,  6.62809665],\n",
       "        [-5.34857557,  8.4245418 ],\n",
       "        [-0.99752469,  7.93445376],\n",
       "        [-0.17063509,  7.5016354 ],\n",
       "        [-3.48072227,  7.95036677],\n",
       "        [-5.52749448,  7.28546226],\n",
       "        [-2.36566809,  0.04371298],\n",
       "        [-2.62039904, -0.99131349],\n",
       "        [-4.25546821,  7.50529279],\n",
       "        [-4.24821286,  6.39517052],\n",
       "        [-3.56592435,  0.66617439],\n",
       "        [-3.45523896, -1.36147103],\n",
       "        [-2.30452496,  5.50643021],\n",
       "        [-3.13328253,  7.22915771],\n",
       "        [-2.9905209 ,  6.52935434],\n",
       "        [-0.77863988, -1.13241184],\n",
       "        [-1.85632368,  7.65869397],\n",
       "        [-3.99543759,  6.93772077],\n",
       "        [-1.702958  ,  8.80309742],\n",
       "        [-0.99810982,  6.84210174],\n",
       "        [-2.29166491,  5.29977581],\n",
       "        [-1.69002213, -1.19002471],\n",
       "        [-1.6677777 , -0.30032014],\n",
       "        [-2.56319392,  5.19635566],\n",
       "        [-2.38418834,  7.89681222],\n",
       "        [-0.60163587,  6.71783817],\n",
       "        [-1.35851748,  7.80218944],\n",
       "        [-5.3572986 ,  6.17486256],\n",
       "        [-0.76601666,  4.95109984],\n",
       "        [-1.58591362, -0.229487  ],\n",
       "        [-1.04477604, -0.69676078],\n",
       "        [-5.06381361,  7.16258593],\n",
       "        [-1.93188441, -0.15158839],\n",
       "        [-3.17866128,  6.8523448 ],\n",
       "        [-3.82219852,  7.93909843],\n",
       "        [-1.83257245,  0.8474932 ],\n",
       "        [-1.43411656,  6.23493197],\n",
       "        [-6.27442396,  7.63246198],\n",
       "        [-1.64681834,  6.77220731],\n",
       "        [-3.35989467,  8.21010275],\n",
       "        [-2.21512646,  6.75746907],\n",
       "        [-3.5479532 ,  6.95407503],\n",
       "        [-1.05411847,  6.74872539],\n",
       "        [-3.17787169,  6.22107469],\n",
       "        [ 1.47489563,  6.83081486],\n",
       "        [-0.90980196,  7.44416829],\n",
       "        [-0.26963558,  6.26350067],\n",
       "        [-4.14650474,  0.1758529 ],\n",
       "        [-5.212611  ,  5.79738194],\n",
       "        [-1.49197467, -0.31896109],\n",
       "        [-2.81257953, -0.85557482],\n",
       "        [-0.31906579,  7.11302435],\n",
       "        [-0.42598147,  8.5620819 ]]),\n",
       " array([1, 2, 1, 2, 1, 0, 0, 1, 1, 0, 1, 2, 2, 0, 0, 0, 0, 1, 1, 2, 1, 1,\n",
       "        2, 1, 2, 0, 0, 1, 1, 2, 0, 1, 2, 2, 0, 0, 1, 1, 0, 2, 1, 2, 2, 0,\n",
       "        2, 1, 1, 2, 2, 0, 0, 0, 2, 1, 1, 2, 2, 1, 1, 0, 2, 2, 1, 0, 2, 0,\n",
       "        0, 0, 1, 1, 0, 2, 0, 0, 2, 0, 1, 1, 2, 1, 2, 2, 1, 0, 2, 0, 2, 2,\n",
       "        2, 0, 2, 0, 0, 0, 1, 2, 1, 1, 0, 0]))"
      ]
     },
     "execution_count": 6,
     "metadata": {},
     "output_type": "execute_result"
    }
   ],
   "source": [
    "make_blobs()"
   ]
  },
  {
   "cell_type": "code",
   "execution_count": 9,
   "id": "324df21c",
   "metadata": {},
   "outputs": [],
   "source": [
    "attributes, clusters = make_blobs()"
   ]
  },
  {
   "cell_type": "code",
   "execution_count": 10,
   "id": "52b4dcb8",
   "metadata": {},
   "outputs": [
    {
     "data": {
      "image/png": "[encoded data removed]",
      "text/plain": [
       "<Figure size 432x288 with 1 Axes>"
      ]
     },
     "metadata": {
      "needs_background": "light"
     },
     "output_type": "display_data"
    }
   ],
   "source": [
    "plt.scatter(attributes[:, 0], attributes[:, 1], c = clusters)\n",
    "plt.show()"
   ]
  },
  {
   "cell_type": "code",
   "execution_count": null,
   "id": "b2751902",
   "metadata": {},
   "outputs": [],
   "source": [
    "k_means = KMeans()"
   ]
  }
 ],
 "metadata": {
  "kernelspec": {
   "display_name": "Python 3 (ipykernel)",
   "language": "python",
   "name": "python3"
  },
  "language_info": {
   "codemirror_mode": {
    "name": "ipython",
    "version": 3
   },
   "file_extension": ".py",
   "mimetype": "text/x-python",
   "name": "python",
   "nbconvert_exporter": "python",
   "pygments_lexer": "ipython3",
   "version": "3.9.13"
  }
 },
 "nbformat": 4,
 "nbformat_minor": 5
}
