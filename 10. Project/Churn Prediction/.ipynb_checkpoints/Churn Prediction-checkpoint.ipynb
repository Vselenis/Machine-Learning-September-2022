{
 "cells": [
  {
   "cell_type": "markdown",
   "metadata": {},
   "source": [
    "# https://www.kaggle.com/datasets/yeanzc/telco-customer-churn-ibm-dataset/data"
   ]
  },
  {
   "cell_type": "code",
   "execution_count": 1,
   "metadata": {},
   "outputs": [],
   "source": [
    "import numpy as np\n",
    "import pandas as pd\n",
    "import matplotlib.pyplot as plt\n",
    "import seaborn as sns \n",
    "\n",
    "from sklearn.preprocessing import StandardScaler\n",
    "from sklearn.metrics import accuracy_score, f1_score\n",
    "from sklearn.model_selection import train_test_split\n",
    "\n",
    "from sklearn.tree import DecisionTreeClassifier\n",
    "from sklearn.ensemble import RandomForestClassifier\n",
    "from sklearn.neighbors import KNeighborsClassifier\n",
    "from sklearn.naive_bayes import GaussianNB\n",
    "from sklearn.svm import SVC"
   ]
  },
  {
   "cell_type": "markdown",
   "metadata": {},
   "source": [
    "<h1><center> Customer Churn Prediction </center></h1> \n",
    "<h4><center> Author: Vasil Kichukov </center></h4> "
   ]
  },
  {
   "cell_type": "markdown",
   "metadata": {},
   "source": [
    "## References\n",
    "\n",
    "1. [Kaggle - Stroke Prediction Dataset](https://www.kaggle.com/datasets/fedesoriano/stroke-prediction-dataset)\n",
    "\n",
    "2.  [Supervised Learning Models](https://www.ibm.com/cloud/learn/supervised-learning)\n",
    "\n",
    "3. Boehme, A. K., Esenwa, C., & Elkind, M. S. (2017). Stroke risk factors, genetics, and prevention. Circulation research, 120(3), 472-495.\n",
    "\n",
    "4. Hardie, K., Hankey, G. J., Jamrozik, K., Broadhurst, R. J., & Anderson, C. (2004). Ten-year risk of first recurrent stroke and disability after first-ever stroke in the Perth Community Stroke Study. Stroke, 35(3), 731-735.\n",
    "\n",
    "5. Kapral, M., et.al. (2019). Rural-urban differences in stroke risk factors, incidence, and mortality in people with and without prior stroke: The CANHEART stroke study. Circulation: Cardiovascular Quality and Outcomes, 12(2),e004973. \n",
    "\n",
    "6. Truelsen, T., Piechowski‐Jóźwiak, B., Bonita, R., Mathers, C., Bogousslavsky, J., & Boysen, G. (2006). Stroke incidence and prevalence in Europe: a review of available data. European journal of neurology, 13(6), 581-598.\n"
   ]
  },
  {
   "cell_type": "markdown",
   "metadata": {},
   "source": [
    "## Abstract ##"
   ]
  },
  {
   "cell_type": "markdown",
   "metadata": {},
   "source": [
    "## Introduction ##\n"
   ]
  },
  {
   "cell_type": "markdown",
   "metadata": {},
   "source": [
    "## Dataset Representation ## \n",
    "\n",
    "CustomerID: A unique ID that identifies each customer.\n",
    "\n",
    "Count: A value used in reporting/dashboarding to sum up the number of customers in a filtered set.\n",
    "\n",
    "Country: The country of the customer’s primary residence.\n",
    "\n",
    "State: The state of the customer’s primary residence.\n",
    "\n",
    "City: The city of the customer’s primary residence.\n",
    "\n",
    "Zip Code: The zip code of the customer’s primary residence.\n",
    "\n",
    "Lat Long: The combined latitude and longitude of the customer’s primary residence.\n",
    "\n",
    "Latitude: The latitude of the customer’s primary residence.\n",
    "\n",
    "Longitude: The longitude of the customer’s primary residence.\n",
    "\n",
    "Gender: The customer’s gender: Male, Female\n",
    "\n",
    "Senior Citizen: Indicates if the customer is 65 or older: Yes, No\n",
    "\n",
    "Partner: Indicate if the customer has a partner: Yes, No\n",
    "\n",
    "Dependents: Indicates if the customer lives with any dependents: Yes, No. Dependents could be children, parents, grandparents, etc.\n",
    "\n",
    "Tenure Months: Indicates the total amount of months that the customer has been with the company by the end of the quarter specified above.\n",
    "\n",
    "Phone Service: Indicates if the customer subscribes to home phone service with the company: Yes, No\n",
    "\n",
    "Multiple Lines: Indicates if the customer subscribes to multiple telephone lines with the company: Yes, No\n",
    "\n",
    "Internet Service: Indicates if the customer subscribes to Internet service with the company: No, DSL, Fiber Optic, Cable.\n",
    "\n",
    "Online Security: Indicates if the customer subscribes to an additional online security service provided by the company: Yes, No\n",
    "\n",
    "Online Backup: Indicates if the customer subscribes to an additional online backup service provided by the company: Yes, No\n",
    "\n",
    "Device Protection: Indicates if the customer subscribes to an additional device protection plan for their Internet equipment provided by the company: Yes, No\n",
    "\n",
    "Tech Support: Indicates if the customer subscribes to an additional technical support plan from the company with reduced wait times: Yes, No\n",
    "\n",
    "Streaming TV: Indicates if the customer uses their Internet service to stream television programing from a third party provider: Yes, No. The company does not charge an additional fee for this service.\n",
    "\n",
    "Streaming Movies: Indicates if the customer uses their Internet service to stream movies from a third party provider: Yes, No. The company does not charge an additional fee for this service.\n",
    "\n",
    "Contract: Indicates the customer’s current contract type: Month-to-Month, One Year, Two Year.\n",
    "\n",
    "Paperless Billing: Indicates if the customer has chosen paperless billing: Yes, No\n",
    "\n",
    "Payment Method: Indicates how the customer pays their bill: Bank Withdrawal, Credit Card, Mailed Check\n",
    "\n",
    "Monthly Charge: Indicates the customer’s current total monthly charge for all their services from the company.\n",
    "\n",
    "Total Charges: Indicates the customer’s total charges, calculated to the end of the quarter specified above.\n",
    "\n",
    "Churn Label: Yes = the customer left the company this quarter. No = the customer remained with the company. Directly related to Churn Value.\n",
    "\n",
    "Churn Value: 1 = the customer left the company this quarter. 0 = the customer remained with the company. Directly related to Churn Label.\n",
    "\n",
    "Churn Score: A value from 0-100 that is calculated using the predictive tool IBM SPSS Modeler. The model incorporates multiple factors known to cause churn. The higher the score, the more likely the customer will churn.\n",
    "\n",
    "CLTV: Customer Lifetime Value. A predicted CLTV is calculated using corporate formulas and existing data. The higher the value, the more valuable the customer. High value customers should be monitored for churn.\n",
    "\n",
    "Churn Reason: A customer’s specific reason for leaving the company. Directly related to Churn Category."
   ]
  },
  {
   "cell_type": "markdown",
   "metadata": {},
   "source": [
    "## Reading, Tidying and Cleaning data"
   ]
  },
  {
   "cell_type": "code",
   "execution_count": 2,
   "metadata": {
    "scrolled": false
   },
   "outputs": [
    {
     "data": {
      "text/html": [
       "<div>\n",
       "<style scoped>\n",
       "    .dataframe tbody tr th:only-of-type {\n",
       "        vertical-align: middle;\n",
       "    }\n",
       "\n",
       "    .dataframe tbody tr th {\n",
       "        vertical-align: top;\n",
       "    }\n",
       "\n",
       "    .dataframe thead th {\n",
       "        text-align: right;\n",
       "    }\n",
       "</style>\n",
       "<table border=\"1\" class=\"dataframe\">\n",
       "  <thead>\n",
       "    <tr style=\"text-align: right;\">\n",
       "      <th></th>\n",
       "      <th>CustomerID</th>\n",
       "      <th>Count</th>\n",
       "      <th>Country</th>\n",
       "      <th>State</th>\n",
       "      <th>City</th>\n",
       "      <th>Zip Code</th>\n",
       "      <th>Lat Long</th>\n",
       "      <th>Latitude</th>\n",
       "      <th>Longitude</th>\n",
       "      <th>Gender</th>\n",
       "      <th>...</th>\n",
       "      <th>Contract</th>\n",
       "      <th>Paperless Billing</th>\n",
       "      <th>Payment Method</th>\n",
       "      <th>Monthly Charges</th>\n",
       "      <th>Total Charges</th>\n",
       "      <th>Churn Label</th>\n",
       "      <th>Churn Value</th>\n",
       "      <th>Churn Score</th>\n",
       "      <th>CLTV</th>\n",
       "      <th>Churn Reason</th>\n",
       "    </tr>\n",
       "  </thead>\n",
       "  <tbody>\n",
       "    <tr>\n",
       "      <th>7038</th>\n",
       "      <td>2569-WGERO</td>\n",
       "      <td>1</td>\n",
       "      <td>United States</td>\n",
       "      <td>California</td>\n",
       "      <td>Landers</td>\n",
       "      <td>92285</td>\n",
       "      <td>34.341737, -116.539416</td>\n",
       "      <td>34.341737</td>\n",
       "      <td>-116.539416</td>\n",
       "      <td>Female</td>\n",
       "      <td>...</td>\n",
       "      <td>Two year</td>\n",
       "      <td>Yes</td>\n",
       "      <td>Bank transfer (automatic)</td>\n",
       "      <td>21.15</td>\n",
       "      <td>1419.4</td>\n",
       "      <td>No</td>\n",
       "      <td>0</td>\n",
       "      <td>45</td>\n",
       "      <td>5306</td>\n",
       "      <td>NaN</td>\n",
       "    </tr>\n",
       "    <tr>\n",
       "      <th>7039</th>\n",
       "      <td>6840-RESVB</td>\n",
       "      <td>1</td>\n",
       "      <td>United States</td>\n",
       "      <td>California</td>\n",
       "      <td>Adelanto</td>\n",
       "      <td>92301</td>\n",
       "      <td>34.667815, -117.536183</td>\n",
       "      <td>34.667815</td>\n",
       "      <td>-117.536183</td>\n",
       "      <td>Male</td>\n",
       "      <td>...</td>\n",
       "      <td>One year</td>\n",
       "      <td>Yes</td>\n",
       "      <td>Mailed check</td>\n",
       "      <td>84.80</td>\n",
       "      <td>1990.5</td>\n",
       "      <td>No</td>\n",
       "      <td>0</td>\n",
       "      <td>59</td>\n",
       "      <td>2140</td>\n",
       "      <td>NaN</td>\n",
       "    </tr>\n",
       "    <tr>\n",
       "      <th>7040</th>\n",
       "      <td>2234-XADUH</td>\n",
       "      <td>1</td>\n",
       "      <td>United States</td>\n",
       "      <td>California</td>\n",
       "      <td>Amboy</td>\n",
       "      <td>92304</td>\n",
       "      <td>34.559882, -115.637164</td>\n",
       "      <td>34.559882</td>\n",
       "      <td>-115.637164</td>\n",
       "      <td>Female</td>\n",
       "      <td>...</td>\n",
       "      <td>One year</td>\n",
       "      <td>Yes</td>\n",
       "      <td>Credit card (automatic)</td>\n",
       "      <td>103.20</td>\n",
       "      <td>7362.9</td>\n",
       "      <td>No</td>\n",
       "      <td>0</td>\n",
       "      <td>71</td>\n",
       "      <td>5560</td>\n",
       "      <td>NaN</td>\n",
       "    </tr>\n",
       "    <tr>\n",
       "      <th>7041</th>\n",
       "      <td>4801-JZAZL</td>\n",
       "      <td>1</td>\n",
       "      <td>United States</td>\n",
       "      <td>California</td>\n",
       "      <td>Angelus Oaks</td>\n",
       "      <td>92305</td>\n",
       "      <td>34.1678, -116.86433</td>\n",
       "      <td>34.167800</td>\n",
       "      <td>-116.864330</td>\n",
       "      <td>Female</td>\n",
       "      <td>...</td>\n",
       "      <td>Month-to-month</td>\n",
       "      <td>Yes</td>\n",
       "      <td>Electronic check</td>\n",
       "      <td>29.60</td>\n",
       "      <td>346.45</td>\n",
       "      <td>No</td>\n",
       "      <td>0</td>\n",
       "      <td>59</td>\n",
       "      <td>2793</td>\n",
       "      <td>NaN</td>\n",
       "    </tr>\n",
       "    <tr>\n",
       "      <th>7042</th>\n",
       "      <td>3186-AJIEK</td>\n",
       "      <td>1</td>\n",
       "      <td>United States</td>\n",
       "      <td>California</td>\n",
       "      <td>Apple Valley</td>\n",
       "      <td>92308</td>\n",
       "      <td>34.424926, -117.184503</td>\n",
       "      <td>34.424926</td>\n",
       "      <td>-117.184503</td>\n",
       "      <td>Male</td>\n",
       "      <td>...</td>\n",
       "      <td>Two year</td>\n",
       "      <td>Yes</td>\n",
       "      <td>Bank transfer (automatic)</td>\n",
       "      <td>105.65</td>\n",
       "      <td>6844.5</td>\n",
       "      <td>No</td>\n",
       "      <td>0</td>\n",
       "      <td>38</td>\n",
       "      <td>5097</td>\n",
       "      <td>NaN</td>\n",
       "    </tr>\n",
       "  </tbody>\n",
       "</table>\n",
       "<p>5 rows × 33 columns</p>\n",
       "</div>"
      ],
      "text/plain": [
       "      CustomerID  Count        Country       State          City  Zip Code  \\\n",
       "7038  2569-WGERO      1  United States  California       Landers     92285   \n",
       "7039  6840-RESVB      1  United States  California      Adelanto     92301   \n",
       "7040  2234-XADUH      1  United States  California         Amboy     92304   \n",
       "7041  4801-JZAZL      1  United States  California  Angelus Oaks     92305   \n",
       "7042  3186-AJIEK      1  United States  California  Apple Valley     92308   \n",
       "\n",
       "                    Lat Long   Latitude   Longitude  Gender  ...  \\\n",
       "7038  34.341737, -116.539416  34.341737 -116.539416  Female  ...   \n",
       "7039  34.667815, -117.536183  34.667815 -117.536183    Male  ...   \n",
       "7040  34.559882, -115.637164  34.559882 -115.637164  Female  ...   \n",
       "7041     34.1678, -116.86433  34.167800 -116.864330  Female  ...   \n",
       "7042  34.424926, -117.184503  34.424926 -117.184503    Male  ...   \n",
       "\n",
       "            Contract Paperless Billing             Payment Method  \\\n",
       "7038        Two year               Yes  Bank transfer (automatic)   \n",
       "7039        One year               Yes               Mailed check   \n",
       "7040        One year               Yes    Credit card (automatic)   \n",
       "7041  Month-to-month               Yes           Electronic check   \n",
       "7042        Two year               Yes  Bank transfer (automatic)   \n",
       "\n",
       "      Monthly Charges Total Charges Churn Label Churn Value Churn Score  CLTV  \\\n",
       "7038            21.15        1419.4          No           0          45  5306   \n",
       "7039            84.80        1990.5          No           0          59  2140   \n",
       "7040           103.20        7362.9          No           0          71  5560   \n",
       "7041            29.60        346.45          No           0          59  2793   \n",
       "7042           105.65        6844.5          No           0          38  5097   \n",
       "\n",
       "     Churn Reason  \n",
       "7038          NaN  \n",
       "7039          NaN  \n",
       "7040          NaN  \n",
       "7041          NaN  \n",
       "7042          NaN  \n",
       "\n",
       "[5 rows x 33 columns]"
      ]
     },
     "execution_count": 2,
     "metadata": {},
     "output_type": "execute_result"
    }
   ],
   "source": [
    "client_data = pd.read_excel(\"data/telco_customer_churn.xlsx\")  \n",
    "client_data.tail(5)"
   ]
  },
  {
   "cell_type": "code",
   "execution_count": 3,
   "metadata": {},
   "outputs": [
    {
     "data": {
      "text/plain": [
       "0"
      ]
     },
     "execution_count": 3,
     "metadata": {},
     "output_type": "execute_result"
    }
   ],
   "source": [
    "client_data.shape[0] - len(client_data.CustomerID.unique())"
   ]
  },
  {
   "cell_type": "markdown",
   "metadata": {},
   "source": [
    "Recognizing that each client possesses a distinct ID, we can optimize data organization by utilizing this column as the index. Lets also enhance readability by renaming ceratin columns, unifying them with underscores, and adopting lowercase conventions."
   ]
  },
  {
   "cell_type": "code",
   "execution_count": 4,
   "metadata": {},
   "outputs": [
    {
     "data": {
      "text/html": [
       "<div>\n",
       "<style scoped>\n",
       "    .dataframe tbody tr th:only-of-type {\n",
       "        vertical-align: middle;\n",
       "    }\n",
       "\n",
       "    .dataframe tbody tr th {\n",
       "        vertical-align: top;\n",
       "    }\n",
       "\n",
       "    .dataframe thead th {\n",
       "        text-align: right;\n",
       "    }\n",
       "</style>\n",
       "<table border=\"1\" class=\"dataframe\">\n",
       "  <thead>\n",
       "    <tr style=\"text-align: right;\">\n",
       "      <th></th>\n",
       "      <th>count</th>\n",
       "      <th>country</th>\n",
       "      <th>state</th>\n",
       "      <th>city</th>\n",
       "      <th>zip_code</th>\n",
       "      <th>lat_long</th>\n",
       "      <th>latitude</th>\n",
       "      <th>longitude</th>\n",
       "      <th>gender</th>\n",
       "      <th>senior_citizen</th>\n",
       "      <th>...</th>\n",
       "      <th>contract</th>\n",
       "      <th>paperless_billing</th>\n",
       "      <th>payment_method</th>\n",
       "      <th>monthly_charges</th>\n",
       "      <th>total_charges</th>\n",
       "      <th>churn_label</th>\n",
       "      <th>churn_value</th>\n",
       "      <th>churn_score</th>\n",
       "      <th>customer_value</th>\n",
       "      <th>churn_reason</th>\n",
       "    </tr>\n",
       "    <tr>\n",
       "      <th>customer_id</th>\n",
       "      <th></th>\n",
       "      <th></th>\n",
       "      <th></th>\n",
       "      <th></th>\n",
       "      <th></th>\n",
       "      <th></th>\n",
       "      <th></th>\n",
       "      <th></th>\n",
       "      <th></th>\n",
       "      <th></th>\n",
       "      <th></th>\n",
       "      <th></th>\n",
       "      <th></th>\n",
       "      <th></th>\n",
       "      <th></th>\n",
       "      <th></th>\n",
       "      <th></th>\n",
       "      <th></th>\n",
       "      <th></th>\n",
       "      <th></th>\n",
       "      <th></th>\n",
       "    </tr>\n",
       "  </thead>\n",
       "  <tbody>\n",
       "    <tr>\n",
       "      <th>3668-QPYBK</th>\n",
       "      <td>1</td>\n",
       "      <td>United States</td>\n",
       "      <td>California</td>\n",
       "      <td>Los Angeles</td>\n",
       "      <td>90003</td>\n",
       "      <td>33.964131, -118.272783</td>\n",
       "      <td>33.964131</td>\n",
       "      <td>-118.272783</td>\n",
       "      <td>Male</td>\n",
       "      <td>No</td>\n",
       "      <td>...</td>\n",
       "      <td>Month-to-month</td>\n",
       "      <td>Yes</td>\n",
       "      <td>Mailed check</td>\n",
       "      <td>53.85</td>\n",
       "      <td>108.15</td>\n",
       "      <td>Yes</td>\n",
       "      <td>1</td>\n",
       "      <td>86</td>\n",
       "      <td>3239</td>\n",
       "      <td>Competitor made better offer</td>\n",
       "    </tr>\n",
       "    <tr>\n",
       "      <th>9237-HQITU</th>\n",
       "      <td>1</td>\n",
       "      <td>United States</td>\n",
       "      <td>California</td>\n",
       "      <td>Los Angeles</td>\n",
       "      <td>90005</td>\n",
       "      <td>34.059281, -118.30742</td>\n",
       "      <td>34.059281</td>\n",
       "      <td>-118.307420</td>\n",
       "      <td>Female</td>\n",
       "      <td>No</td>\n",
       "      <td>...</td>\n",
       "      <td>Month-to-month</td>\n",
       "      <td>Yes</td>\n",
       "      <td>Electronic check</td>\n",
       "      <td>70.70</td>\n",
       "      <td>151.65</td>\n",
       "      <td>Yes</td>\n",
       "      <td>1</td>\n",
       "      <td>67</td>\n",
       "      <td>2701</td>\n",
       "      <td>Moved</td>\n",
       "    </tr>\n",
       "    <tr>\n",
       "      <th>9305-CDSKC</th>\n",
       "      <td>1</td>\n",
       "      <td>United States</td>\n",
       "      <td>California</td>\n",
       "      <td>Los Angeles</td>\n",
       "      <td>90006</td>\n",
       "      <td>34.048013, -118.293953</td>\n",
       "      <td>34.048013</td>\n",
       "      <td>-118.293953</td>\n",
       "      <td>Female</td>\n",
       "      <td>No</td>\n",
       "      <td>...</td>\n",
       "      <td>Month-to-month</td>\n",
       "      <td>Yes</td>\n",
       "      <td>Electronic check</td>\n",
       "      <td>99.65</td>\n",
       "      <td>820.5</td>\n",
       "      <td>Yes</td>\n",
       "      <td>1</td>\n",
       "      <td>86</td>\n",
       "      <td>5372</td>\n",
       "      <td>Moved</td>\n",
       "    </tr>\n",
       "    <tr>\n",
       "      <th>7892-POOKP</th>\n",
       "      <td>1</td>\n",
       "      <td>United States</td>\n",
       "      <td>California</td>\n",
       "      <td>Los Angeles</td>\n",
       "      <td>90010</td>\n",
       "      <td>34.062125, -118.315709</td>\n",
       "      <td>34.062125</td>\n",
       "      <td>-118.315709</td>\n",
       "      <td>Female</td>\n",
       "      <td>No</td>\n",
       "      <td>...</td>\n",
       "      <td>Month-to-month</td>\n",
       "      <td>Yes</td>\n",
       "      <td>Electronic check</td>\n",
       "      <td>104.80</td>\n",
       "      <td>3046.05</td>\n",
       "      <td>Yes</td>\n",
       "      <td>1</td>\n",
       "      <td>84</td>\n",
       "      <td>5003</td>\n",
       "      <td>Moved</td>\n",
       "    </tr>\n",
       "    <tr>\n",
       "      <th>0280-XJGEX</th>\n",
       "      <td>1</td>\n",
       "      <td>United States</td>\n",
       "      <td>California</td>\n",
       "      <td>Los Angeles</td>\n",
       "      <td>90015</td>\n",
       "      <td>34.039224, -118.266293</td>\n",
       "      <td>34.039224</td>\n",
       "      <td>-118.266293</td>\n",
       "      <td>Male</td>\n",
       "      <td>No</td>\n",
       "      <td>...</td>\n",
       "      <td>Month-to-month</td>\n",
       "      <td>Yes</td>\n",
       "      <td>Bank transfer (automatic)</td>\n",
       "      <td>103.70</td>\n",
       "      <td>5036.3</td>\n",
       "      <td>Yes</td>\n",
       "      <td>1</td>\n",
       "      <td>89</td>\n",
       "      <td>5340</td>\n",
       "      <td>Competitor had better devices</td>\n",
       "    </tr>\n",
       "  </tbody>\n",
       "</table>\n",
       "<p>5 rows × 32 columns</p>\n",
       "</div>"
      ],
      "text/plain": [
       "             count        country       state         city  zip_code  \\\n",
       "customer_id                                                            \n",
       "3668-QPYBK       1  United States  California  Los Angeles     90003   \n",
       "9237-HQITU       1  United States  California  Los Angeles     90005   \n",
       "9305-CDSKC       1  United States  California  Los Angeles     90006   \n",
       "7892-POOKP       1  United States  California  Los Angeles     90010   \n",
       "0280-XJGEX       1  United States  California  Los Angeles     90015   \n",
       "\n",
       "                           lat_long   latitude   longitude  gender  \\\n",
       "customer_id                                                          \n",
       "3668-QPYBK   33.964131, -118.272783  33.964131 -118.272783    Male   \n",
       "9237-HQITU    34.059281, -118.30742  34.059281 -118.307420  Female   \n",
       "9305-CDSKC   34.048013, -118.293953  34.048013 -118.293953  Female   \n",
       "7892-POOKP   34.062125, -118.315709  34.062125 -118.315709  Female   \n",
       "0280-XJGEX   34.039224, -118.266293  34.039224 -118.266293    Male   \n",
       "\n",
       "            senior_citizen  ...        contract paperless_billing  \\\n",
       "customer_id                 ...                                     \n",
       "3668-QPYBK              No  ...  Month-to-month               Yes   \n",
       "9237-HQITU              No  ...  Month-to-month               Yes   \n",
       "9305-CDSKC              No  ...  Month-to-month               Yes   \n",
       "7892-POOKP              No  ...  Month-to-month               Yes   \n",
       "0280-XJGEX              No  ...  Month-to-month               Yes   \n",
       "\n",
       "                        payment_method monthly_charges total_charges  \\\n",
       "customer_id                                                            \n",
       "3668-QPYBK                Mailed check           53.85        108.15   \n",
       "9237-HQITU            Electronic check           70.70        151.65   \n",
       "9305-CDSKC            Electronic check           99.65         820.5   \n",
       "7892-POOKP            Electronic check          104.80       3046.05   \n",
       "0280-XJGEX   Bank transfer (automatic)          103.70        5036.3   \n",
       "\n",
       "            churn_label churn_value churn_score customer_value  \\\n",
       "customer_id                                                      \n",
       "3668-QPYBK          Yes           1          86           3239   \n",
       "9237-HQITU          Yes           1          67           2701   \n",
       "9305-CDSKC          Yes           1          86           5372   \n",
       "7892-POOKP          Yes           1          84           5003   \n",
       "0280-XJGEX          Yes           1          89           5340   \n",
       "\n",
       "                              churn_reason  \n",
       "customer_id                                 \n",
       "3668-QPYBK    Competitor made better offer  \n",
       "9237-HQITU                           Moved  \n",
       "9305-CDSKC                           Moved  \n",
       "7892-POOKP                           Moved  \n",
       "0280-XJGEX   Competitor had better devices  \n",
       "\n",
       "[5 rows x 32 columns]"
      ]
     },
     "execution_count": 4,
     "metadata": {},
     "output_type": "execute_result"
    }
   ],
   "source": [
    "column_names = [\"customer_id\",\"count\", \"country\",\"state\",\"city\",\"zip_code\",\"lat_long\",\"latitude\",\"longitude\",\n",
    "                \"gender\",\"senior_citizen\",\"partner\",\"dependents\",\"total_months\",\"home_phone\",\"multiple_phones\",\n",
    "                \"internet_service\",\"online_security\",\"online_backup\",\"device_protection\",\"tech_support\",\"streaming_tv\",\n",
    "                \"streaming_movies\",\"contract\",\"paperless_billing\",\"payment_method\",\"monthly_charges\",\"total_charges\",\n",
    "                \"churn_label\",\"churn_value\",\"churn_score\",\"customer_value\",\"churn_reason\"]\n",
    "client_data.columns = column_names\n",
    "client_data.index = client_data[\"customer_id\"]\n",
    "client_data.drop(\"customer_id\", axis=1, inplace= True)\n",
    "client_data.head()"
   ]
  },
  {
   "cell_type": "code",
   "execution_count": 5,
   "metadata": {},
   "outputs": [
    {
     "data": {
      "text/plain": [
       "count                  int64\n",
       "country               object\n",
       "state                 object\n",
       "city                  object\n",
       "zip_code               int64\n",
       "lat_long              object\n",
       "latitude             float64\n",
       "longitude            float64\n",
       "gender                object\n",
       "senior_citizen        object\n",
       "partner               object\n",
       "dependents            object\n",
       "total_months           int64\n",
       "home_phone            object\n",
       "multiple_phones       object\n",
       "internet_service      object\n",
       "online_security       object\n",
       "online_backup         object\n",
       "device_protection     object\n",
       "tech_support          object\n",
       "streaming_tv          object\n",
       "streaming_movies      object\n",
       "contract              object\n",
       "paperless_billing     object\n",
       "payment_method        object\n",
       "monthly_charges      float64\n",
       "total_charges         object\n",
       "churn_label           object\n",
       "churn_value            int64\n",
       "churn_score            int64\n",
       "customer_value         int64\n",
       "churn_reason          object\n",
       "dtype: object"
      ]
     },
     "execution_count": 5,
     "metadata": {},
     "output_type": "execute_result"
    }
   ],
   "source": [
    "client_data.dtypes"
   ]
  },
  {
   "cell_type": "markdown",
   "metadata": {},
   "source": [
    "Upon initial inspection, it's noted that the column labeled \"total charges\" should ideally be a numeric value. Presently, it is categorized as an object type. To address this, let's convert it into a numeric format."
   ]
  },
  {
   "cell_type": "code",
   "execution_count": 6,
   "metadata": {},
   "outputs": [],
   "source": [
    "client_data['total_charges'] = pd.to_numeric(client_data['total_charges'], errors='coerce')"
   ]
  },
  {
   "cell_type": "code",
   "execution_count": 7,
   "metadata": {},
   "outputs": [
    {
     "data": {
      "text/plain": [
       "count                   0\n",
       "country                 0\n",
       "state                   0\n",
       "city                    0\n",
       "zip_code                0\n",
       "lat_long                0\n",
       "latitude                0\n",
       "longitude               0\n",
       "gender                  0\n",
       "senior_citizen          0\n",
       "partner                 0\n",
       "dependents              0\n",
       "total_months            0\n",
       "home_phone              0\n",
       "multiple_phones         0\n",
       "internet_service        0\n",
       "online_security         0\n",
       "online_backup           0\n",
       "device_protection       0\n",
       "tech_support            0\n",
       "streaming_tv            0\n",
       "streaming_movies        0\n",
       "contract                0\n",
       "paperless_billing       0\n",
       "payment_method          0\n",
       "monthly_charges         0\n",
       "total_charges          11\n",
       "churn_label             0\n",
       "churn_value             0\n",
       "churn_score             0\n",
       "customer_value          0\n",
       "churn_reason         5174\n",
       "dtype: int64"
      ]
     },
     "execution_count": 7,
     "metadata": {},
     "output_type": "execute_result"
    }
   ],
   "source": [
    "client_data.isna().sum()"
   ]
  },
  {
   "cell_type": "markdown",
   "metadata": {},
   "source": [
    "It seems that the column was classified as \"object\" possibly due to the presence of 11 missing values. There are only 11 missing values out of 7042, so we can just delete them, right? Well in most cases yes, but we can try something different specifically for this feature. Based on our information about the data, the \"total_charges\" are equal to the \"monthly_charges\" multiplied by the \"total_months\". We can just make a copy of these columns and then see if there are any differences between the total charges and the result of multiplying total months by monthly charges."
   ]
  },
  {
   "cell_type": "code",
   "execution_count": 8,
   "metadata": {},
   "outputs": [
    {
     "data": {
      "image/png": "[encoded data removed]",
      "text/plain": [
       "<Figure size 1224x360 with 1 Axes>"
      ]
     },
     "metadata": {
      "needs_background": "light"
     },
     "output_type": "display_data"
    }
   ],
   "source": [
    "check_diff = client_data[['total_charges', 'monthly_charges', 'total_months', 'contract']].copy()\n",
    "check_diff['calculated_total_charges'] = (\n",
    "    check_diff['monthly_charges'] * check_diff['total_months']\n",
    ")\n",
    "check_diff['residuals'] = check_diff['total_charges'] - check_diff['calculated_total_charges']\n",
    "\n",
    "plt.figure(figsize=(17, 5))\n",
    "plt.hist(check_diff['residuals'], bins=50, color='green', edgecolor='black', alpha=0.7)\n",
    "plt.title('Distribution of Differences between Total Charges and Calculated Total Charges')\n",
    "plt.xlabel('Differences')\n",
    "plt.ylabel('Frequency')\n",
    "plt.grid(True)\n",
    "plt.show()"
   ]
  },
  {
   "cell_type": "markdown",
   "metadata": {},
   "source": [
    "It's possible that there are additional charges or services that contribute to the 'total_charges' and are not captured in the calculated values. This might include one-time fees, add-on services, special promotions, changes in pricing, changes in the contract for that period of time etc. Now, we can simply examine the discrepancies for each type of contract and what is the actual monetary difference."
   ]
  },
  {
   "cell_type": "code",
   "execution_count": 9,
   "metadata": {},
   "outputs": [
    {
     "data": {
      "image/png": "[encoded data removed]",
      "text/plain": [
       "<Figure size 1224x360 with 1 Axes>"
      ]
     },
     "metadata": {
      "needs_background": "light"
     },
     "output_type": "display_data"
    }
   ],
   "source": [
    "check_diff['monetary_difference'] = check_diff['total_charges'] - (check_diff['monthly_charges'] * check_diff['total_months'])\n",
    "\n",
    "contract_diff_median = check_diff.groupby('contract')['monetary_difference'].median()\n",
    "\n",
    "plt.figure(figsize=(17, 5))\n",
    "plt.bar(contract_diff_median.index, contract_diff_median, color='green')\n",
    "plt.title('Median Monetary Differences by Contract Type')\n",
    "plt.xlabel('Contract Type')\n",
    "plt.ylabel('Median Monetary Difference')\n",
    "plt.show()"
   ]
  },
  {
   "cell_type": "markdown",
   "metadata": {},
   "source": [
    "The median difference is about $1 for all contract types. This means that half of our customers have charges that match up when we calculate them by multiplying the monthly charges by the number of months in the service, compared to the total charges in the dataset. We can just fill in the missing total charges by figuring them out from the monthly charges. No need to delete them."
   ]
  },
  {
   "cell_type": "code",
   "execution_count": 10,
   "metadata": {},
   "outputs": [
    {
     "data": {
      "text/plain": [
       "0"
      ]
     },
     "execution_count": 10,
     "metadata": {},
     "output_type": "execute_result"
    }
   ],
   "source": [
    "client_data['total_charges'].fillna(client_data['monthly_charges'] * client_data['total_months'], inplace=True)\n",
    "\n",
    "client_data['total_charges'].isnull().sum()"
   ]
  },
  {
   "cell_type": "markdown",
   "metadata": {},
   "source": [
    "The other attribute with missing values is \"churn_reason.\" It's likely that these null values correspond to users who have already churned. Let's verify if there are any instances of customers who have churned but haven't provided a reason."
   ]
  },
  {
   "cell_type": "code",
   "execution_count": 11,
   "metadata": {},
   "outputs": [
    {
     "data": {
      "text/plain": [
       "Series([], dtype: float64)"
      ]
     },
     "execution_count": 11,
     "metadata": {},
     "output_type": "execute_result"
    }
   ],
   "source": [
    "churned_without_reason  = client_data[(client_data['churn_label'] == 'Yes') & client_data['churn_reason'].isna()]\n",
    "\n",
    "churned_without_reason.sum(axis=1)"
   ]
  },
  {
   "cell_type": "markdown",
   "metadata": {},
   "source": [
    "Great, all customers have given a reason for leaving the company, great news. Let's continue with the next step."
   ]
  },
  {
   "cell_type": "markdown",
   "metadata": {},
   "source": [
    "## Understanding and Visualizing the data"
   ]
  },
  {
   "cell_type": "markdown",
   "metadata": {},
   "source": [
    "We've got a lot of data to look at before choosing a model. So, let's dig into the numbers and figure out what makes customers leave the service. We want to understand what influences customer churn."
   ]
  },
  {
   "cell_type": "code",
   "execution_count": 12,
   "metadata": {},
   "outputs": [
    {
     "data": {
      "text/plain": [
       "count                   1\n",
       "country                 1\n",
       "state                   1\n",
       "city                 1129\n",
       "zip_code             1652\n",
       "lat_long             1652\n",
       "latitude             1652\n",
       "longitude            1651\n",
       "gender                  2\n",
       "senior_citizen          2\n",
       "partner                 2\n",
       "dependents              2\n",
       "total_months           73\n",
       "home_phone              2\n",
       "multiple_phones         3\n",
       "internet_service        3\n",
       "online_security         3\n",
       "online_backup           3\n",
       "device_protection       3\n",
       "tech_support            3\n",
       "streaming_tv            3\n",
       "streaming_movies        3\n",
       "contract                3\n",
       "paperless_billing       2\n",
       "payment_method          4\n",
       "monthly_charges      1585\n",
       "total_charges        6531\n",
       "churn_label             2\n",
       "churn_value             2\n",
       "churn_score            85\n",
       "customer_value       3438\n",
       "churn_reason           20\n",
       "dtype: int64"
      ]
     },
     "execution_count": 12,
     "metadata": {},
     "output_type": "execute_result"
    }
   ],
   "source": [
    "client_data.nunique()"
   ]
  },
  {
   "cell_type": "code",
   "execution_count": 13,
   "metadata": {},
   "outputs": [
    {
     "data": {
      "text/plain": [
       "country        state     \n",
       "United States  California    7043\n",
       "dtype: int64"
      ]
     },
     "execution_count": 13,
     "metadata": {},
     "output_type": "execute_result"
    }
   ],
   "source": [
    "client_data.groupby(['country','state']).size()"
   ]
  },
  {
   "cell_type": "markdown",
   "metadata": {},
   "source": [
    "The first 3 features have just 1 value for all records. Looks like all of the customers in our data are from United States of America, California. And all of those 1129 cities are in that area."
   ]
  },
  {
   "cell_type": "code",
   "execution_count": 14,
   "metadata": {},
   "outputs": [
    {
     "data": {
      "image/png": "[encoded data removed]",
      "text/plain": [
       "<Figure size 1224x360 with 1 Axes>"
      ]
     },
     "metadata": {
      "needs_background": "light"
     },
     "output_type": "display_data"
    }
   ],
   "source": [
    "top_cities = client_data['city'].value_counts().nlargest(10)\n",
    "\n",
    "plt.figure(figsize=(17, 5))\n",
    "top_cities.plot(kind='bar', color='green')\n",
    "plt.title('Top 10 Cities with the Most Customers')\n",
    "plt.xlabel('City')\n",
    "plt.ylabel('Count')\n",
    "plt.xticks(rotation=0)  \n",
    "plt.show()"
   ]
  },
  {
   "cell_type": "code",
   "execution_count": 15,
   "metadata": {},
   "outputs": [
    {
     "data": {
      "image/png": "[encoded data removed]",
      "text/plain": [
       "<Figure size 1224x360 with 1 Axes>"
      ]
     },
     "metadata": {
      "needs_background": "light"
     },
     "output_type": "display_data"
    }
   ],
   "source": [
    "churned_clients_by_city = client_data[client_data['churn_label'] == 'Yes']['city'].value_counts().nlargest(10)\n",
    "\n",
    "plt.figure(figsize=(17, 5))\n",
    "churned_clients_by_city.plot(kind='bar', color='green')\n",
    "plt.title('Top 10 Cities with the Most Churned Customers')\n",
    "plt.xlabel('City')\n",
    "plt.ylabel('Count')\n",
    "plt.xticks(rotation=0)\n",
    "plt.show()"
   ]
  },
  {
   "cell_type": "markdown",
   "metadata": {},
   "source": [
    "In the chart above, it's noticeable that the churn percentage is proportionally dependent on the number of customers in each city. Considering this, I suggest excluding this feature from our machine-learning models."
   ]
  },
  {
   "cell_type": "code",
   "execution_count": 16,
   "metadata": {},
   "outputs": [
    {
     "data": {
      "image/png": "[encoded data removed]",
      "text/plain": [
       "<Figure size 1224x360 with 1 Axes>"
      ]
     },
     "metadata": {
      "needs_background": "light"
     },
     "output_type": "display_data"
    }
   ],
   "source": [
    "plt.figure(figsize=(17, 5))\n",
    "\n",
    "plt.violinplot([\n",
    "    client_data[client_data['churn_label'] == 'Yes']['total_months'],\n",
    "    client_data[client_data['churn_label'] == 'No']['total_months']\n",
    "    ],positions=[1, 2] ,showmedians=True\n",
    ")\n",
    "plt.title('Distribution of Total Months by Churn Label')\n",
    "plt.xlabel('Churn Label')\n",
    "plt.ylabel('Total Months')\n",
    "plt.xticks([1, 2], ['Churned', 'Not Churned'])\n",
    "\n",
    "plt.show()"
   ]
  },
  {
   "cell_type": "markdown",
   "metadata": {},
   "source": [
    "This is fascinating! It looks like the first six months are super important for keeping customers. After this time (from 6 to 12 months), the number of customers leaving sharply increases. On average, customers stick around for about 10 months, indicating that half of them decide to leave during this period. It's a key timeframe that significantly influences whether a customer stays with us."
   ]
  }
 ],
 "metadata": {
  "kernelspec": {
   "display_name": "Python 3 (ipykernel)",
   "language": "python",
   "name": "python3"
  },
  "language_info": {
   "codemirror_mode": {
    "name": "ipython",
    "version": 3
   },
   "file_extension": ".py",
   "mimetype": "text/x-python",
   "name": "python",
   "nbconvert_exporter": "python",
   "pygments_lexer": "ipython3",
   "version": "3.9.13"
  }
 },
 "nbformat": 4,
 "nbformat_minor": 1
}
