{
 "cells": [
  {
   "cell_type": "markdown",
   "id": "bfe19304",
   "metadata": {},
   "source": [
    "### Model Training and Improvement"
   ]
  },
  {
   "cell_type": "code",
   "execution_count": 1,
   "id": "42d1ad58",
   "metadata": {},
   "outputs": [],
   "source": [
    "%matplotlib inline"
   ]
  },
  {
   "cell_type": "code",
   "execution_count": 6,
   "id": "aa88acaa",
   "metadata": {},
   "outputs": [
    {
     "ename": "ModuleNotFoundError",
     "evalue": "No module named 'tensorflow'",
     "output_type": "error",
     "traceback": [
      "\u001B[1;31m---------------------------------------------------------------------------\u001B[0m",
      "\u001B[1;31mModuleNotFoundError\u001B[0m                       Traceback (most recent call last)",
      "Input \u001B[1;32mIn [6]\u001B[0m, in \u001B[0;36m<cell line: 13>\u001B[1;34m()\u001B[0m\n\u001B[0;32m     10\u001B[0m \u001B[38;5;28;01mfrom\u001B[39;00m \u001B[38;5;21;01msklearn\u001B[39;00m\u001B[38;5;21;01m.\u001B[39;00m\u001B[38;5;21;01mmodel_selection\u001B[39;00m \u001B[38;5;28;01mimport\u001B[39;00m train_test_split\n\u001B[0;32m     11\u001B[0m \u001B[38;5;28;01mfrom\u001B[39;00m \u001B[38;5;21;01msklearn\u001B[39;00m\u001B[38;5;21;01m.\u001B[39;00m\u001B[38;5;21;01mneural_network\u001B[39;00m \u001B[38;5;28;01mimport\u001B[39;00m MLPClassifier\n\u001B[1;32m---> 13\u001B[0m \u001B[38;5;28;01mimport\u001B[39;00m \u001B[38;5;21;01mtensorflow\u001B[39;00m \u001B[38;5;28;01mas\u001B[39;00m \u001B[38;5;21;01mtf\u001B[39;00m\n\u001B[0;32m     15\u001B[0m \u001B[38;5;28;01mfrom\u001B[39;00m \u001B[38;5;21;01mtensorflow\u001B[39;00m\u001B[38;5;21;01m.\u001B[39;00m\u001B[38;5;21;01mkeras\u001B[39;00m\u001B[38;5;21;01m.\u001B[39;00m\u001B[38;5;21;01mmodels\u001B[39;00m \u001B[38;5;28;01mimport\u001B[39;00m Sequential\n\u001B[0;32m     16\u001B[0m \u001B[38;5;28;01mfrom\u001B[39;00m \u001B[38;5;21;01mtensorflow\u001B[39;00m\u001B[38;5;21;01m.\u001B[39;00m\u001B[38;5;21;01mkeras\u001B[39;00m\u001B[38;5;21;01m.\u001B[39;00m\u001B[38;5;21;01mlayers\u001B[39;00m \u001B[38;5;28;01mimport\u001B[39;00m Input, Dense\n",
      "\u001B[1;31mModuleNotFoundError\u001B[0m: No module named 'tensorflow'"
     ]
    }
   ],
   "source": [
    "import pandas as pd\n",
    "import numpy as np\n",
    "import matplotlib.pyplot as plt\n",
    "\n",
    "import os\n",
    "\n",
    "from sklearn.datasets import load_digits\n",
    "from skimage.io import imread\n",
    "\n",
    "from sklearn.model_selection import train_test_split\n",
    "from sklearn.neural_network import MLPClassifier\n",
    "\n",
    "import tensorflow as tf\n",
    "\n",
    "from tensorflow.keras.models import Sequential\n",
    "from tensorflow.keras.layers import Input, Dense"
   ]
  },
  {
   "cell_type": "code",
   "execution_count": 5,
   "id": "ccb46699",
   "metadata": {},
   "outputs": [
    {
     "data": {
      "text/plain": [
       "array([[  0,   0,   0,   0,   0,   0,   0,   0,   0,  16,  53,  72,  90,\n",
       "        136, 183, 170,  72,   0,   2,   0,   0,   0,   0,   0,   0,   0,\n",
       "          0,   0],\n",
       "       [  0,   0,   0,   0,   0,   2,   0,  37, 176, 226, 250, 255, 255,\n",
       "        255, 255, 254, 255, 141,   0,   1,   0,   0,   0,   0,   0,   0,\n",
       "          0,   0],\n",
       "       [  0,   0,   0,   0,   0,   2,   0,  60, 248, 255, 254, 255, 253,\n",
       "        252, 253, 252, 251, 255, 138,   0,   3,   0,   0,   0,   0,   0,\n",
       "          0,   0],\n",
       "       [  0,   0,   0,   0,   0,   0,   1,   0,  19,  82, 139, 251, 255,\n",
       "        255, 255, 255, 254, 252, 255,  80,   0,   3,   0,   0,   0,   0,\n",
       "          0,   0],\n",
       "       [  0,   0,   0,   0,   0,   0,   0,   2,   2,   0, 142, 255, 253,\n",
       "        255, 255, 255, 255, 253, 255, 215,  11,   0,   1,   0,   0,   0,\n",
       "          0,   0],\n",
       "       [  0,   0,   0,   0,   0,   0,   0,   3,   0, 115, 255, 252, 255,\n",
       "        255, 255, 255, 255, 255, 251, 255, 109,   0,   4,   0,   0,   0,\n",
       "          0,   0],\n",
       "       [  0,   0,   0,   0,   0,   0,   2,   0,  36, 240, 255, 254, 255,\n",
       "        255, 255, 255, 255, 255, 253, 255, 215,   8,   0,   1,   0,   0,\n",
       "          0,   0],\n",
       "       [  0,   0,   0,   0,   0,   0,   2,   0, 163, 255, 251, 255, 255,\n",
       "        254, 251, 253, 255, 255, 255, 253, 255,  88,   0,   3,   0,   0,\n",
       "          0,   0],\n",
       "       [  0,   0,   0,   0,   0,   2,   0,  58, 254, 255, 255, 255, 255,\n",
       "        254, 255, 254, 254, 255, 255, 252, 255, 183,   0,   2,   0,   0,\n",
       "          0,   0],\n",
       "       [  0,   0,   0,   0,   0,   2,   0, 166, 255, 252, 255, 254, 255,\n",
       "        242, 168, 216, 255, 254, 255, 254, 255, 249,  42,   0,   2,   0,\n",
       "          0,   0],\n",
       "       [  0,   0,   0,   0,   2,   0,  42, 248, 255, 254, 255, 253, 255,\n",
       "         87,   0,  29, 231, 255, 254, 255, 252, 255, 123,   0,   3,   0,\n",
       "          0,   0],\n",
       "       [  0,   0,   0,   0,   3,   0, 140, 255, 251, 255, 253, 255, 192,\n",
       "          0,   7,   0, 151, 255, 251, 255, 253, 255, 199,   0,   0,   1,\n",
       "          0,   0],\n",
       "       [  0,   0,   0,   1,   0,  20, 230, 255, 254, 255, 253, 255,  91,\n",
       "          0,   7,   0, 100, 255, 252, 255, 254, 255, 254,  46,   0,   2,\n",
       "          0,   0],\n",
       "       [  0,   0,   0,   3,   0, 111, 255, 252, 255, 252, 255, 189,   1,\n",
       "          0,   3,   0,  45, 254, 255, 255, 255, 251, 255, 115,   0,   4,\n",
       "          0,   0],\n",
       "       [  0,   0,   1,   0,   7, 213, 255, 253, 255, 253, 255,  88,   0,\n",
       "          6,   2,   4,   0, 183, 255, 252, 255, 252, 255, 188,   0,   1,\n",
       "          0,   0],\n",
       "       [  0,   0,   3,   0,  92, 255, 253, 255, 255, 252, 255, 107,   0,\n",
       "          4,   0,   3,   0, 129, 255, 252, 255, 254, 255, 241,  31,   0,\n",
       "          2,   0],\n",
       "       [  0,   0,   0,   1, 200, 255, 253, 255, 255, 254, 255, 226,  90,\n",
       "         46,  42,  54, 129, 234, 255, 254, 255, 255, 252, 255,  93,   0,\n",
       "          3,   0],\n",
       "       [  0,   3,   0,  80, 255, 253, 255, 255, 255, 255, 255, 255, 255,\n",
       "        255, 255, 255, 255, 255, 255, 255, 255, 255, 252, 255, 168,   0,\n",
       "          3,   0],\n",
       "       [  0,   1,   0, 189, 255, 252, 255, 255, 255, 252, 252, 253, 255,\n",
       "        255, 255, 255, 255, 252, 252, 255, 255, 255, 254, 255, 228,  18,\n",
       "          0,   1],\n",
       "       [  3,   0,  67, 255, 254, 255, 255, 254, 253, 255, 255, 255, 238,\n",
       "        227, 220, 220, 238, 255, 255, 253, 254, 255, 255, 253, 255,  86,\n",
       "          0,   3],\n",
       "       [  2,   0, 176, 255, 252, 255, 255, 255, 254, 193, 101,  52,  22,\n",
       "         12,   3,   4,  22,  68, 176, 255, 253, 255, 255, 252, 255, 182,\n",
       "          0,   1],\n",
       "       [  0,  50, 254, 255, 254, 254, 255, 245,  86,   0,   1,   0,   0,\n",
       "          0,   0,   0,   0,   1,   0, 100, 253, 254, 255, 254, 255, 252,\n",
       "         47,   0],\n",
       "       [  0, 152, 255, 252, 255, 251, 255, 120,   0,   5,   4,   2,   1,\n",
       "          1,   1,   1,   1,   3,   5,   0, 123, 255, 251, 255, 252, 255,\n",
       "        140,   0],\n",
       "       [ 35, 238, 255, 254, 254, 255, 247,  37,   0,   2,   0,   0,   0,\n",
       "          0,   0,   0,   0,   0,   1,   2,   0, 187, 255, 252, 254, 255,\n",
       "        222,  18],\n",
       "       [137, 255, 253, 255, 252, 255, 182,   0,   1,   0,   0,   0,   0,\n",
       "          0,   0,   0,   0,   0,   0,   2,   0,  37, 237, 255, 252, 254,\n",
       "        255,  94],\n",
       "       [233, 255, 255, 254, 250, 255,  99,   0,   3,   0,   0,   0,   0,\n",
       "          0,   0,   0,   0,   0,   0,   0,   3,   0,  88, 255, 254, 251,\n",
       "        255, 185],\n",
       "       [217, 255, 254, 253, 255, 206,  11,   0,   1,   0,   0,   0,   0,\n",
       "          0,   0,   0,   0,   0,   0,   0,   0,   3,   0,  92, 236, 255,\n",
       "        255, 189],\n",
       "       [ 57, 211, 252, 234, 168,  31,   0,   1,   0,   0,   0,   0,   0,\n",
       "          0,   0,   0,   0,   0,   0,   0,   0,   0,   3,   0,  24,  90,\n",
       "         99,  28]], dtype=uint8)"
      ]
     },
     "execution_count": 5,
     "metadata": {},
     "output_type": "execute_result"
    }
   ],
   "source": [
    "imread(\"./data/A/MjAwcHJvb2Ztb29uc2hpbmUgcmVtaXgudHRm.png\")"
   ]
  },
  {
   "cell_type": "code",
   "execution_count": 6,
   "id": "832390c1",
   "metadata": {},
   "outputs": [
    {
     "data": {
      "text/plain": [
       "<matplotlib.image.AxesImage at 0x1bb0d780be0>"
      ]
     },
     "execution_count": 6,
     "metadata": {},
     "output_type": "execute_result"
    },
    {
     "data": {
      "image/png": "[encoded data removed]",
      "text/plain": [
       "<Figure size 432x288 with 1 Axes>"
      ]
     },
     "metadata": {
      "needs_background": "light"
     },
     "output_type": "display_data"
    }
   ],
   "source": [
    "plt.imshow(imread(\"./data/A/MjAwcHJvb2Ztb29uc2hpbmUgcmVtaXgudHRm.png\"), cmap=\"gray\")"
   ]
  },
  {
   "cell_type": "code",
   "execution_count": 7,
   "id": "f374bfcb",
   "metadata": {},
   "outputs": [],
   "source": [
    "BASE_DIR = \"./data/\"\n",
    "MAX_N_IMAGES = 50"
   ]
  },
  {
   "cell_type": "code",
   "execution_count": 8,
   "id": "d36b8503",
   "metadata": {},
   "outputs": [
    {
     "data": {
      "text/plain": [
       "['A', 'B', 'C', 'D', 'E', 'F', 'G', 'H', 'I', 'J']"
      ]
     },
     "execution_count": 8,
     "metadata": {},
     "output_type": "execute_result"
    }
   ],
   "source": [
    "os.listdir(\"./data/\")"
   ]
  },
  {
   "cell_type": "code",
   "execution_count": 9,
   "id": "b08caf94",
   "metadata": {},
   "outputs": [],
   "source": [
    "image_classes = os.listdir(BASE_DIR)"
   ]
  },
  {
   "cell_type": "code",
   "execution_count": 10,
   "id": "3c34ef8a",
   "metadata": {},
   "outputs": [
    {
     "data": {
      "text/plain": [
       "['./data/A',\n",
       " './data/B',\n",
       " './data/C',\n",
       " './data/D',\n",
       " './data/E',\n",
       " './data/F',\n",
       " './data/G',\n",
       " './data/H',\n",
       " './data/I',\n",
       " './data/J']"
      ]
     },
     "execution_count": 10,
     "metadata": {},
     "output_type": "execute_result"
    }
   ],
   "source": [
    "[os.path.join(BASE_DIR, image_class) for image_class in image_classes]"
   ]
  },
  {
   "cell_type": "code",
   "execution_count": 11,
   "id": "599dab4b",
   "metadata": {},
   "outputs": [],
   "source": [
    "directories = [os.path.join(BASE_DIR, image_class) for image_class in image_classes]"
   ]
  },
  {
   "cell_type": "code",
   "execution_count": 12,
   "id": "31fc95a4",
   "metadata": {},
   "outputs": [],
   "source": [
    "all_images = []\n",
    "all_classes = []\n",
    "\n",
    "for image_class, directory in zip(image_classes, directories):\n",
    "    images = os.listdir(directory)[:MAX_N_IMAGES]\n",
    "    full_path = [os.path.join(directory, image_path) for image_path in images]\n",
    "    \n",
    "    all_images += [imread(img) for img in full_path]\n",
    "    all_classes += [image_class] * MAX_N_IMAGES"
   ]
  },
  {
   "cell_type": "code",
   "execution_count": 13,
   "id": "a89ef04f",
   "metadata": {},
   "outputs": [
    {
     "data": {
      "text/plain": [
       "500"
      ]
     },
     "execution_count": 13,
     "metadata": {},
     "output_type": "execute_result"
    }
   ],
   "source": [
    "len(all_images)"
   ]
  },
  {
   "cell_type": "code",
   "execution_count": 14,
   "id": "48a7c8e8",
   "metadata": {},
   "outputs": [],
   "source": [
    "all_images = np.array(all_images)"
   ]
  },
  {
   "cell_type": "code",
   "execution_count": 15,
   "id": "687d0cfb",
   "metadata": {},
   "outputs": [],
   "source": [
    "all_classes = np.array(all_classes)"
   ]
  },
  {
   "cell_type": "code",
   "execution_count": 16,
   "id": "9243498c",
   "metadata": {},
   "outputs": [
    {
     "data": {
      "text/plain": [
       "array(['A', 'A', 'A', 'A', 'A', 'A', 'A', 'A', 'A', 'A', 'A', 'A', 'A',\n",
       "       'A', 'A', 'A', 'A', 'A', 'A', 'A', 'A', 'A', 'A', 'A', 'A', 'A',\n",
       "       'A', 'A', 'A', 'A', 'A', 'A', 'A', 'A', 'A', 'A', 'A', 'A', 'A',\n",
       "       'A', 'A', 'A', 'A', 'A', 'A', 'A', 'A', 'A', 'A', 'A', 'B', 'B',\n",
       "       'B', 'B', 'B', 'B', 'B', 'B', 'B', 'B', 'B', 'B', 'B', 'B', 'B',\n",
       "       'B', 'B', 'B', 'B', 'B', 'B', 'B', 'B', 'B', 'B', 'B', 'B', 'B',\n",
       "       'B', 'B', 'B', 'B', 'B', 'B', 'B', 'B', 'B', 'B', 'B', 'B', 'B',\n",
       "       'B', 'B', 'B', 'B', 'B', 'B', 'B', 'B', 'B', 'C', 'C', 'C', 'C',\n",
       "       'C', 'C', 'C', 'C', 'C', 'C', 'C', 'C', 'C', 'C', 'C', 'C', 'C',\n",
       "       'C', 'C', 'C', 'C', 'C', 'C', 'C', 'C', 'C', 'C', 'C', 'C', 'C',\n",
       "       'C', 'C', 'C', 'C', 'C', 'C', 'C', 'C', 'C', 'C', 'C', 'C', 'C',\n",
       "       'C', 'C', 'C', 'C', 'C', 'C', 'C', 'D', 'D', 'D', 'D', 'D', 'D',\n",
       "       'D', 'D', 'D', 'D', 'D', 'D', 'D', 'D', 'D', 'D', 'D', 'D', 'D',\n",
       "       'D', 'D', 'D', 'D', 'D', 'D', 'D', 'D', 'D', 'D', 'D', 'D', 'D',\n",
       "       'D', 'D', 'D', 'D', 'D', 'D', 'D', 'D', 'D', 'D', 'D', 'D', 'D',\n",
       "       'D', 'D', 'D', 'D', 'D', 'E', 'E', 'E', 'E', 'E', 'E', 'E', 'E',\n",
       "       'E', 'E', 'E', 'E', 'E', 'E', 'E', 'E', 'E', 'E', 'E', 'E', 'E',\n",
       "       'E', 'E', 'E', 'E', 'E', 'E', 'E', 'E', 'E', 'E', 'E', 'E', 'E',\n",
       "       'E', 'E', 'E', 'E', 'E', 'E', 'E', 'E', 'E', 'E', 'E', 'E', 'E',\n",
       "       'E', 'E', 'E', 'F', 'F', 'F', 'F', 'F', 'F', 'F', 'F', 'F', 'F',\n",
       "       'F', 'F', 'F', 'F', 'F', 'F', 'F', 'F', 'F', 'F', 'F', 'F', 'F',\n",
       "       'F', 'F', 'F', 'F', 'F', 'F', 'F', 'F', 'F', 'F', 'F', 'F', 'F',\n",
       "       'F', 'F', 'F', 'F', 'F', 'F', 'F', 'F', 'F', 'F', 'F', 'F', 'F',\n",
       "       'F', 'G', 'G', 'G', 'G', 'G', 'G', 'G', 'G', 'G', 'G', 'G', 'G',\n",
       "       'G', 'G', 'G', 'G', 'G', 'G', 'G', 'G', 'G', 'G', 'G', 'G', 'G',\n",
       "       'G', 'G', 'G', 'G', 'G', 'G', 'G', 'G', 'G', 'G', 'G', 'G', 'G',\n",
       "       'G', 'G', 'G', 'G', 'G', 'G', 'G', 'G', 'G', 'G', 'G', 'G', 'H',\n",
       "       'H', 'H', 'H', 'H', 'H', 'H', 'H', 'H', 'H', 'H', 'H', 'H', 'H',\n",
       "       'H', 'H', 'H', 'H', 'H', 'H', 'H', 'H', 'H', 'H', 'H', 'H', 'H',\n",
       "       'H', 'H', 'H', 'H', 'H', 'H', 'H', 'H', 'H', 'H', 'H', 'H', 'H',\n",
       "       'H', 'H', 'H', 'H', 'H', 'H', 'H', 'H', 'H', 'H', 'I', 'I', 'I',\n",
       "       'I', 'I', 'I', 'I', 'I', 'I', 'I', 'I', 'I', 'I', 'I', 'I', 'I',\n",
       "       'I', 'I', 'I', 'I', 'I', 'I', 'I', 'I', 'I', 'I', 'I', 'I', 'I',\n",
       "       'I', 'I', 'I', 'I', 'I', 'I', 'I', 'I', 'I', 'I', 'I', 'I', 'I',\n",
       "       'I', 'I', 'I', 'I', 'I', 'I', 'I', 'I', 'J', 'J', 'J', 'J', 'J',\n",
       "       'J', 'J', 'J', 'J', 'J', 'J', 'J', 'J', 'J', 'J', 'J', 'J', 'J',\n",
       "       'J', 'J', 'J', 'J', 'J', 'J', 'J', 'J', 'J', 'J', 'J', 'J', 'J',\n",
       "       'J', 'J', 'J', 'J', 'J', 'J', 'J', 'J', 'J', 'J', 'J', 'J', 'J',\n",
       "       'J', 'J', 'J', 'J', 'J', 'J'], dtype='<U1')"
      ]
     },
     "execution_count": 16,
     "metadata": {},
     "output_type": "execute_result"
    }
   ],
   "source": [
    "all_classes"
   ]
  },
  {
   "cell_type": "code",
   "execution_count": 17,
   "id": "0f7236c9",
   "metadata": {},
   "outputs": [
    {
     "data": {
      "text/plain": [
       "array([[[  0,   0,   0, ...,   0,   0,   0],\n",
       "        [  0,   0,   0, ...,   0,   0,   0],\n",
       "        [  0,   0,   0, ...,   0,   0,   0],\n",
       "        ...,\n",
       "        [ 43, 183, 251, ..., 255, 125,  40],\n",
       "        [ 43, 120, 126, ..., 179,  82,  12],\n",
       "        [  4,  25,  32, ...,   8,  77,  13]],\n",
       "\n",
       "       [[255, 255, 255, ..., 255, 255, 255],\n",
       "        [255, 255, 255, ..., 255, 255, 255],\n",
       "        [255, 255, 255, ..., 255, 255, 255],\n",
       "        ...,\n",
       "        [255, 255, 255, ..., 255, 255, 255],\n",
       "        [255, 255, 255, ..., 255, 255, 255],\n",
       "        [255, 255, 255, ..., 255, 255, 255]],\n",
       "\n",
       "       [[  0,   0,   0, ...,   0,   0,   0],\n",
       "        [  0,   0,   0, ...,   0,   0,   0],\n",
       "        [  0,   0,   0, ...,   0,   0,   0],\n",
       "        ...,\n",
       "        [233, 255, 255, ..., 251, 255, 185],\n",
       "        [217, 255, 254, ..., 255, 255, 189],\n",
       "        [ 57, 211, 252, ...,  90,  99,  28]],\n",
       "\n",
       "       ...,\n",
       "\n",
       "       [[  0,   0,   0, ..., 248, 255, 186],\n",
       "        [  0,   0,   0, ..., 248, 255, 186],\n",
       "        [  0,   0,   0, ..., 248, 255, 186],\n",
       "        ...,\n",
       "        [  0,   1,   1, ...,   1,   1,   0],\n",
       "        [ 36, 172, 236, ...,   1,   0,   0],\n",
       "        [ 86, 164, 188, ...,   0,   0,   0]],\n",
       "\n",
       "       [[  0,   0,   0, ..., 255, 255, 255],\n",
       "        [  0,   0,   0, ..., 255, 255, 255],\n",
       "        [  0,   0,   0, ..., 255, 255, 255],\n",
       "        ...,\n",
       "        [  0,   0,   0, ..., 200,  86,   0],\n",
       "        [144, 202, 211, ...,  17,   0,   2],\n",
       "        [118, 168, 177, ...,   1,   3,   0]],\n",
       "\n",
       "       [[  0,   0,   0, ..., 252, 255, 150],\n",
       "        [  0,   0,   0, ..., 252, 255, 150],\n",
       "        [  0,   0,   0, ..., 252, 255, 150],\n",
       "        ...,\n",
       "        [ 48, 243, 255, ...,   0,   0,   0],\n",
       "        [ 33, 237, 255, ...,   0,   0,   0],\n",
       "        [ 19, 232, 255, ...,   0,   0,   0]]], dtype=uint8)"
      ]
     },
     "execution_count": 17,
     "metadata": {},
     "output_type": "execute_result"
    }
   ],
   "source": [
    "all_images"
   ]
  },
  {
   "cell_type": "code",
   "execution_count": 18,
   "id": "486802bc",
   "metadata": {},
   "outputs": [
    {
     "data": {
      "text/plain": [
       "Text(0.5, 1.0, 'H')"
      ]
     },
     "execution_count": 18,
     "metadata": {},
     "output_type": "execute_result"
    },
    {
     "data": {
      "image/png": "[encoded data removed]",
      "text/plain": [
       "<Figure size 432x288 with 1 Axes>"
      ]
     },
     "metadata": {
      "needs_background": "light"
     },
     "output_type": "display_data"
    }
   ],
   "source": [
    "plt.imshow(all_images[365])\n",
    "plt.title(all_classes[365])"
   ]
  },
  {
   "cell_type": "code",
   "execution_count": 19,
   "id": "4c2a1708",
   "metadata": {},
   "outputs": [
    {
     "data": {
      "text/plain": [
       "(0, 255)"
      ]
     },
     "execution_count": 19,
     "metadata": {},
     "output_type": "execute_result"
    }
   ],
   "source": [
    "all_images.min(), all_images.max()"
   ]
  },
  {
   "cell_type": "code",
   "execution_count": 20,
   "id": "6840de28",
   "metadata": {},
   "outputs": [],
   "source": [
    "all_images_scaled = all_images / 255 # SCALER!!! "
   ]
  },
  {
   "cell_type": "code",
   "execution_count": 21,
   "id": "29a5c74f",
   "metadata": {},
   "outputs": [],
   "source": [
    "train_images, test_images, train_classes, test_classes = train_test_split(\n",
    "    all_images_scaled, all_classes, test_size=50, stratify=all_classes)"
   ]
  },
  {
   "cell_type": "code",
   "execution_count": 22,
   "id": "838b967f",
   "metadata": {},
   "outputs": [
    {
     "data": {
      "text/plain": [
       "((450, 28, 28), (50, 28, 28))"
      ]
     },
     "execution_count": 22,
     "metadata": {},
     "output_type": "execute_result"
    }
   ],
   "source": [
    "train_images.shape, test_images.shape"
   ]
  },
  {
   "cell_type": "code",
   "execution_count": 23,
   "id": "a8378787",
   "metadata": {},
   "outputs": [
    {
     "data": {
      "text/plain": [
       "A    50\n",
       "B    50\n",
       "C    50\n",
       "D    50\n",
       "E    50\n",
       "F    50\n",
       "G    50\n",
       "H    50\n",
       "I    50\n",
       "J    50\n",
       "dtype: int64"
      ]
     },
     "execution_count": 23,
     "metadata": {},
     "output_type": "execute_result"
    }
   ],
   "source": [
    "pd.Series(all_classes).value_counts()"
   ]
  },
  {
   "cell_type": "code",
   "execution_count": 24,
   "id": "70d7c4ad",
   "metadata": {},
   "outputs": [
    {
     "data": {
      "text/plain": [
       "array([[0.        , 0.        , 0.        , 0.        , 0.        ,\n",
       "        0.        , 0.        , 0.01568627, 0.        , 0.56078431,\n",
       "        0.82745098, 0.6745098 , 0.73333333, 0.7254902 , 0.72941176,\n",
       "        0.69803922, 0.68627451, 0.68627451, 0.68627451, 0.68627451,\n",
       "        0.68627451, 0.68627451, 0.68627451, 0.68627451, 0.69803922,\n",
       "        0.69803922, 0.8627451 , 0.69411765],\n",
       "       [0.        , 0.        , 0.        , 0.        , 0.        ,\n",
       "        0.00392157, 0.        , 0.3372549 , 0.49411765, 0.82352941,\n",
       "        0.31764706, 0.01176471, 0.        , 0.00392157, 0.        ,\n",
       "        0.08235294, 0.1254902 , 0.11764706, 0.11764706, 0.11764706,\n",
       "        0.11764706, 0.11764706, 0.11764706, 0.1254902 , 0.10980392,\n",
       "        0.        , 0.50980392, 0.51764706],\n",
       "       [0.        , 0.        , 0.        , 0.        , 0.00392157,\n",
       "        0.        , 0.03529412, 0.87843137, 1.        , 0.98039216,\n",
       "        1.        , 0.32156863, 0.        , 0.00392157, 0.07058824,\n",
       "        0.90980392, 1.        , 0.99607843, 1.        , 1.        ,\n",
       "        1.        , 1.        , 0.98823529, 1.        , 0.74117647,\n",
       "        0.        , 0.78431373, 0.22745098],\n",
       "       [0.        , 0.        , 0.        , 0.        , 0.01176471,\n",
       "        0.        , 0.23137255, 0.98823529, 0.96862745, 1.        ,\n",
       "        0.9372549 , 0.11764706, 0.        , 0.        , 0.25490196,\n",
       "        1.        , 0.99215686, 0.99607843, 0.99607843, 0.99607843,\n",
       "        0.99215686, 0.97647059, 0.98039216, 0.99607843, 0.90588235,\n",
       "        0.8       , 0.77647059, 0.04313725],\n",
       "       [0.        , 0.        , 0.        , 0.        , 0.00392157,\n",
       "        0.        , 0.03921569, 0.20392157, 0.92156863, 1.        ,\n",
       "        0.74901961, 0.        , 0.02352941, 0.        , 0.55686275,\n",
       "        0.54901961, 0.05882353, 0.14509804, 0.13333333, 0.14509804,\n",
       "        0.08627451, 0.66666667, 1.        , 1.        , 0.77254902,\n",
       "        0.10196078, 0.06666667, 0.        ],\n",
       "       [0.        , 0.        , 0.        , 0.        , 0.        ,\n",
       "        0.01176471, 0.        , 0.25098039, 1.        , 1.        ,\n",
       "        0.50588235, 0.        , 0.01176471, 0.        , 0.71372549,\n",
       "        0.23921569, 0.        , 0.00784314, 0.        , 0.        ,\n",
       "        0.        , 0.43529412, 0.62352941, 0.62745098, 0.30588235,\n",
       "        0.        , 0.00784314, 0.        ],\n",
       "       [0.        , 0.        , 0.        , 0.        , 0.        ,\n",
       "        0.01568627, 0.        , 0.52156863, 1.        , 1.        ,\n",
       "        0.25490196, 0.        , 0.        , 0.11764706, 0.78431373,\n",
       "        0.03137255, 0.        , 0.01176471, 0.00784314, 0.00784314,\n",
       "        0.00784314, 0.        , 0.        , 0.        , 0.00392157,\n",
       "        0.00392157, 0.00392157, 0.        ],\n",
       "       [0.        , 0.        , 0.        , 0.        , 0.00392157,\n",
       "        0.        , 0.        , 0.74509804, 1.        , 0.88235294,\n",
       "        0.0745098 , 0.        , 0.        , 0.36862745, 0.62745098,\n",
       "        0.        , 0.00784314, 0.        , 0.        , 0.        ,\n",
       "        0.        , 0.01176471, 0.01568627, 0.01568627, 0.00784314,\n",
       "        0.        , 0.        , 0.        ],\n",
       "       [0.        , 0.        , 0.        , 0.        , 0.00392157,\n",
       "        0.        , 0.09803922, 0.9372549 , 1.        , 0.70588235,\n",
       "        0.        , 0.02352941, 0.        , 0.58431373, 0.44313725,\n",
       "        0.        , 0.01568627, 0.00392157, 0.00784314, 0.00784314,\n",
       "        0.00784314, 0.00392157, 0.        , 0.        , 0.        ,\n",
       "        0.        , 0.        , 0.        ],\n",
       "       [0.        , 0.        , 0.        , 0.        , 0.01176471,\n",
       "        0.        , 0.33333333, 1.        , 1.        , 0.43529412,\n",
       "        0.        , 0.01176471, 0.        , 0.75294118, 0.17647059,\n",
       "        0.        , 0.01176471, 0.00392157, 0.        , 0.        ,\n",
       "        0.        , 0.        , 0.        , 0.        , 0.        ,\n",
       "        0.        , 0.        , 0.        ],\n",
       "       [0.        , 0.        , 0.        , 0.        , 0.01176471,\n",
       "        0.        , 0.55686275, 1.        , 0.98823529, 0.22352941,\n",
       "        0.        , 0.        , 0.15294118, 0.72156863, 0.01568627,\n",
       "        0.        , 0.        , 0.01568627, 0.19607843, 0.25490196,\n",
       "        0.19607843, 0.05098039, 0.        , 0.00392157, 0.        ,\n",
       "        0.        , 0.        , 0.        ],\n",
       "       [0.        , 0.        , 0.        , 0.        , 0.        ,\n",
       "        0.        , 0.80784314, 1.        , 0.8627451 , 0.02745098,\n",
       "        0.00784314, 0.        , 0.44313725, 0.70588235, 0.10196078,\n",
       "        0.19215686, 0.11764706, 0.43137255, 0.83529412, 0.45490196,\n",
       "        0.91372549, 0.14509804, 0.        , 0.00784314, 0.        ,\n",
       "        0.        , 0.        , 0.        ],\n",
       "       [0.        , 0.        , 0.        , 0.00784314, 0.        ,\n",
       "        0.15294118, 0.94901961, 1.        , 0.64313725, 0.        ,\n",
       "        0.01568627, 0.        , 0.34117647, 0.6745098 , 0.60392157,\n",
       "        0.61960784, 0.60784314, 0.68627451, 0.25882353, 0.14509804,\n",
       "        0.73333333, 0.00784314, 0.        , 0.00392157, 0.        ,\n",
       "        0.        , 0.        , 0.        ],\n",
       "       [0.        , 0.        , 0.        , 0.01568627, 0.        ,\n",
       "        0.37254902, 1.        , 1.        , 0.39215686, 0.        ,\n",
       "        0.01176471, 0.01176471, 0.14117647, 0.14117647, 0.14509804,\n",
       "        0.14509804, 0.15294118, 0.13333333, 0.        , 0.48235294,\n",
       "        0.59607843, 0.        , 0.01568627, 0.        , 0.        ,\n",
       "        0.        , 0.        , 0.        ],\n",
       "       [0.        , 0.        , 0.        , 0.00784314, 0.        ,\n",
       "        0.61960784, 1.        , 0.95686275, 0.16862745, 0.        ,\n",
       "        0.        , 0.17647059, 0.97254902, 1.        , 0.99607843,\n",
       "        0.99215686, 1.        , 0.82352941, 0.02352941, 0.71764706,\n",
       "        0.3254902 , 0.        , 0.01176471, 0.        , 0.        ,\n",
       "        0.        , 0.        , 0.        ],\n",
       "       [0.        , 0.        , 0.00392157, 0.        , 0.01960784,\n",
       "        0.84705882, 1.        , 0.81960784, 0.00392157, 0.01176471,\n",
       "        0.        , 0.38431373, 1.        , 0.98823529, 0.98431373,\n",
       "        0.97254902, 0.98431373, 0.93333333, 0.83137255, 0.85490196,\n",
       "        0.07058824, 0.        , 0.00392157, 0.        , 0.        ,\n",
       "        0.        , 0.        , 0.        ],\n",
       "       [0.        , 0.        , 0.01176471, 0.        , 0.21176471,\n",
       "        0.97647059, 1.        , 0.57254902, 0.        , 0.01960784,\n",
       "        0.        , 0.67058824, 0.53333333, 0.20784314, 0.68627451,\n",
       "        1.        , 1.        , 0.82352941, 0.11372549, 0.0627451 ,\n",
       "        0.        , 0.        , 0.        , 0.        , 0.        ,\n",
       "        0.        , 0.        , 0.        ],\n",
       "       [0.        , 0.        , 0.01176471, 0.        , 0.41960784,\n",
       "        1.        , 1.        , 0.35294118, 0.        , 0.        ,\n",
       "        0.05098039, 0.77254902, 0.12941176, 0.        , 0.32156863,\n",
       "        0.58039216, 0.57254902, 0.35686275, 0.        , 0.00784314,\n",
       "        0.        , 0.        , 0.        , 0.        , 0.        ,\n",
       "        0.        , 0.        , 0.        ],\n",
       "       [0.        , 0.        , 0.00784314, 0.        , 0.69019608,\n",
       "        1.        , 0.94901961, 0.11372549, 0.        , 0.        ,\n",
       "        0.27058824, 0.71764706, 0.        , 0.01960784, 0.        ,\n",
       "        0.        , 0.        , 0.00392157, 0.00392157, 0.00392157,\n",
       "        0.        , 0.        , 0.        , 0.        , 0.        ,\n",
       "        0.        , 0.        , 0.        ],\n",
       "       [0.        , 0.00392157, 0.        , 0.05882353, 0.87058824,\n",
       "        1.        , 0.76470588, 0.        , 0.01176471, 0.        ,\n",
       "        0.49019608, 0.52156863, 0.        , 0.01176471, 0.01176471,\n",
       "        0.01568627, 0.01568627, 0.01176471, 0.        , 0.        ,\n",
       "        0.        , 0.        , 0.        , 0.        , 0.        ,\n",
       "        0.        , 0.        , 0.        ],\n",
       "       [0.        , 0.01176471, 0.        , 0.24313725, 1.        ,\n",
       "        1.        , 0.53333333, 0.        , 0.02352941, 0.        ,\n",
       "        0.71764706, 0.2627451 , 0.        , 0.00784314, 0.        ,\n",
       "        0.        , 0.        , 0.        , 0.        , 0.        ,\n",
       "        0.        , 0.        , 0.        , 0.        , 0.        ,\n",
       "        0.        , 0.        , 0.        ],\n",
       "       [0.        , 0.01176471, 0.        , 0.48627451, 1.        ,\n",
       "        1.        , 0.28235294, 0.        , 0.        , 0.10980392,\n",
       "        0.74509804, 0.07058824, 0.        , 0.00392157, 0.        ,\n",
       "        0.        , 0.        , 0.        , 0.        , 0.        ,\n",
       "        0.        , 0.        , 0.        , 0.        , 0.        ,\n",
       "        0.        , 0.        , 0.        ],\n",
       "       [0.        , 0.00784314, 0.        , 0.73333333, 1.        ,\n",
       "        0.90980392, 0.07843137, 0.        , 0.        , 0.29411765,\n",
       "        0.65098039, 0.        , 0.01176471, 0.        , 0.        ,\n",
       "        0.        , 0.        , 0.        , 0.        , 0.        ,\n",
       "        0.        , 0.        , 0.        , 0.        , 0.        ,\n",
       "        0.        , 0.        , 0.        ],\n",
       "       [0.00784314, 0.        , 0.10980392, 0.91372549, 1.        ,\n",
       "        0.70980392, 0.        , 0.03137255, 0.        , 0.58823529,\n",
       "        0.6627451 , 0.14901961, 0.        , 0.00392157, 0.        ,\n",
       "        0.        , 0.        , 0.        , 0.        , 0.        ,\n",
       "        0.        , 0.        , 0.        , 0.        , 0.        ,\n",
       "        0.        , 0.        , 0.        ],\n",
       "       [0.01176471, 0.        , 0.31372549, 0.94901961, 0.48235294,\n",
       "        0.23529412, 0.        , 0.01568627, 0.        , 0.24313725,\n",
       "        0.74117647, 0.65098039, 0.        , 0.01568627, 0.        ,\n",
       "        0.        , 0.        , 0.        , 0.        , 0.        ,\n",
       "        0.        , 0.        , 0.        , 0.        , 0.        ,\n",
       "        0.        , 0.        , 0.        ],\n",
       "       [0.09019608, 0.69019608, 0.92156863, 0.80392157, 0.14509804,\n",
       "        0.21176471, 0.25098039, 0.23921569, 0.25882353, 0.20784314,\n",
       "        0.70588235, 0.36862745, 0.        , 0.01176471, 0.        ,\n",
       "        0.        , 0.        , 0.        , 0.        , 0.        ,\n",
       "        0.        , 0.        , 0.        , 0.        , 0.        ,\n",
       "        0.        , 0.        , 0.        ],\n",
       "       [0.35686275, 1.        , 0.99607843, 0.99607843, 1.        ,\n",
       "        1.        , 1.        , 1.        , 0.98431373, 0.60784314,\n",
       "        0.4745098 , 0.07843137, 0.        , 0.00392157, 0.        ,\n",
       "        0.        , 0.        , 0.        , 0.        , 0.        ,\n",
       "        0.        , 0.        , 0.        , 0.        , 0.        ,\n",
       "        0.        , 0.        , 0.        ],\n",
       "       [0.62352941, 1.        , 0.98039216, 1.        , 0.98823529,\n",
       "        0.98823529, 0.98039216, 1.        , 0.83137255, 0.00784314,\n",
       "        0.        , 0.00392157, 0.        , 0.        , 0.        ,\n",
       "        0.        , 0.        , 0.        , 0.        , 0.        ,\n",
       "        0.        , 0.        , 0.        , 0.        , 0.        ,\n",
       "        0.        , 0.        , 0.        ]])"
      ]
     },
     "execution_count": 24,
     "metadata": {},
     "output_type": "execute_result"
    }
   ],
   "source": [
    "train_images[0]"
   ]
  },
  {
   "cell_type": "code",
   "execution_count": 25,
   "id": "0e3a9eb4",
   "metadata": {},
   "outputs": [
    {
     "data": {
      "text/plain": [
       "(28, 28)"
      ]
     },
     "execution_count": 25,
     "metadata": {},
     "output_type": "execute_result"
    }
   ],
   "source": [
    "train_images[0].shape #our data is matrix 28x28"
   ]
  },
  {
   "cell_type": "code",
   "execution_count": 26,
   "id": "396469e4",
   "metadata": {},
   "outputs": [
    {
     "data": {
      "text/plain": [
       "(784,)"
      ]
     },
     "execution_count": 26,
     "metadata": {},
     "output_type": "execute_result"
    }
   ],
   "source": [
    "train_images[0].ravel().shape #we can reshape it to vector column 28x28=784"
   ]
  },
  {
   "cell_type": "code",
   "execution_count": 27,
   "id": "be9213f7",
   "metadata": {},
   "outputs": [],
   "source": [
    "train_images_vectors = train_images.reshape(len(train_images),-1)\n",
    "test_images_vectors = test_images.reshape(len(test_images),-1)"
   ]
  },
  {
   "cell_type": "code",
   "execution_count": 28,
   "id": "89a74d68",
   "metadata": {},
   "outputs": [
    {
     "data": {
      "text/plain": [
       "(450, 784)"
      ]
     },
     "execution_count": 28,
     "metadata": {},
     "output_type": "execute_result"
    }
   ],
   "source": [
    "train_images.reshape(len(train_images),-1).shape"
   ]
  },
  {
   "cell_type": "code",
   "execution_count": 29,
   "id": "cdd37dd8",
   "metadata": {},
   "outputs": [
    {
     "data": {
      "text/plain": [
       "array([[0.        , 0.        , 0.        , ..., 0.        , 0.        ,\n",
       "        0.        ],\n",
       "       [0.        , 0.03137255, 0.42745098, ..., 0.        , 0.        ,\n",
       "        0.        ],\n",
       "       [0.        , 0.        , 0.        , ..., 0.        , 0.        ,\n",
       "        0.        ],\n",
       "       ...,\n",
       "       [0.90588235, 0.98823529, 0.84705882, ..., 0.        , 0.        ,\n",
       "        0.        ],\n",
       "       [0.        , 0.        , 0.        , ..., 0.        , 0.        ,\n",
       "        0.        ],\n",
       "       [0.87843137, 1.        , 0.99607843, ..., 0.99607843, 1.        ,\n",
       "        0.87843137]])"
      ]
     },
     "execution_count": 29,
     "metadata": {},
     "output_type": "execute_result"
    }
   ],
   "source": [
    "train_images_vectors"
   ]
  },
  {
   "cell_type": "code",
   "execution_count": 30,
   "id": "ab63f225",
   "metadata": {},
   "outputs": [
    {
     "data": {
      "text/plain": [
       "<function matplotlib.pyplot.show(close=None, block=None)>"
      ]
     },
     "execution_count": 30,
     "metadata": {},
     "output_type": "execute_result"
    },
    {
     "data": {
      "image/png": "[encoded data removed]",
      "text/plain": [
       "<Figure size 432x288 with 1 Axes>"
      ]
     },
     "metadata": {
      "needs_background": "light"
     },
     "output_type": "display_data"
    }
   ],
   "source": [
    "plt.imshow(train_images_vectors[365].reshape(28,28))\n",
    "plt.title(train_classes[365])\n",
    "plt.show"
   ]
  },
  {
   "cell_type": "code",
   "execution_count": 31,
   "id": "14a11723",
   "metadata": {},
   "outputs": [],
   "source": [
    "neural_network = MLPClassifier(hidden_layer_sizes=(10,), verbose=True)"
   ]
  },
  {
   "cell_type": "code",
   "execution_count": 32,
   "id": "a30b0c1f",
   "metadata": {},
   "outputs": [],
   "source": [
    "#settings or hyperparameters for example in NN are hidden_layer_sizes=(10,), verbose=True"
   ]
  },
  {
   "cell_type": "code",
   "execution_count": 33,
   "id": "cc71febd",
   "metadata": {},
   "outputs": [
    {
     "name": "stdout",
     "output_type": "stream",
     "text": [
      "Iteration 1, loss = 2.52581852\n",
      "Iteration 2, loss = 2.35521277\n",
      "Iteration 3, loss = 2.30689183\n",
      "Iteration 4, loss = 2.26645433\n",
      "Iteration 5, loss = 2.22285323\n",
      "Iteration 6, loss = 2.18117975\n",
      "Iteration 7, loss = 2.14487927\n",
      "Iteration 8, loss = 2.09687573\n",
      "Iteration 9, loss = 2.05347866\n",
      "Iteration 10, loss = 2.01301138\n",
      "Iteration 11, loss = 1.96779701\n",
      "Iteration 12, loss = 1.92210063\n",
      "Iteration 13, loss = 1.87713849\n",
      "Iteration 14, loss = 1.82957740\n",
      "Iteration 15, loss = 1.78222380\n",
      "Iteration 16, loss = 1.73614875\n",
      "Iteration 17, loss = 1.68494680\n",
      "Iteration 18, loss = 1.63623726\n",
      "Iteration 19, loss = 1.58358317\n",
      "Iteration 20, loss = 1.53374998\n",
      "Iteration 21, loss = 1.48332768\n",
      "Iteration 22, loss = 1.43813410\n",
      "Iteration 23, loss = 1.39457608\n",
      "Iteration 24, loss = 1.35102759\n",
      "Iteration 25, loss = 1.31123381\n",
      "Iteration 26, loss = 1.27635674\n",
      "Iteration 27, loss = 1.24148656\n",
      "Iteration 28, loss = 1.20755670\n",
      "Iteration 29, loss = 1.17889234\n",
      "Iteration 30, loss = 1.14925421\n",
      "Iteration 31, loss = 1.12433908\n",
      "Iteration 32, loss = 1.09669676\n",
      "Iteration 33, loss = 1.07473211\n",
      "Iteration 34, loss = 1.05076515\n",
      "Iteration 35, loss = 1.02743595\n",
      "Iteration 36, loss = 1.00796122\n",
      "Iteration 37, loss = 0.98599223\n",
      "Iteration 38, loss = 0.96748287\n",
      "Iteration 39, loss = 0.94919541\n",
      "Iteration 40, loss = 0.92955747\n",
      "Iteration 41, loss = 0.91305422\n",
      "Iteration 42, loss = 0.89464985\n",
      "Iteration 43, loss = 0.87846512\n",
      "Iteration 44, loss = 0.86116757\n",
      "Iteration 45, loss = 0.84464591\n",
      "Iteration 46, loss = 0.82803653\n",
      "Iteration 47, loss = 0.81371015\n",
      "Iteration 48, loss = 0.79752142\n",
      "Iteration 49, loss = 0.77964727\n",
      "Iteration 50, loss = 0.76446268\n",
      "Iteration 51, loss = 0.74847669\n",
      "Iteration 52, loss = 0.73364759\n",
      "Iteration 53, loss = 0.71883882\n",
      "Iteration 54, loss = 0.70532724\n",
      "Iteration 55, loss = 0.69087209\n",
      "Iteration 56, loss = 0.67642148\n",
      "Iteration 57, loss = 0.66310021\n",
      "Iteration 58, loss = 0.65105460\n",
      "Iteration 59, loss = 0.63863384\n",
      "Iteration 60, loss = 0.62451336\n",
      "Iteration 61, loss = 0.61058840\n",
      "Iteration 62, loss = 0.60136169\n",
      "Iteration 63, loss = 0.58903066\n",
      "Iteration 64, loss = 0.57489946\n",
      "Iteration 65, loss = 0.56401026\n",
      "Iteration 66, loss = 0.55632239\n",
      "Iteration 67, loss = 0.54495196\n",
      "Iteration 68, loss = 0.53568166\n",
      "Iteration 69, loss = 0.52719432\n",
      "Iteration 70, loss = 0.51451829\n",
      "Iteration 71, loss = 0.51131491\n",
      "Iteration 72, loss = 0.50061356\n",
      "Iteration 73, loss = 0.49034049\n",
      "Iteration 74, loss = 0.48125702\n",
      "Iteration 75, loss = 0.47410573\n",
      "Iteration 76, loss = 0.46705844\n",
      "Iteration 77, loss = 0.45855153\n",
      "Iteration 78, loss = 0.44969722\n",
      "Iteration 79, loss = 0.44504460\n",
      "Iteration 80, loss = 0.43763871\n",
      "Iteration 81, loss = 0.43068122\n",
      "Iteration 82, loss = 0.42436251\n",
      "Iteration 83, loss = 0.41852508\n",
      "Iteration 84, loss = 0.41328509\n",
      "Iteration 85, loss = 0.40734676\n",
      "Iteration 86, loss = 0.40082673\n",
      "Iteration 87, loss = 0.39593939\n",
      "Iteration 88, loss = 0.39110257\n",
      "Iteration 89, loss = 0.38656327\n",
      "Iteration 90, loss = 0.38038953\n",
      "Iteration 91, loss = 0.37578037\n",
      "Iteration 92, loss = 0.37050022\n",
      "Iteration 93, loss = 0.36569679\n",
      "Iteration 94, loss = 0.36224341\n",
      "Iteration 95, loss = 0.35934034\n",
      "Iteration 96, loss = 0.35460683\n",
      "Iteration 97, loss = 0.34798689\n",
      "Iteration 98, loss = 0.34351986\n",
      "Iteration 99, loss = 0.34051362\n",
      "Iteration 100, loss = 0.33577217\n",
      "Iteration 101, loss = 0.33117065\n",
      "Iteration 102, loss = 0.32765578\n",
      "Iteration 103, loss = 0.32400926\n",
      "Iteration 104, loss = 0.32090148\n",
      "Iteration 105, loss = 0.31591425\n",
      "Iteration 106, loss = 0.31274124\n",
      "Iteration 107, loss = 0.30987536\n",
      "Iteration 108, loss = 0.30588873\n",
      "Iteration 109, loss = 0.30171769\n",
      "Iteration 110, loss = 0.29757097\n",
      "Iteration 111, loss = 0.29335148\n",
      "Iteration 112, loss = 0.29030960\n",
      "Iteration 113, loss = 0.28774854\n",
      "Iteration 114, loss = 0.28470630\n",
      "Iteration 115, loss = 0.28097062\n",
      "Iteration 116, loss = 0.27723992\n",
      "Iteration 117, loss = 0.27421016\n",
      "Iteration 118, loss = 0.27201221\n",
      "Iteration 119, loss = 0.26881631\n",
      "Iteration 120, loss = 0.26537878\n",
      "Iteration 121, loss = 0.26131630\n",
      "Iteration 122, loss = 0.25764468\n",
      "Iteration 123, loss = 0.25616582\n",
      "Iteration 124, loss = 0.25294745\n",
      "Iteration 125, loss = 0.24950265\n",
      "Iteration 126, loss = 0.24650510\n",
      "Iteration 127, loss = 0.24345549\n",
      "Iteration 128, loss = 0.24140601\n",
      "Iteration 129, loss = 0.24064636\n",
      "Iteration 130, loss = 0.23813751\n",
      "Iteration 131, loss = 0.23264972\n",
      "Iteration 132, loss = 0.22962873\n",
      "Iteration 133, loss = 0.22755380\n",
      "Iteration 134, loss = 0.22383458\n",
      "Iteration 135, loss = 0.22142806\n",
      "Iteration 136, loss = 0.21995471\n",
      "Iteration 137, loss = 0.21635526\n",
      "Iteration 138, loss = 0.21352139\n",
      "Iteration 139, loss = 0.21206278\n",
      "Iteration 140, loss = 0.20965682\n",
      "Iteration 141, loss = 0.20690746\n",
      "Iteration 142, loss = 0.20461369\n",
      "Iteration 143, loss = 0.20245201\n",
      "Iteration 144, loss = 0.20024893\n",
      "Iteration 145, loss = 0.19817314\n",
      "Iteration 146, loss = 0.19655813\n",
      "Iteration 147, loss = 0.19413321\n",
      "Iteration 148, loss = 0.19192592\n",
      "Iteration 149, loss = 0.19035401\n",
      "Iteration 150, loss = 0.18838296\n",
      "Iteration 151, loss = 0.18589965\n",
      "Iteration 152, loss = 0.18343518\n",
      "Iteration 153, loss = 0.18181002\n",
      "Iteration 154, loss = 0.18029769\n",
      "Iteration 155, loss = 0.17840110\n",
      "Iteration 156, loss = 0.17671712\n",
      "Iteration 157, loss = 0.17522256\n",
      "Iteration 158, loss = 0.17343313\n",
      "Iteration 159, loss = 0.17192097\n",
      "Iteration 160, loss = 0.17005748\n",
      "Iteration 161, loss = 0.16862435\n",
      "Iteration 162, loss = 0.16657425\n",
      "Iteration 163, loss = 0.16541952\n",
      "Iteration 164, loss = 0.16425934\n",
      "Iteration 165, loss = 0.16268841\n",
      "Iteration 166, loss = 0.16132227\n",
      "Iteration 167, loss = 0.15973090\n",
      "Iteration 168, loss = 0.15867175\n",
      "Iteration 169, loss = 0.15681336\n",
      "Iteration 170, loss = 0.15507936\n",
      "Iteration 171, loss = 0.15351572\n",
      "Iteration 172, loss = 0.15240524\n",
      "Iteration 173, loss = 0.15101335\n",
      "Iteration 174, loss = 0.14960355\n",
      "Iteration 175, loss = 0.14824435\n",
      "Iteration 176, loss = 0.14749137\n",
      "Iteration 177, loss = 0.14629232\n",
      "Iteration 178, loss = 0.14583914\n",
      "Iteration 179, loss = 0.14533485\n",
      "Iteration 180, loss = 0.14319877\n",
      "Iteration 181, loss = 0.14216073\n",
      "Iteration 182, loss = 0.14114577\n",
      "Iteration 183, loss = 0.13982668\n",
      "Iteration 184, loss = 0.13880833\n",
      "Iteration 185, loss = 0.13739804\n",
      "Iteration 186, loss = 0.13626038\n",
      "Iteration 187, loss = 0.13538264\n",
      "Iteration 188, loss = 0.13439027\n",
      "Iteration 189, loss = 0.13319417\n",
      "Iteration 190, loss = 0.13244062\n",
      "Iteration 191, loss = 0.13168285\n",
      "Iteration 192, loss = 0.13055658\n",
      "Iteration 193, loss = 0.12972115\n",
      "Iteration 194, loss = 0.12895401\n",
      "Iteration 195, loss = 0.12794419\n",
      "Iteration 196, loss = 0.12693513\n",
      "Iteration 197, loss = 0.12589915\n",
      "Iteration 198, loss = 0.12514946\n",
      "Iteration 199, loss = 0.12460559\n",
      "Iteration 200, loss = 0.12385553\n"
     ]
    },
    {
     "name": "stderr",
     "output_type": "stream",
     "text": [
      "C:\\Users\\Gaming PC\\AppData\\Local\\Packages\\PythonSoftwareFoundation.Python.3.9_qbz5n2kfra8p0\\LocalCache\\local-packages\\Python39\\site-packages\\sklearn\\neural_network\\_multilayer_perceptron.py:686: ConvergenceWarning: Stochastic Optimizer: Maximum iterations (200) reached and the optimization hasn't converged yet.\n",
      "  warnings.warn(\n"
     ]
    },
    {
     "data": {
      "text/html": [
       "<style>#sk-container-id-1 {color: black;background-color: white;}#sk-container-id-1 pre{padding: 0;}#sk-container-id-1 div.sk-toggleable {background-color: white;}#sk-container-id-1 label.sk-toggleable__label {cursor: pointer;display: block;width: 100%;margin-bottom: 0;padding: 0.3em;box-sizing: border-box;text-align: center;}#sk-container-id-1 label.sk-toggleable__label-arrow:before {content: \"▸\";float: left;margin-right: 0.25em;color: #696969;}#sk-container-id-1 label.sk-toggleable__label-arrow:hover:before {color: black;}#sk-container-id-1 div.sk-estimator:hover label.sk-toggleable__label-arrow:before {color: black;}#sk-container-id-1 div.sk-toggleable__content {max-height: 0;max-width: 0;overflow: hidden;text-align: left;background-color: #f0f8ff;}#sk-container-id-1 div.sk-toggleable__content pre {margin: 0.2em;color: black;border-radius: 0.25em;background-color: #f0f8ff;}#sk-container-id-1 input.sk-toggleable__control:checked~div.sk-toggleable__content {max-height: 200px;max-width: 100%;overflow: auto;}#sk-container-id-1 input.sk-toggleable__control:checked~label.sk-toggleable__label-arrow:before {content: \"▾\";}#sk-container-id-1 div.sk-estimator input.sk-toggleable__control:checked~label.sk-toggleable__label {background-color: #d4ebff;}#sk-container-id-1 div.sk-label input.sk-toggleable__control:checked~label.sk-toggleable__label {background-color: #d4ebff;}#sk-container-id-1 input.sk-hidden--visually {border: 0;clip: rect(1px 1px 1px 1px);clip: rect(1px, 1px, 1px, 1px);height: 1px;margin: -1px;overflow: hidden;padding: 0;position: absolute;width: 1px;}#sk-container-id-1 div.sk-estimator {font-family: monospace;background-color: #f0f8ff;border: 1px dotted black;border-radius: 0.25em;box-sizing: border-box;margin-bottom: 0.5em;}#sk-container-id-1 div.sk-estimator:hover {background-color: #d4ebff;}#sk-container-id-1 div.sk-parallel-item::after {content: \"\";width: 100%;border-bottom: 1px solid gray;flex-grow: 1;}#sk-container-id-1 div.sk-label:hover label.sk-toggleable__label {background-color: #d4ebff;}#sk-container-id-1 div.sk-serial::before {content: \"\";position: absolute;border-left: 1px solid gray;box-sizing: border-box;top: 0;bottom: 0;left: 50%;z-index: 0;}#sk-container-id-1 div.sk-serial {display: flex;flex-direction: column;align-items: center;background-color: white;padding-right: 0.2em;padding-left: 0.2em;position: relative;}#sk-container-id-1 div.sk-item {position: relative;z-index: 1;}#sk-container-id-1 div.sk-parallel {display: flex;align-items: stretch;justify-content: center;background-color: white;position: relative;}#sk-container-id-1 div.sk-item::before, #sk-container-id-1 div.sk-parallel-item::before {content: \"\";position: absolute;border-left: 1px solid gray;box-sizing: border-box;top: 0;bottom: 0;left: 50%;z-index: -1;}#sk-container-id-1 div.sk-parallel-item {display: flex;flex-direction: column;z-index: 1;position: relative;background-color: white;}#sk-container-id-1 div.sk-parallel-item:first-child::after {align-self: flex-end;width: 50%;}#sk-container-id-1 div.sk-parallel-item:last-child::after {align-self: flex-start;width: 50%;}#sk-container-id-1 div.sk-parallel-item:only-child::after {width: 0;}#sk-container-id-1 div.sk-dashed-wrapped {border: 1px dashed gray;margin: 0 0.4em 0.5em 0.4em;box-sizing: border-box;padding-bottom: 0.4em;background-color: white;}#sk-container-id-1 div.sk-label label {font-family: monospace;font-weight: bold;display: inline-block;line-height: 1.2em;}#sk-container-id-1 div.sk-label-container {text-align: center;}#sk-container-id-1 div.sk-container {/* jupyter's `normalize.less` sets `[hidden] { display: none; }` but bootstrap.min.css set `[hidden] { display: none !important; }` so we also need the `!important` here to be able to override the default hidden behavior on the sphinx rendered scikit-learn.org. See: https://github.com/scikit-learn/scikit-learn/issues/21755 */display: inline-block !important;position: relative;}#sk-container-id-1 div.sk-text-repr-fallback {display: none;}</style><div id=\"sk-container-id-1\" class=\"sk-top-container\"><div class=\"sk-text-repr-fallback\"><pre>MLPClassifier(hidden_layer_sizes=(10,), verbose=True)</pre><b>In a Jupyter environment, please rerun this cell to show the HTML representation or trust the notebook. <br />On GitHub, the HTML representation is unable to render, please try loading this page with nbviewer.org.</b></div><div class=\"sk-container\" hidden><div class=\"sk-item\"><div class=\"sk-estimator sk-toggleable\"><input class=\"sk-toggleable__control sk-hidden--visually\" id=\"sk-estimator-id-1\" type=\"checkbox\" checked><label for=\"sk-estimator-id-1\" class=\"sk-toggleable__label sk-toggleable__label-arrow\">MLPClassifier</label><div class=\"sk-toggleable__content\"><pre>MLPClassifier(hidden_layer_sizes=(10,), verbose=True)</pre></div></div></div></div></div>"
      ],
      "text/plain": [
       "MLPClassifier(hidden_layer_sizes=(10,), verbose=True)"
      ]
     },
     "execution_count": 33,
     "metadata": {},
     "output_type": "execute_result"
    }
   ],
   "source": [
    "neural_network.fit(train_images_vectors, train_classes) #hyperparameters"
   ]
  },
  {
   "cell_type": "code",
   "execution_count": 34,
   "id": "087868cf",
   "metadata": {},
   "outputs": [
    {
     "data": {
      "text/plain": [
       "0.9777777777777777"
      ]
     },
     "execution_count": 34,
     "metadata": {},
     "output_type": "execute_result"
    }
   ],
   "source": [
    "neural_network.score(train_images_vectors, train_classes)"
   ]
  },
  {
   "cell_type": "code",
   "execution_count": 35,
   "id": "356a9467",
   "metadata": {},
   "outputs": [
    {
     "data": {
      "text/plain": [
       "0.72"
      ]
     },
     "execution_count": 35,
     "metadata": {},
     "output_type": "execute_result"
    }
   ],
   "source": [
    "neural_network.score(test_images_vectors, test_classes)"
   ]
  },
  {
   "cell_type": "code",
   "execution_count": 36,
   "id": "c0595592",
   "metadata": {},
   "outputs": [
    {
     "data": {
      "text/plain": [
       "(784, 10)"
      ]
     },
     "execution_count": 36,
     "metadata": {},
     "output_type": "execute_result"
    }
   ],
   "source": [
    "neural_network.coefs_[0].shape"
   ]
  },
  {
   "cell_type": "code",
   "execution_count": 37,
   "id": "82845960",
   "metadata": {},
   "outputs": [
    {
     "data": {
      "text/plain": [
       "(10, 10)"
      ]
     },
     "execution_count": 37,
     "metadata": {},
     "output_type": "execute_result"
    }
   ],
   "source": [
    "neural_network.coefs_[1].shape"
   ]
  }
 ],
 "metadata": {
  "kernelspec": {
   "display_name": "Python 3 (ipykernel)",
   "language": "python",
   "name": "python3"
  },
  "language_info": {
   "codemirror_mode": {
    "name": "ipython",
    "version": 3
   },
   "file_extension": ".py",
   "mimetype": "text/x-python",
   "name": "python",
   "nbconvert_exporter": "python",
   "pygments_lexer": "ipython3",
   "version": "3.9.5"
  }
 },
 "nbformat": 4,
 "nbformat_minor": 5
}